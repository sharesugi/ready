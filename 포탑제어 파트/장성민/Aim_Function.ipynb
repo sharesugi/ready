{
 "cells": [
  {
   "cell_type": "code",
   "execution_count": null,
   "id": "4942eef7-1d19-45ae-8013-745fe8f5092c",
   "metadata": {},
   "outputs": [],
   "source": [
    "# 목표 지점 조준 각도 계산 함수\n",
    "\n",
    "import math\n",
    "\n",
    "def calculate_turret_angles(tank_pos, target_pos, v0=57.9947, g=9.80665, h0=2.6369):\n",
    "    \"\"\"\n",
    "    tank_pos: {'x': float, 'y': float, 'z': float}\n",
    "    target_pos: {'x': float, 'y': float, 'z': float}\n",
    "    v0: 발사 속도\n",
    "    g: 중력 가속도\n",
    "    h0: 발사 높이 (터렛이 지면보다 위일 경우)\n",
    "    \"\"\"\n",
    "    dx = target_pos['x'] - tank_pos['x']\n",
    "    dy = target_pos['y'] - (tank_pos['y'] + h0)  # 목표와 포탄 출발 높이 차이\n",
    "    dz = target_pos['z'] - tank_pos['z']\n",
    "\n",
    "    # [1] Yaw 계산: 좌우 각도 (수평면 기준)\n",
    "    yaw_rad = math.atan2(dx, dz)\n",
    "    yaw_deg = math.degrees(yaw_rad)\n",
    "\n",
    "    # [2] Pitch 계산: 상하 각도 (포물선 궤도)\n",
    "    d_horiz = math.sqrt(dx ** 2 + dz ** 2)  # 수평 거리\n",
    "    v = v0\n",
    "    inside = v**4 - g * (g * d_horiz**2 + 2 * dy * v**2)\n",
    "\n",
    "    if inside < 0:\n",
    "        print(\"❌ 목표가 너무 멀거나 높음: 타격 불가능\")\n",
    "        return None, None\n",
    "\n",
    "    # 2개의 해가 존재할 수 있음 (고각, 저각) → 여기서는 '저각' 선택\n",
    "    pitch_rad = math.atan((v**2 - math.sqrt(inside)) / (g * d_horiz))\n",
    "    pitch_deg = math.degrees(pitch_rad)\n",
    "\n",
    "    return yaw_deg, pitch_deg"
   ]
  },
  {
   "cell_type": "code",
   "execution_count": null,
   "id": "53022282",
   "metadata": {},
   "outputs": [],
   "source": [
    "# 사용 예시\n",
    "\n",
    "tank_pos = {'x': 83.5489, 'y': 11.0180, 'z': 115.3220}\n",
    "target_pos = {'x': 60.0, 'y': 10.0, 'z': 280.0}\n",
    "\n",
    "yaw, pitch = calculate_turret_angles(tank_pos, target_pos)\n",
    "print(f\"🎯 조준해야 할 각도 → Yaw: {yaw:.2f}°, Pitch: {pitch:.2f}°\")"
   ]
  }
 ],
 "metadata": {
  "kernelspec": {
   "display_name": "tf_env",
   "language": "python",
   "name": "tf_env"
  },
  "language_info": {
   "codemirror_mode": {
    "name": "ipython",
    "version": 3
   },
   "file_extension": ".py",
   "mimetype": "text/x-python",
   "name": "python",
   "nbconvert_exporter": "python",
   "pygments_lexer": "ipython3",
   "version": "3.10.16"
  }
 },
 "nbformat": 4,
 "nbformat_minor": 5
}
