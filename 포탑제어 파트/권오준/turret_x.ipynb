{
 "cells": [
  {
   "cell_type": "code",
   "execution_count": 3,
   "id": "26f91e00-29ee-46b5-88a0-873eba50d731",
   "metadata": {},
   "outputs": [
    {
     "name": "stdout",
     "output_type": "stream",
     "text": [
      " * Serving Flask app '__main__'\n",
      " * Debug mode: off\n"
     ]
    },
    {
     "name": "stderr",
     "output_type": "stream",
     "text": [
      "\u001b[31m\u001b[1mWARNING: This is a development server. Do not use it in a production deployment. Use a production WSGI server instead.\u001b[0m\n",
      " * Running on all addresses (0.0.0.0)\n",
      " * Running on http://127.0.0.1:5000\n",
      " * Running on http://172.20.64.211:5000\n",
      "\u001b[33mPress CTRL+C to quit\u001b[0m\n",
      "127.0.0.1 - - [28/May/2025 12:48:51] \"POST /get_action HTTP/1.1\" 200 -\n"
     ]
    },
    {
     "name": "stdout",
     "output_type": "stream",
     "text": [
      "🔄 방향 전환: A for 6 ticks\n",
      "🚗 Position: (59.35, 27.23), Sent Command: {'moveWS': {'command': 'W', 'weight': 0.5}, 'moveAD': {'command': 'A', 'weight': 0.5}, 'turretQE': {'command': '', 'weight': 0.0}, 'turretRF': {'command': '', 'weight': 0.0}, 'fire': False}\n",
      "\n",
      "image 1/1 /home/kwon/jupyter_home/temp.jpg: 384x640 (no detections), 52.5ms\n",
      "Speed: 5.7ms preprocess, 52.5ms inference, 53.0ms postprocess per image at shape (1, 3, 384, 640)\n"
     ]
    },
    {
     "name": "stderr",
     "output_type": "stream",
     "text": [
      "127.0.0.1 - - [28/May/2025 12:48:53] \"POST /detect HTTP/1.1\" 200 -\n",
      "127.0.0.1 - - [28/May/2025 12:48:54] \"POST /get_action HTTP/1.1\" 200 -\n"
     ]
    },
    {
     "name": "stdout",
     "output_type": "stream",
     "text": [
      "🚗 Position: (59.32, 27.45), Sent Command: {'moveWS': {'command': 'W', 'weight': 0.5}, 'moveAD': {'command': 'A', 'weight': 0.5}, 'turretQE': {'command': '', 'weight': 0.0}, 'turretRF': {'command': '', 'weight': 0.0}, 'fire': False}\n",
      "\n",
      "image 1/1 /home/kwon/jupyter_home/temp.jpg: 384x640 (no detections), 50.7ms\n",
      "Speed: 1.4ms preprocess, 50.7ms inference, 0.6ms postprocess per image at shape (1, 3, 384, 640)\n"
     ]
    },
    {
     "name": "stderr",
     "output_type": "stream",
     "text": [
      "127.0.0.1 - - [28/May/2025 12:48:54] \"POST /detect HTTP/1.1\" 200 -\n",
      "127.0.0.1 - - [28/May/2025 12:48:54] \"POST /get_action HTTP/1.1\" 200 -\n"
     ]
    },
    {
     "name": "stdout",
     "output_type": "stream",
     "text": [
      "🚗 Position: (59.09, 28.13), Sent Command: {'moveWS': {'command': 'W', 'weight': 0.5}, 'moveAD': {'command': 'A', 'weight': 0.5}, 'turretQE': {'command': '', 'weight': 0.0}, 'turretRF': {'command': '', 'weight': 0.0}, 'fire': False}\n",
      "\n"
     ]
    },
    {
     "name": "stderr",
     "output_type": "stream",
     "text": [
      "127.0.0.1 - - [28/May/2025 12:48:55] \"POST /get_action HTTP/1.1\" 200 -\n"
     ]
    },
    {
     "name": "stdout",
     "output_type": "stream",
     "text": [
      "🚗 Position: (58.46, 29.16), Sent Command: {'moveWS': {'command': 'W', 'weight': 0.5}, 'moveAD': {'command': 'A', 'weight': 0.5}, 'turretQE': {'command': '', 'weight': 0.0}, 'turretRF': {'command': '', 'weight': 0.0}, 'fire': False}\n",
      "image 1/1 /home/kwon/jupyter_home/temp.jpg: 384x640 (no detections), 55.6ms\n",
      "Speed: 1.6ms preprocess, 55.6ms inference, 0.8ms postprocess per image at shape (1, 3, 384, 640)\n"
     ]
    },
    {
     "name": "stderr",
     "output_type": "stream",
     "text": [
      "127.0.0.1 - - [28/May/2025 12:48:55] \"POST /detect HTTP/1.1\" 200 -\n",
      "127.0.0.1 - - [28/May/2025 12:48:55] \"POST /get_action HTTP/1.1\" 200 -\n"
     ]
    },
    {
     "name": "stdout",
     "output_type": "stream",
     "text": [
      "🚗 Position: (57.26, 30.41), Sent Command: {'moveWS': {'command': 'W', 'weight': 0.5}, 'moveAD': {'command': 'A', 'weight': 0.5}, 'turretQE': {'command': '', 'weight': 0.0}, 'turretRF': {'command': '', 'weight': 0.0}, 'fire': False}\n",
      "\n",
      "image 1/1 /home/kwon/jupyter_home/temp.jpg: 384x640 (no detections), 53.1ms\n",
      "Speed: 1.6ms preprocess, 53.1ms inference, 0.7ms postprocess per image at shape (1, 3, 384, 640)\n"
     ]
    },
    {
     "name": "stderr",
     "output_type": "stream",
     "text": [
      "127.0.0.1 - - [28/May/2025 12:48:56] \"POST /detect HTTP/1.1\" 200 -\n",
      "127.0.0.1 - - [28/May/2025 12:48:56] \"POST /get_action HTTP/1.1\" 200 -\n"
     ]
    },
    {
     "name": "stdout",
     "output_type": "stream",
     "text": [
      "🚗 Position: (55.29, 31.67), Sent Command: {'moveWS': {'command': 'W', 'weight': 0.5}, 'moveAD': {'command': 'A', 'weight': 0.5}, 'turretQE': {'command': '', 'weight': 0.0}, 'turretRF': {'command': '', 'weight': 0.0}, 'fire': False}\n",
      "\n",
      "image 1/1 /home/kwon/jupyter_home/temp.jpg: 384x640 (no detections), 55.7ms\n",
      "Speed: 1.5ms preprocess, 55.7ms inference, 0.8ms postprocess per image at shape (1, 3, 384, 640)\n"
     ]
    },
    {
     "name": "stderr",
     "output_type": "stream",
     "text": [
      "127.0.0.1 - - [28/May/2025 12:48:56] \"POST /detect HTTP/1.1\" 200 -\n",
      "127.0.0.1 - - [28/May/2025 12:48:57] \"POST /get_action HTTP/1.1\" 200 -\n"
     ]
    },
    {
     "name": "stdout",
     "output_type": "stream",
     "text": [
      "🔄 방향 전환: W for 42 ticks\n",
      "🚗 Position: (52.68, 32.61), Sent Command: {'moveWS': {'command': 'W', 'weight': 0.5}, 'moveAD': {'command': '', 'weight': 0.0}, 'turretQE': {'command': '', 'weight': 0.0}, 'turretRF': {'command': '', 'weight': 0.0}, 'fire': False}\n",
      "\n",
      "image 1/1 /home/kwon/jupyter_home/temp.jpg: 384x640 (no detections), 53.0ms\n",
      "Speed: 1.4ms preprocess, 53.0ms inference, 0.6ms postprocess per image at shape (1, 3, 384, 640)\n"
     ]
    },
    {
     "name": "stderr",
     "output_type": "stream",
     "text": [
      "127.0.0.1 - - [28/May/2025 12:48:57] \"POST /detect HTTP/1.1\" 200 -\n",
      "127.0.0.1 - - [28/May/2025 12:48:57] \"POST /get_action HTTP/1.1\" 200 -\n"
     ]
    },
    {
     "name": "stdout",
     "output_type": "stream",
     "text": [
      "🚗 Position: (49.48, 33.31), Sent Command: {'moveWS': {'command': 'W', 'weight': 0.5}, 'moveAD': {'command': '', 'weight': 0.0}, 'turretQE': {'command': '', 'weight': 0.0}, 'turretRF': {'command': '', 'weight': 0.0}, 'fire': False}\n",
      "\n",
      "image 1/1 /home/kwon/jupyter_home/temp.jpg: 384x640 (no detections), 53.5ms\n",
      "Speed: 1.4ms preprocess, 53.5ms inference, 0.8ms postprocess per image at shape (1, 3, 384, 640)\n"
     ]
    },
    {
     "name": "stderr",
     "output_type": "stream",
     "text": [
      "127.0.0.1 - - [28/May/2025 12:48:58] \"POST /detect HTTP/1.1\" 200 -\n",
      "127.0.0.1 - - [28/May/2025 12:48:58] \"POST /get_action HTTP/1.1\" 200 -\n"
     ]
    },
    {
     "name": "stdout",
     "output_type": "stream",
     "text": [
      "🚗 Position: (45.71, 34.13), Sent Command: {'moveWS': {'command': 'W', 'weight': 0.5}, 'moveAD': {'command': '', 'weight': 0.0}, 'turretQE': {'command': '', 'weight': 0.0}, 'turretRF': {'command': '', 'weight': 0.0}, 'fire': False}\n",
      "\n",
      "image 1/1 /home/kwon/jupyter_home/temp.jpg: 384x640 (no detections), 49.4ms\n",
      "Speed: 1.5ms preprocess, 49.4ms inference, 0.6ms postprocess per image at shape (1, 3, 384, 640)\n"
     ]
    },
    {
     "name": "stderr",
     "output_type": "stream",
     "text": [
      "127.0.0.1 - - [28/May/2025 12:48:59] \"POST /detect HTTP/1.1\" 200 -\n",
      "127.0.0.1 - - [28/May/2025 12:48:59] \"POST /get_action HTTP/1.1\" 200 -\n"
     ]
    },
    {
     "name": "stdout",
     "output_type": "stream",
     "text": [
      "🚗 Position: (41.63, 35.03), Sent Command: {'moveWS': {'command': 'W', 'weight': 0.5}, 'moveAD': {'command': '', 'weight': 0.0}, 'turretQE': {'command': '', 'weight': 0.0}, 'turretRF': {'command': '', 'weight': 0.0}, 'fire': False}\n",
      "\n",
      "image 1/1 /home/kwon/jupyter_home/temp.jpg: 384x640 (no detections), 50.5ms\n",
      "Speed: 1.6ms preprocess, 50.5ms inference, 0.7ms postprocess per image at shape (1, 3, 384, 640)\n"
     ]
    },
    {
     "name": "stderr",
     "output_type": "stream",
     "text": [
      "127.0.0.1 - - [28/May/2025 12:48:59] \"POST /detect HTTP/1.1\" 200 -\n",
      "127.0.0.1 - - [28/May/2025 12:48:59] \"POST /get_action HTTP/1.1\" 200 -\n"
     ]
    },
    {
     "name": "stdout",
     "output_type": "stream",
     "text": [
      "🚗 Position: (36.91, 36.06), Sent Command: {'moveWS': {'command': 'W', 'weight': 0.5}, 'moveAD': {'command': '', 'weight': 0.0}, 'turretQE': {'command': '', 'weight': 0.0}, 'turretRF': {'command': '', 'weight': 0.0}, 'fire': False}\n",
      "\n",
      "image 1/1 /home/kwon/jupyter_home/temp.jpg: 384x640 (no detections), 51.0ms\n",
      "Speed: 1.7ms preprocess, 51.0ms inference, 2.0ms postprocess per image at shape (1, 3, 384, 640)\n"
     ]
    },
    {
     "name": "stderr",
     "output_type": "stream",
     "text": [
      "127.0.0.1 - - [28/May/2025 12:49:00] \"POST /detect HTTP/1.1\" 200 -\n",
      "127.0.0.1 - - [28/May/2025 12:49:00] \"POST /get_action HTTP/1.1\" 200 -\n"
     ]
    },
    {
     "name": "stdout",
     "output_type": "stream",
     "text": [
      "🚗 Position: (31.71, 37.2), Sent Command: {'moveWS': {'command': 'W', 'weight': 0.5}, 'moveAD': {'command': '', 'weight': 0.0}, 'turretQE': {'command': '', 'weight': 0.0}, 'turretRF': {'command': '', 'weight': 0.0}, 'fire': False}\n",
      "\n",
      "image 1/1 /home/kwon/jupyter_home/temp.jpg: 384x640 (no detections), 53.8ms\n",
      "Speed: 1.9ms preprocess, 53.8ms inference, 4.0ms postprocess per image at shape (1, 3, 384, 640)\n"
     ]
    },
    {
     "name": "stderr",
     "output_type": "stream",
     "text": [
      "127.0.0.1 - - [28/May/2025 12:49:01] \"POST /detect HTTP/1.1\" 200 -\n",
      "127.0.0.1 - - [28/May/2025 12:49:01] \"POST /get_action HTTP/1.1\" 200 -\n"
     ]
    },
    {
     "name": "stdout",
     "output_type": "stream",
     "text": [
      "🚗 Position: (26.14, 38.42), Sent Command: {'moveWS': {'command': 'W', 'weight': 0.5}, 'moveAD': {'command': '', 'weight': 0.0}, 'turretQE': {'command': '', 'weight': 0.0}, 'turretRF': {'command': '', 'weight': 0.0}, 'fire': False}\n",
      "\n"
     ]
    },
    {
     "name": "stderr",
     "output_type": "stream",
     "text": [
      "127.0.0.1 - - [28/May/2025 12:49:01] \"POST /get_action HTTP/1.1\" 200 -\n"
     ]
    },
    {
     "name": "stdout",
     "output_type": "stream",
     "text": [
      "🚗 Position: (20.09, 39.74), Sent Command: {'moveWS': {'command': 'W', 'weight': 0.5}, 'moveAD': {'command': '', 'weight': 0.0}, 'turretQE': {'command': '', 'weight': 0.0}, 'turretRF': {'command': '', 'weight': 0.0}, 'fire': False}\n",
      "image 1/1 /home/kwon/jupyter_home/temp.jpg: 384x640 (no detections), 55.0ms\n",
      "Speed: 1.5ms preprocess, 55.0ms inference, 1.8ms postprocess per image at shape (1, 3, 384, 640)\n"
     ]
    },
    {
     "name": "stderr",
     "output_type": "stream",
     "text": [
      "127.0.0.1 - - [28/May/2025 12:49:01] \"POST /detect HTTP/1.1\" 200 -\n",
      "127.0.0.1 - - [28/May/2025 12:49:02] \"POST /get_action HTTP/1.1\" 200 -\n"
     ]
    },
    {
     "name": "stdout",
     "output_type": "stream",
     "text": [
      "🚗 Position: (13.8, 41.12), Sent Command: {'moveWS': {'command': 'W', 'weight': 0.5}, 'moveAD': {'command': '', 'weight': 0.0}, 'turretQE': {'command': '', 'weight': 0.0}, 'turretRF': {'command': '', 'weight': 0.0}, 'fire': False}\n",
      "\n",
      "image 1/1 /home/kwon/jupyter_home/temp.jpg: 384x640 (no detections), 45.2ms\n",
      "Speed: 1.6ms preprocess, 45.2ms inference, 0.6ms postprocess per image at shape (1, 3, 384, 640)\n"
     ]
    },
    {
     "name": "stderr",
     "output_type": "stream",
     "text": [
      "127.0.0.1 - - [28/May/2025 12:49:02] \"POST /detect HTTP/1.1\" 200 -\n",
      "127.0.0.1 - - [28/May/2025 12:49:03] \"POST /get_action HTTP/1.1\" 200 -\n"
     ]
    },
    {
     "name": "stdout",
     "output_type": "stream",
     "text": [
      "🧱 벽 감지: 회전 → A for 6 ticks\n",
      "🚗 Position: (7.65, 42.46), Sent Command: {'moveWS': {'command': 'W', 'weight': 0.5}, 'moveAD': {'command': 'A', 'weight': 0.5}, 'turretQE': {'command': '', 'weight': 0.0}, 'turretRF': {'command': '', 'weight': 0.0}, 'fire': False}\n",
      "\n",
      "image 1/1 /home/kwon/jupyter_home/temp.jpg: 384x640 (no detections), 73.5ms\n",
      "Speed: 2.2ms preprocess, 73.5ms inference, 0.9ms postprocess per image at shape (1, 3, 384, 640)\n"
     ]
    },
    {
     "name": "stderr",
     "output_type": "stream",
     "text": [
      "127.0.0.1 - - [28/May/2025 12:49:03] \"POST /detect HTTP/1.1\" 200 -\n",
      "127.0.0.1 - - [28/May/2025 12:49:03] \"POST /get_action HTTP/1.1\" 200 -\n"
     ]
    },
    {
     "name": "stdout",
     "output_type": "stream",
     "text": [
      "🚗 Position: (1.47, 43.19), Sent Command: {'moveWS': {'command': 'W', 'weight': 0.5}, 'moveAD': {'command': 'A', 'weight': 0.5}, 'turretQE': {'command': '', 'weight': 0.0}, 'turretRF': {'command': '', 'weight': 0.0}, 'fire': False}\n",
      "\n",
      "image 1/1 /home/kwon/jupyter_home/temp.jpg: 384x640 (no detections), 53.0ms\n",
      "Speed: 2.5ms preprocess, 53.0ms inference, 0.7ms postprocess per image at shape (1, 3, 384, 640)\n"
     ]
    },
    {
     "name": "stderr",
     "output_type": "stream",
     "text": [
      "127.0.0.1 - - [28/May/2025 12:49:04] \"POST /detect HTTP/1.1\" 200 -\n",
      "127.0.0.1 - - [28/May/2025 12:49:04] \"POST /get_action HTTP/1.1\" 200 -\n"
     ]
    },
    {
     "name": "stdout",
     "output_type": "stream",
     "text": [
      "🚗 Position: (0.0, 42.51), Sent Command: {'moveWS': {'command': 'W', 'weight': 0.5}, 'moveAD': {'command': 'A', 'weight': 0.5}, 'turretQE': {'command': '', 'weight': 0.0}, 'turretRF': {'command': '', 'weight': 0.0}, 'fire': False}\n",
      "\n",
      "image 1/1 /home/kwon/jupyter_home/temp.jpg: 384x640 (no detections), 51.8ms\n",
      "Speed: 1.5ms preprocess, 51.8ms inference, 0.7ms postprocess per image at shape (1, 3, 384, 640)\n"
     ]
    },
    {
     "name": "stderr",
     "output_type": "stream",
     "text": [
      "127.0.0.1 - - [28/May/2025 12:49:04] \"POST /detect HTTP/1.1\" 200 -\n",
      "127.0.0.1 - - [28/May/2025 12:49:05] \"POST /get_action HTTP/1.1\" 200 -\n"
     ]
    },
    {
     "name": "stdout",
     "output_type": "stream",
     "text": [
      "🚗 Position: (0.0, 40.46), Sent Command: {'moveWS': {'command': 'W', 'weight': 0.5}, 'moveAD': {'command': 'A', 'weight': 0.5}, 'turretQE': {'command': '', 'weight': 0.0}, 'turretRF': {'command': '', 'weight': 0.0}, 'fire': False}\n",
      "\n",
      "image 1/1 /home/kwon/jupyter_home/temp.jpg: 384x640 (no detections), 44.9ms\n",
      "Speed: 1.5ms preprocess, 44.9ms inference, 0.7ms postprocess per image at shape (1, 3, 384, 640)\n"
     ]
    },
    {
     "name": "stderr",
     "output_type": "stream",
     "text": [
      "127.0.0.1 - - [28/May/2025 12:49:05] \"POST /detect HTTP/1.1\" 200 -\n",
      "127.0.0.1 - - [28/May/2025 12:49:05] \"POST /get_action HTTP/1.1\" 200 -\n"
     ]
    },
    {
     "name": "stdout",
     "output_type": "stream",
     "text": [
      "🚗 Position: (0.0, 37.18), Sent Command: {'moveWS': {'command': 'W', 'weight': 0.5}, 'moveAD': {'command': 'A', 'weight': 0.5}, 'turretQE': {'command': '', 'weight': 0.0}, 'turretRF': {'command': '', 'weight': 0.0}, 'fire': False}\n",
      "\n",
      "image 1/1 /home/kwon/jupyter_home/temp.jpg: 384x640 (no detections), 51.1ms\n",
      "Speed: 1.6ms preprocess, 51.1ms inference, 0.8ms postprocess per image at shape (1, 3, 384, 640)\n"
     ]
    },
    {
     "name": "stderr",
     "output_type": "stream",
     "text": [
      "127.0.0.1 - - [28/May/2025 12:49:06] \"POST /detect HTTP/1.1\" 200 -\n",
      "127.0.0.1 - - [28/May/2025 12:49:06] \"POST /get_action HTTP/1.1\" 200 -\n"
     ]
    },
    {
     "name": "stdout",
     "output_type": "stream",
     "text": [
      "🚗 Position: (0.0, 32.75), Sent Command: {'moveWS': {'command': 'W', 'weight': 0.5}, 'moveAD': {'command': '', 'weight': 0.0}, 'turretQE': {'command': '', 'weight': 0.0}, 'turretRF': {'command': '', 'weight': 0.0}, 'fire': False}\n",
      "\n",
      "image 1/1 /home/kwon/jupyter_home/temp.jpg: 384x640 (no detections), 53.3ms\n",
      "Speed: 2.5ms preprocess, 53.3ms inference, 1.6ms postprocess per image at shape (1, 3, 384, 640)\n"
     ]
    },
    {
     "name": "stderr",
     "output_type": "stream",
     "text": [
      "127.0.0.1 - - [28/May/2025 12:49:06] \"POST /detect HTTP/1.1\" 200 -\n",
      "127.0.0.1 - - [28/May/2025 12:49:07] \"POST /get_action HTTP/1.1\" 200 -\n"
     ]
    },
    {
     "name": "stdout",
     "output_type": "stream",
     "text": [
      "🧱 벽 감지: 회전 → D for 7 ticks\n",
      "🚗 Position: (0.0, 27.88), Sent Command: {'moveWS': {'command': 'W', 'weight': 0.5}, 'moveAD': {'command': 'D', 'weight': 0.5}, 'turretQE': {'command': '', 'weight': 0.0}, 'turretRF': {'command': '', 'weight': 0.0}, 'fire': False}\n",
      "\n",
      "image 1/1 /home/kwon/jupyter_home/temp.jpg: 384x640 (no detections), 48.1ms\n",
      "Speed: 1.5ms preprocess, 48.1ms inference, 0.7ms postprocess per image at shape (1, 3, 384, 640)\n"
     ]
    },
    {
     "name": "stderr",
     "output_type": "stream",
     "text": [
      "127.0.0.1 - - [28/May/2025 12:49:07] \"POST /detect HTTP/1.1\" 200 -\n",
      "127.0.0.1 - - [28/May/2025 12:49:07] \"POST /get_action HTTP/1.1\" 200 -\n"
     ]
    },
    {
     "name": "stdout",
     "output_type": "stream",
     "text": [
      "🚗 Position: (0.0, 23.33), Sent Command: {'moveWS': {'command': 'W', 'weight': 0.5}, 'moveAD': {'command': 'D', 'weight': 0.5}, 'turretQE': {'command': '', 'weight': 0.0}, 'turretRF': {'command': '', 'weight': 0.0}, 'fire': False}\n",
      "\n"
     ]
    },
    {
     "name": "stderr",
     "output_type": "stream",
     "text": [
      "127.0.0.1 - - [28/May/2025 12:49:08] \"POST /get_action HTTP/1.1\" 200 -\n"
     ]
    },
    {
     "name": "stdout",
     "output_type": "stream",
     "text": [
      "🚗 Position: (0.0, 19.96), Sent Command: {'moveWS': {'command': 'W', 'weight': 0.5}, 'moveAD': {'command': 'D', 'weight': 0.5}, 'turretQE': {'command': '', 'weight': 0.0}, 'turretRF': {'command': '', 'weight': 0.0}, 'fire': False}\n",
      "image 1/1 /home/kwon/jupyter_home/temp.jpg: 384x640 (no detections), 56.3ms\n",
      "Speed: 2.0ms preprocess, 56.3ms inference, 0.6ms postprocess per image at shape (1, 3, 384, 640)\n"
     ]
    },
    {
     "name": "stderr",
     "output_type": "stream",
     "text": [
      "127.0.0.1 - - [28/May/2025 12:49:08] \"POST /detect HTTP/1.1\" 200 -\n",
      "127.0.0.1 - - [28/May/2025 12:49:08] \"POST /get_action HTTP/1.1\" 200 -\n"
     ]
    },
    {
     "name": "stdout",
     "output_type": "stream",
     "text": [
      "🚗 Position: (0.0, 17.67), Sent Command: {'moveWS': {'command': 'W', 'weight': 0.5}, 'moveAD': {'command': 'D', 'weight': 0.5}, 'turretQE': {'command': '', 'weight': 0.0}, 'turretRF': {'command': '', 'weight': 0.0}, 'fire': False}\n",
      "\n",
      "image 1/1 /home/kwon/jupyter_home/temp.jpg: 384x640 (no detections), 55.2ms\n",
      "Speed: 1.5ms preprocess, 55.2ms inference, 0.6ms postprocess per image at shape (1, 3, 384, 640)\n"
     ]
    },
    {
     "name": "stderr",
     "output_type": "stream",
     "text": [
      "127.0.0.1 - - [28/May/2025 12:49:09] \"POST /detect HTTP/1.1\" 200 -\n",
      "127.0.0.1 - - [28/May/2025 12:49:09] \"POST /get_action HTTP/1.1\" 200 -\n"
     ]
    },
    {
     "name": "stdout",
     "output_type": "stream",
     "text": [
      "🚗 Position: (0.0, 16.78), Sent Command: {'moveWS': {'command': 'W', 'weight': 0.5}, 'moveAD': {'command': 'D', 'weight': 0.5}, 'turretQE': {'command': '', 'weight': 0.0}, 'turretRF': {'command': '', 'weight': 0.0}, 'fire': False}\n",
      "\n",
      "image 1/1 /home/kwon/jupyter_home/temp.jpg: 384x640 (no detections), 47.7ms\n",
      "Speed: 1.5ms preprocess, 47.7ms inference, 1.3ms postprocess per image at shape (1, 3, 384, 640)\n"
     ]
    },
    {
     "name": "stderr",
     "output_type": "stream",
     "text": [
      "127.0.0.1 - - [28/May/2025 12:49:09] \"POST /detect HTTP/1.1\" 200 -\n",
      "127.0.0.1 - - [28/May/2025 12:49:10] \"POST /get_action HTTP/1.1\" 200 -\n"
     ]
    },
    {
     "name": "stdout",
     "output_type": "stream",
     "text": [
      "🚗 Position: (0.0, 17.29), Sent Command: {'moveWS': {'command': 'W', 'weight': 0.5}, 'moveAD': {'command': 'D', 'weight': 0.5}, 'turretQE': {'command': '', 'weight': 0.0}, 'turretRF': {'command': '', 'weight': 0.0}, 'fire': False}\n",
      "\n",
      "image 1/1 /home/kwon/jupyter_home/temp.jpg: 384x640 (no detections), 45.2ms\n",
      "Speed: 1.8ms preprocess, 45.2ms inference, 0.7ms postprocess per image at shape (1, 3, 384, 640)\n"
     ]
    },
    {
     "name": "stderr",
     "output_type": "stream",
     "text": [
      "127.0.0.1 - - [28/May/2025 12:49:10] \"POST /detect HTTP/1.1\" 200 -\n",
      "127.0.0.1 - - [28/May/2025 12:49:10] \"POST /get_action HTTP/1.1\" 200 -\n"
     ]
    },
    {
     "name": "stdout",
     "output_type": "stream",
     "text": [
      "🚗 Position: (0.0, 19.19), Sent Command: {'moveWS': {'command': 'W', 'weight': 0.5}, 'moveAD': {'command': '', 'weight': 0.0}, 'turretQE': {'command': '', 'weight': 0.0}, 'turretRF': {'command': '', 'weight': 0.0}, 'fire': False}\n",
      "\n",
      "image 1/1 /home/kwon/jupyter_home/temp.jpg: 384x640 (no detections), 50.9ms\n",
      "Speed: 1.5ms preprocess, 50.9ms inference, 1.4ms postprocess per image at shape (1, 3, 384, 640)\n"
     ]
    },
    {
     "name": "stderr",
     "output_type": "stream",
     "text": [
      "127.0.0.1 - - [28/May/2025 12:49:11] \"POST /detect HTTP/1.1\" 200 -\n",
      "127.0.0.1 - - [28/May/2025 12:49:11] \"POST /get_action HTTP/1.1\" 200 -\n"
     ]
    },
    {
     "name": "stdout",
     "output_type": "stream",
     "text": [
      "🧱 벽 감지: 회전 → A for 9 ticks\n",
      "🚗 Position: (0.0, 21.8), Sent Command: {'moveWS': {'command': 'W', 'weight': 0.5}, 'moveAD': {'command': 'A', 'weight': 0.5}, 'turretQE': {'command': '', 'weight': 0.0}, 'turretRF': {'command': '', 'weight': 0.0}, 'fire': False}\n",
      "\n",
      "image 1/1 /home/kwon/jupyter_home/temp.jpg: 384x640 (no detections), 56.7ms\n",
      "Speed: 1.5ms preprocess, 56.7ms inference, 0.7ms postprocess per image at shape (1, 3, 384, 640)\n"
     ]
    },
    {
     "name": "stderr",
     "output_type": "stream",
     "text": [
      "127.0.0.1 - - [28/May/2025 12:49:11] \"POST /detect HTTP/1.1\" 200 -\n",
      "127.0.0.1 - - [28/May/2025 12:49:12] \"POST /get_action HTTP/1.1\" 200 -\n"
     ]
    },
    {
     "name": "stdout",
     "output_type": "stream",
     "text": [
      "🚗 Position: (0.0, 23.87), Sent Command: {'moveWS': {'command': 'W', 'weight': 0.5}, 'moveAD': {'command': 'A', 'weight': 0.5}, 'turretQE': {'command': '', 'weight': 0.0}, 'turretRF': {'command': '', 'weight': 0.0}, 'fire': False}\n",
      "\n",
      "image 1/1 /home/kwon/jupyter_home/temp.jpg: 384x640 (no detections), 46.6ms\n",
      "Speed: 1.4ms preprocess, 46.6ms inference, 0.8ms postprocess per image at shape (1, 3, 384, 640)\n"
     ]
    },
    {
     "name": "stderr",
     "output_type": "stream",
     "text": [
      "127.0.0.1 - - [28/May/2025 12:49:12] \"POST /detect HTTP/1.1\" 200 -\n",
      "127.0.0.1 - - [28/May/2025 12:49:12] \"POST /get_action HTTP/1.1\" 200 -\n"
     ]
    },
    {
     "name": "stdout",
     "output_type": "stream",
     "text": [
      "🚗 Position: (0.0, 24.6), Sent Command: {'moveWS': {'command': 'W', 'weight': 0.5}, 'moveAD': {'command': 'A', 'weight': 0.5}, 'turretQE': {'command': '', 'weight': 0.0}, 'turretRF': {'command': '', 'weight': 0.0}, 'fire': False}\n",
      "\n",
      "image 1/1 /home/kwon/jupyter_home/temp.jpg: 384x640 (no detections), 48.5ms\n",
      "Speed: 1.4ms preprocess, 48.5ms inference, 3.0ms postprocess per image at shape (1, 3, 384, 640)\n"
     ]
    },
    {
     "name": "stderr",
     "output_type": "stream",
     "text": [
      "127.0.0.1 - - [28/May/2025 12:49:13] \"POST /detect HTTP/1.1\" 200 -\n"
     ]
    },
    {
     "name": "stdout",
     "output_type": "stream",
     "text": [
      "🚗 Position: (0.0, 23.88), Sent Command: {'moveWS': {'command': 'W', 'weight': 0.5}, 'moveAD': {'command': 'A', 'weight': 0.5}, 'turretQE': {'command': '', 'weight': 0.0}, 'turretRF': {'command': '', 'weight': 0.0}, 'fire': False}\n"
     ]
    },
    {
     "name": "stderr",
     "output_type": "stream",
     "text": [
      "127.0.0.1 - - [28/May/2025 12:49:13] \"POST /get_action HTTP/1.1\" 200 -\n"
     ]
    },
    {
     "name": "stdout",
     "output_type": "stream",
     "text": [
      "\n",
      "image 1/1 /home/kwon/jupyter_home/temp.jpg: 384x640 (no detections), 46.5ms\n",
      "Speed: 1.5ms preprocess, 46.5ms inference, 0.6ms postprocess per image at shape (1, 3, 384, 640)\n"
     ]
    },
    {
     "name": "stderr",
     "output_type": "stream",
     "text": [
      "127.0.0.1 - - [28/May/2025 12:49:13] \"POST /detect HTTP/1.1\" 200 -\n",
      "127.0.0.1 - - [28/May/2025 12:49:14] \"POST /get_action HTTP/1.1\" 200 -\n"
     ]
    },
    {
     "name": "stdout",
     "output_type": "stream",
     "text": [
      "🚗 Position: (0.0, 21.81), Sent Command: {'moveWS': {'command': 'W', 'weight': 0.5}, 'moveAD': {'command': 'A', 'weight': 0.5}, 'turretQE': {'command': '', 'weight': 0.0}, 'turretRF': {'command': '', 'weight': 0.0}, 'fire': False}\n",
      "\n",
      "image 1/1 /home/kwon/jupyter_home/temp.jpg: 384x640 (no detections), 71.2ms\n",
      "Speed: 2.7ms preprocess, 71.2ms inference, 1.0ms postprocess per image at shape (1, 3, 384, 640)\n"
     ]
    },
    {
     "name": "stderr",
     "output_type": "stream",
     "text": [
      "127.0.0.1 - - [28/May/2025 12:49:14] \"POST /detect HTTP/1.1\" 200 -\n",
      "127.0.0.1 - - [28/May/2025 12:49:14] \"POST /get_action HTTP/1.1\" 200 -\n"
     ]
    },
    {
     "name": "stdout",
     "output_type": "stream",
     "text": [
      "🚗 Position: (0.0, 18.47), Sent Command: {'moveWS': {'command': 'W', 'weight': 0.5}, 'moveAD': {'command': 'A', 'weight': 0.5}, 'turretQE': {'command': '', 'weight': 0.0}, 'turretRF': {'command': '', 'weight': 0.0}, 'fire': False}\n"
     ]
    },
    {
     "name": "stderr",
     "output_type": "stream",
     "text": [
      "127.0.0.1 - - [28/May/2025 12:49:15] \"POST /get_action HTTP/1.1\" 200 -\n"
     ]
    },
    {
     "name": "stdout",
     "output_type": "stream",
     "text": [
      "🚗 Position: (0.0, 14.03), Sent Command: {'moveWS': {'command': 'W', 'weight': 0.5}, 'moveAD': {'command': 'A', 'weight': 0.5}, 'turretQE': {'command': '', 'weight': 0.0}, 'turretRF': {'command': '', 'weight': 0.0}, 'fire': False}\n",
      "\n",
      "image 1/1 /home/kwon/jupyter_home/temp.jpg: 384x640 (no detections), 44.9ms\n",
      "Speed: 1.4ms preprocess, 44.9ms inference, 1.0ms postprocess per image at shape (1, 3, 384, 640)\n"
     ]
    },
    {
     "name": "stderr",
     "output_type": "stream",
     "text": [
      "127.0.0.1 - - [28/May/2025 12:49:15] \"POST /detect HTTP/1.1\" 200 -\n",
      "127.0.0.1 - - [28/May/2025 12:49:16] \"POST /get_action HTTP/1.1\" 200 -\n"
     ]
    },
    {
     "name": "stdout",
     "output_type": "stream",
     "text": [
      "🚗 Position: (0.0, 8.51), Sent Command: {'moveWS': {'command': 'W', 'weight': 0.5}, 'moveAD': {'command': 'A', 'weight': 0.5}, 'turretQE': {'command': '', 'weight': 0.0}, 'turretRF': {'command': '', 'weight': 0.0}, 'fire': False}\n",
      "\n",
      "image 1/1 /home/kwon/jupyter_home/temp.jpg: 384x640 (no detections), 55.9ms\n",
      "Speed: 1.5ms preprocess, 55.9ms inference, 1.3ms postprocess per image at shape (1, 3, 384, 640)\n"
     ]
    },
    {
     "name": "stderr",
     "output_type": "stream",
     "text": [
      "127.0.0.1 - - [28/May/2025 12:49:16] \"POST /detect HTTP/1.1\" 200 -\n",
      "127.0.0.1 - - [28/May/2025 12:49:16] \"POST /get_action HTTP/1.1\" 200 -\n"
     ]
    },
    {
     "name": "stdout",
     "output_type": "stream",
     "text": [
      "🚗 Position: (0.0, 2.68), Sent Command: {'moveWS': {'command': 'W', 'weight': 0.5}, 'moveAD': {'command': '', 'weight': 0.0}, 'turretQE': {'command': '', 'weight': 0.0}, 'turretRF': {'command': '', 'weight': 0.0}, 'fire': False}\n",
      "\n",
      "image 1/1 /home/kwon/jupyter_home/temp.jpg: 384x640 (no detections), 47.1ms\n",
      "Speed: 1.5ms preprocess, 47.1ms inference, 0.7ms postprocess per image at shape (1, 3, 384, 640)\n"
     ]
    },
    {
     "name": "stderr",
     "output_type": "stream",
     "text": [
      "127.0.0.1 - - [28/May/2025 12:49:16] \"POST /detect HTTP/1.1\" 200 -\n",
      "127.0.0.1 - - [28/May/2025 12:49:17] \"POST /get_action HTTP/1.1\" 200 -\n"
     ]
    },
    {
     "name": "stdout",
     "output_type": "stream",
     "text": [
      "🧱 벽 감지: 회전 → A for 9 ticks\n",
      "🚗 Position: (0.0, 0.0), Sent Command: {'moveWS': {'command': 'W', 'weight': 0.5}, 'moveAD': {'command': 'A', 'weight': 0.5}, 'turretQE': {'command': '', 'weight': 0.0}, 'turretRF': {'command': '', 'weight': 0.0}, 'fire': False}\n",
      "\n",
      "image 1/1 /home/kwon/jupyter_home/temp.jpg: 384x640 (no detections), 51.0ms\n",
      "Speed: 1.5ms preprocess, 51.0ms inference, 0.8ms postprocess per image at shape (1, 3, 384, 640)\n"
     ]
    },
    {
     "name": "stderr",
     "output_type": "stream",
     "text": [
      "127.0.0.1 - - [28/May/2025 12:49:17] \"POST /detect HTTP/1.1\" 200 -\n",
      "127.0.0.1 - - [28/May/2025 12:49:17] \"POST /get_action HTTP/1.1\" 200 -\n"
     ]
    },
    {
     "name": "stdout",
     "output_type": "stream",
     "text": [
      "🚗 Position: (0.0, 0.0), Sent Command: {'moveWS': {'command': 'W', 'weight': 0.5}, 'moveAD': {'command': 'A', 'weight': 0.5}, 'turretQE': {'command': '', 'weight': 0.0}, 'turretRF': {'command': '', 'weight': 0.0}, 'fire': False}\n",
      "\n",
      "image 1/1 /home/kwon/jupyter_home/temp.jpg: 384x640 (no detections), 51.8ms\n",
      "Speed: 1.5ms preprocess, 51.8ms inference, 1.2ms postprocess per image at shape (1, 3, 384, 640)\n"
     ]
    },
    {
     "name": "stderr",
     "output_type": "stream",
     "text": [
      "127.0.0.1 - - [28/May/2025 12:49:18] \"POST /detect HTTP/1.1\" 200 -\n",
      "127.0.0.1 - - [28/May/2025 12:49:18] \"POST /get_action HTTP/1.1\" 200 -\n"
     ]
    },
    {
     "name": "stdout",
     "output_type": "stream",
     "text": [
      "🚗 Position: (0.75, 0.0), Sent Command: {'moveWS': {'command': 'W', 'weight': 0.5}, 'moveAD': {'command': 'A', 'weight': 0.5}, 'turretQE': {'command': '', 'weight': 0.0}, 'turretRF': {'command': '', 'weight': 0.0}, 'fire': False}\n",
      "\n",
      "image 1/1 /home/kwon/jupyter_home/temp.jpg: 384x640 (no detections), 50.1ms\n",
      "Speed: 1.5ms preprocess, 50.1ms inference, 0.6ms postprocess per image at shape (1, 3, 384, 640)\n"
     ]
    },
    {
     "name": "stderr",
     "output_type": "stream",
     "text": [
      "127.0.0.1 - - [28/May/2025 12:49:18] \"POST /detect HTTP/1.1\" 200 -\n",
      "127.0.0.1 - - [28/May/2025 12:49:19] \"POST /get_action HTTP/1.1\" 200 -\n"
     ]
    },
    {
     "name": "stdout",
     "output_type": "stream",
     "text": [
      "🚗 Position: (2.88, 0.0), Sent Command: {'moveWS': {'command': 'W', 'weight': 0.5}, 'moveAD': {'command': 'A', 'weight': 0.5}, 'turretQE': {'command': '', 'weight': 0.0}, 'turretRF': {'command': '', 'weight': 0.0}, 'fire': False}\n",
      "\n",
      "image 1/1 /home/kwon/jupyter_home/temp.jpg: 384x640 (no detections), 49.1ms\n",
      "Speed: 1.5ms preprocess, 49.1ms inference, 0.7ms postprocess per image at shape (1, 3, 384, 640)\n"
     ]
    },
    {
     "name": "stderr",
     "output_type": "stream",
     "text": [
      "127.0.0.1 - - [28/May/2025 12:49:19] \"POST /detect HTTP/1.1\" 200 -\n",
      "127.0.0.1 - - [28/May/2025 12:49:19] \"POST /get_action HTTP/1.1\" 200 -\n"
     ]
    },
    {
     "name": "stdout",
     "output_type": "stream",
     "text": [
      "🚗 Position: (6.27, 0.0), Sent Command: {'moveWS': {'command': 'W', 'weight': 0.5}, 'moveAD': {'command': 'A', 'weight': 0.5}, 'turretQE': {'command': '', 'weight': 0.0}, 'turretRF': {'command': '', 'weight': 0.0}, 'fire': False}\n",
      "\n",
      "image 1/1 /home/kwon/jupyter_home/temp.jpg: 384x640 (no detections), 88.0ms\n",
      "Speed: 2.0ms preprocess, 88.0ms inference, 0.9ms postprocess per image at shape (1, 3, 384, 640)\n"
     ]
    },
    {
     "name": "stderr",
     "output_type": "stream",
     "text": [
      "127.0.0.1 - - [28/May/2025 12:49:20] \"POST /detect HTTP/1.1\" 200 -\n",
      "127.0.0.1 - - [28/May/2025 12:49:20] \"POST /get_action HTTP/1.1\" 200 -\n"
     ]
    },
    {
     "name": "stdout",
     "output_type": "stream",
     "text": [
      "🚗 Position: (10.76, 0.0), Sent Command: {'moveWS': {'command': 'W', 'weight': 0.5}, 'moveAD': {'command': 'A', 'weight': 0.5}, 'turretQE': {'command': '', 'weight': 0.0}, 'turretRF': {'command': '', 'weight': 0.0}, 'fire': False}\n",
      "\n",
      "image 1/1 /home/kwon/jupyter_home/temp.jpg: 384x640 (no detections), 50.5ms\n",
      "Speed: 1.4ms preprocess, 50.5ms inference, 0.7ms postprocess per image at shape (1, 3, 384, 640)\n"
     ]
    },
    {
     "name": "stderr",
     "output_type": "stream",
     "text": [
      "127.0.0.1 - - [28/May/2025 12:49:21] \"POST /detect HTTP/1.1\" 200 -\n",
      "127.0.0.1 - - [28/May/2025 12:49:21] \"POST /get_action HTTP/1.1\" 200 -\n"
     ]
    },
    {
     "name": "stdout",
     "output_type": "stream",
     "text": [
      "🚗 Position: (16.08, 0.0), Sent Command: {'moveWS': {'command': 'W', 'weight': 0.5}, 'moveAD': {'command': 'A', 'weight': 0.5}, 'turretQE': {'command': '', 'weight': 0.0}, 'turretRF': {'command': '', 'weight': 0.0}, 'fire': False}\n",
      "\n"
     ]
    },
    {
     "name": "stderr",
     "output_type": "stream",
     "text": [
      "127.0.0.1 - - [28/May/2025 12:49:21] \"POST /get_action HTTP/1.1\" 200 -\n"
     ]
    },
    {
     "name": "stdout",
     "output_type": "stream",
     "text": [
      "🚗 Position: (21.95, 0.0), Sent Command: {'moveWS': {'command': 'W', 'weight': 0.5}, 'moveAD': {'command': 'A', 'weight': 0.5}, 'turretQE': {'command': '', 'weight': 0.0}, 'turretRF': {'command': '', 'weight': 0.0}, 'fire': False}\n",
      "image 1/1 /home/kwon/jupyter_home/temp.jpg: 384x640 (no detections), 59.6ms\n",
      "Speed: 1.5ms preprocess, 59.6ms inference, 1.0ms postprocess per image at shape (1, 3, 384, 640)\n"
     ]
    },
    {
     "name": "stderr",
     "output_type": "stream",
     "text": [
      "127.0.0.1 - - [28/May/2025 12:49:21] \"POST /detect HTTP/1.1\" 200 -\n",
      "127.0.0.1 - - [28/May/2025 12:49:22] \"POST /get_action HTTP/1.1\" 200 -\n"
     ]
    },
    {
     "name": "stdout",
     "output_type": "stream",
     "text": [
      "🚗 Position: (28.31, 0.0), Sent Command: {'moveWS': {'command': 'W', 'weight': 0.5}, 'moveAD': {'command': '', 'weight': 0.0}, 'turretQE': {'command': '', 'weight': 0.0}, 'turretRF': {'command': '', 'weight': 0.0}, 'fire': False}\n",
      "\n",
      "image 1/1 /home/kwon/jupyter_home/temp.jpg: 384x640 (no detections), 50.7ms\n",
      "Speed: 1.5ms preprocess, 50.7ms inference, 5.1ms postprocess per image at shape (1, 3, 384, 640)\n"
     ]
    },
    {
     "name": "stderr",
     "output_type": "stream",
     "text": [
      "127.0.0.1 - - [28/May/2025 12:49:22] \"POST /detect HTTP/1.1\" 200 -\n",
      "127.0.0.1 - - [28/May/2025 12:49:23] \"POST /get_action HTTP/1.1\" 200 -\n"
     ]
    },
    {
     "name": "stdout",
     "output_type": "stream",
     "text": [
      "🧱 벽 감지: 회전 → D for 6 ticks\n",
      "🚗 Position: (34.56, 0.2), Sent Command: {'moveWS': {'command': 'W', 'weight': 0.5}, 'moveAD': {'command': 'D', 'weight': 0.5}, 'turretQE': {'command': '', 'weight': 0.0}, 'turretRF': {'command': '', 'weight': 0.0}, 'fire': False}\n",
      "\n",
      "image 1/1 /home/kwon/jupyter_home/temp.jpg: 384x640 (no detections), 51.6ms\n",
      "Speed: 1.6ms preprocess, 51.6ms inference, 1.1ms postprocess per image at shape (1, 3, 384, 640)\n"
     ]
    },
    {
     "name": "stderr",
     "output_type": "stream",
     "text": [
      "127.0.0.1 - - [28/May/2025 12:49:23] \"POST /detect HTTP/1.1\" 200 -\n",
      "127.0.0.1 - - [28/May/2025 12:49:23] \"POST /get_action HTTP/1.1\" 200 -\n"
     ]
    },
    {
     "name": "stdout",
     "output_type": "stream",
     "text": [
      "🚗 Position: (40.73, 0.0), Sent Command: {'moveWS': {'command': 'W', 'weight': 0.5}, 'moveAD': {'command': 'D', 'weight': 0.5}, 'turretQE': {'command': '', 'weight': 0.0}, 'turretRF': {'command': '', 'weight': 0.0}, 'fire': False}\n",
      "\n",
      "image 1/1 /home/kwon/jupyter_home/temp.jpg: 384x640 (no detections), 49.3ms\n",
      "Speed: 1.5ms preprocess, 49.3ms inference, 0.6ms postprocess per image at shape (1, 3, 384, 640)\n"
     ]
    },
    {
     "name": "stderr",
     "output_type": "stream",
     "text": [
      "127.0.0.1 - - [28/May/2025 12:49:24] \"POST /detect HTTP/1.1\" 200 -\n",
      "127.0.0.1 - - [28/May/2025 12:49:24] \"POST /get_action HTTP/1.1\" 200 -\n"
     ]
    },
    {
     "name": "stdout",
     "output_type": "stream",
     "text": [
      "🚗 Position: (46.77, 0.0), Sent Command: {'moveWS': {'command': 'W', 'weight': 0.5}, 'moveAD': {'command': 'D', 'weight': 0.5}, 'turretQE': {'command': '', 'weight': 0.0}, 'turretRF': {'command': '', 'weight': 0.0}, 'fire': False}\n",
      "\n",
      "image 1/1 /home/kwon/jupyter_home/temp.jpg: 384x640 (no detections), 52.9ms\n",
      "Speed: 1.9ms preprocess, 52.9ms inference, 0.8ms postprocess per image at shape (1, 3, 384, 640)\n"
     ]
    },
    {
     "name": "stderr",
     "output_type": "stream",
     "text": [
      "127.0.0.1 - - [28/May/2025 12:49:24] \"POST /detect HTTP/1.1\" 200 -\n",
      "127.0.0.1 - - [28/May/2025 12:49:25] \"POST /get_action HTTP/1.1\" 200 -\n"
     ]
    },
    {
     "name": "stdout",
     "output_type": "stream",
     "text": [
      "🚗 Position: (52.17, 0.0), Sent Command: {'moveWS': {'command': 'W', 'weight': 0.5}, 'moveAD': {'command': 'D', 'weight': 0.5}, 'turretQE': {'command': '', 'weight': 0.0}, 'turretRF': {'command': '', 'weight': 0.0}, 'fire': False}\n",
      "\n",
      "image 1/1 /home/kwon/jupyter_home/temp.jpg: 384x640 (no detections), 46.5ms\n",
      "Speed: 2.0ms preprocess, 46.5ms inference, 0.6ms postprocess per image at shape (1, 3, 384, 640)\n"
     ]
    },
    {
     "name": "stderr",
     "output_type": "stream",
     "text": [
      "127.0.0.1 - - [28/May/2025 12:49:25] \"POST /detect HTTP/1.1\" 200 -\n",
      "127.0.0.1 - - [28/May/2025 12:49:25] \"POST /get_action HTTP/1.1\" 200 -\n"
     ]
    },
    {
     "name": "stdout",
     "output_type": "stream",
     "text": [
      "🚗 Position: (56.8, 0.0), Sent Command: {'moveWS': {'command': 'W', 'weight': 0.5}, 'moveAD': {'command': 'D', 'weight': 0.5}, 'turretQE': {'command': '', 'weight': 0.0}, 'turretRF': {'command': '', 'weight': 0.0}, 'fire': False}\n",
      "\n",
      "image 1/1 /home/kwon/jupyter_home/temp.jpg: 384x640 (no detections), 50.7ms\n",
      "Speed: 1.4ms preprocess, 50.7ms inference, 0.7ms postprocess per image at shape (1, 3, 384, 640)\n"
     ]
    },
    {
     "name": "stderr",
     "output_type": "stream",
     "text": [
      "127.0.0.1 - - [28/May/2025 12:49:26] \"POST /detect HTTP/1.1\" 200 -\n",
      "127.0.0.1 - - [28/May/2025 12:49:26] \"POST /get_action HTTP/1.1\" 200 -\n"
     ]
    },
    {
     "name": "stdout",
     "output_type": "stream",
     "text": [
      "🚗 Position: (60.35, 0.0), Sent Command: {'moveWS': {'command': 'W', 'weight': 0.5}, 'moveAD': {'command': '', 'weight': 0.0}, 'turretQE': {'command': '', 'weight': 0.0}, 'turretRF': {'command': '', 'weight': 0.0}, 'fire': False}\n",
      "\n",
      "image 1/1 /home/kwon/jupyter_home/temp.jpg: 384x640 (no detections), 51.4ms\n",
      "Speed: 1.4ms preprocess, 51.4ms inference, 0.7ms postprocess per image at shape (1, 3, 384, 640)\n"
     ]
    },
    {
     "name": "stderr",
     "output_type": "stream",
     "text": [
      "127.0.0.1 - - [28/May/2025 12:49:26] \"POST /detect HTTP/1.1\" 200 -\n",
      "127.0.0.1 - - [28/May/2025 12:49:26] \"POST /get_action HTTP/1.1\" 200 -\n"
     ]
    },
    {
     "name": "stdout",
     "output_type": "stream",
     "text": [
      "🧱 벽 감지: 회전 → A for 8 ticks\n",
      "🚗 Position: (63.28, 0.0), Sent Command: {'moveWS': {'command': 'W', 'weight': 0.5}, 'moveAD': {'command': 'A', 'weight': 0.5}, 'turretQE': {'command': '', 'weight': 0.0}, 'turretRF': {'command': '', 'weight': 0.0}, 'fire': False}\n",
      "\n",
      "image 1/1 /home/kwon/jupyter_home/temp.jpg: 384x640 (no detections), 66.6ms\n",
      "Speed: 1.8ms preprocess, 66.6ms inference, 1.6ms postprocess per image at shape (1, 3, 384, 640)\n"
     ]
    },
    {
     "name": "stderr",
     "output_type": "stream",
     "text": [
      "127.0.0.1 - - [28/May/2025 12:49:27] \"POST /detect HTTP/1.1\" 200 -\n",
      "127.0.0.1 - - [28/May/2025 12:49:27] \"POST /get_action HTTP/1.1\" 200 -\n"
     ]
    },
    {
     "name": "stdout",
     "output_type": "stream",
     "text": [
      "🚗 Position: (66.72, 0.0), Sent Command: {'moveWS': {'command': 'W', 'weight': 0.5}, 'moveAD': {'command': 'A', 'weight': 0.5}, 'turretQE': {'command': '', 'weight': 0.0}, 'turretRF': {'command': '', 'weight': 0.0}, 'fire': False}\n",
      "\n"
     ]
    },
    {
     "name": "stderr",
     "output_type": "stream",
     "text": [
      "127.0.0.1 - - [28/May/2025 12:49:28] \"POST /get_action HTTP/1.1\" 200 -\n"
     ]
    },
    {
     "name": "stdout",
     "output_type": "stream",
     "text": [
      "🚗 Position: (71.32, 0.0), Sent Command: {'moveWS': {'command': 'W', 'weight': 0.5}, 'moveAD': {'command': 'A', 'weight': 0.5}, 'turretQE': {'command': '', 'weight': 0.0}, 'turretRF': {'command': '', 'weight': 0.0}, 'fire': False}\n",
      "image 1/1 /home/kwon/jupyter_home/temp.jpg: 384x640 (no detections), 52.3ms\n",
      "Speed: 1.5ms preprocess, 52.3ms inference, 0.8ms postprocess per image at shape (1, 3, 384, 640)\n"
     ]
    },
    {
     "name": "stderr",
     "output_type": "stream",
     "text": [
      "127.0.0.1 - - [28/May/2025 12:49:28] \"POST /detect HTTP/1.1\" 200 -\n",
      "127.0.0.1 - - [28/May/2025 12:49:28] \"POST /get_action HTTP/1.1\" 200 -\n"
     ]
    },
    {
     "name": "stdout",
     "output_type": "stream",
     "text": [
      "🚗 Position: (76.83, 0.0), Sent Command: {'moveWS': {'command': 'W', 'weight': 0.5}, 'moveAD': {'command': 'A', 'weight': 0.5}, 'turretQE': {'command': '', 'weight': 0.0}, 'turretRF': {'command': '', 'weight': 0.0}, 'fire': False}\n",
      "\n",
      "image 1/1 /home/kwon/jupyter_home/temp.jpg: 384x640 (no detections), 51.2ms\n",
      "Speed: 1.5ms preprocess, 51.2ms inference, 0.6ms postprocess per image at shape (1, 3, 384, 640)\n"
     ]
    },
    {
     "name": "stderr",
     "output_type": "stream",
     "text": [
      "127.0.0.1 - - [28/May/2025 12:49:29] \"POST /detect HTTP/1.1\" 200 -\n",
      "127.0.0.1 - - [28/May/2025 12:49:29] \"POST /get_action HTTP/1.1\" 200 -\n"
     ]
    },
    {
     "name": "stdout",
     "output_type": "stream",
     "text": [
      "🚗 Position: (82.85, 0.0), Sent Command: {'moveWS': {'command': 'W', 'weight': 0.5}, 'moveAD': {'command': 'A', 'weight': 0.5}, 'turretQE': {'command': '', 'weight': 0.0}, 'turretRF': {'command': '', 'weight': 0.0}, 'fire': False}\n",
      "\n",
      "image 1/1 /home/kwon/jupyter_home/temp.jpg: 384x640 (no detections), 58.9ms\n",
      "Speed: 1.5ms preprocess, 58.9ms inference, 3.7ms postprocess per image at shape (1, 3, 384, 640)\n"
     ]
    },
    {
     "name": "stderr",
     "output_type": "stream",
     "text": [
      "127.0.0.1 - - [28/May/2025 12:49:29] \"POST /detect HTTP/1.1\" 200 -\n",
      "127.0.0.1 - - [28/May/2025 12:49:30] \"POST /get_action HTTP/1.1\" 200 -\n"
     ]
    },
    {
     "name": "stdout",
     "output_type": "stream",
     "text": [
      "🚗 Position: (89.1, 0.02), Sent Command: {'moveWS': {'command': 'W', 'weight': 0.5}, 'moveAD': {'command': 'A', 'weight': 0.5}, 'turretQE': {'command': '', 'weight': 0.0}, 'turretRF': {'command': '', 'weight': 0.0}, 'fire': False}\n",
      "\n",
      "image 1/1 /home/kwon/jupyter_home/temp.jpg: 384x640 (no detections), 79.2ms\n",
      "Speed: 1.6ms preprocess, 79.2ms inference, 2.0ms postprocess per image at shape (1, 3, 384, 640)\n"
     ]
    },
    {
     "name": "stderr",
     "output_type": "stream",
     "text": [
      "127.0.0.1 - - [28/May/2025 12:49:30] \"POST /detect HTTP/1.1\" 200 -\n",
      "127.0.0.1 - - [28/May/2025 12:49:30] \"POST /get_action HTTP/1.1\" 200 -\n"
     ]
    },
    {
     "name": "stdout",
     "output_type": "stream",
     "text": [
      "🚗 Position: (95.31, 0.94), Sent Command: {'moveWS': {'command': 'W', 'weight': 0.5}, 'moveAD': {'command': 'A', 'weight': 0.5}, 'turretQE': {'command': '', 'weight': 0.0}, 'turretRF': {'command': '', 'weight': 0.0}, 'fire': False}\n",
      "\n",
      "image 1/1 /home/kwon/jupyter_home/temp.jpg: 384x640 (no detections), 53.0ms\n",
      "Speed: 1.6ms preprocess, 53.0ms inference, 0.7ms postprocess per image at shape (1, 3, 384, 640)\n"
     ]
    },
    {
     "name": "stderr",
     "output_type": "stream",
     "text": [
      "127.0.0.1 - - [28/May/2025 12:49:31] \"POST /detect HTTP/1.1\" 200 -\n",
      "127.0.0.1 - - [28/May/2025 12:49:31] \"POST /get_action HTTP/1.1\" 200 -\n"
     ]
    },
    {
     "name": "stdout",
     "output_type": "stream",
     "text": [
      "🚗 Position: (101.14, 3.22), Sent Command: {'moveWS': {'command': 'W', 'weight': 0.5}, 'moveAD': {'command': '', 'weight': 0.0}, 'turretQE': {'command': '', 'weight': 0.0}, 'turretRF': {'command': '', 'weight': 0.0}, 'fire': False}\n",
      "\n",
      "image 1/1 /home/kwon/jupyter_home/temp.jpg: 384x640 (no detections), 51.3ms\n",
      "Speed: 1.4ms preprocess, 51.3ms inference, 0.8ms postprocess per image at shape (1, 3, 384, 640)\n"
     ]
    },
    {
     "name": "stderr",
     "output_type": "stream",
     "text": [
      "127.0.0.1 - - [28/May/2025 12:49:31] \"POST /detect HTTP/1.1\" 200 -\n",
      "127.0.0.1 - - [28/May/2025 12:49:32] \"POST /get_action HTTP/1.1\" 200 -\n"
     ]
    },
    {
     "name": "stdout",
     "output_type": "stream",
     "text": [
      "🧱 벽 감지: 회전 → A for 6 ticks\n",
      "🚗 Position: (106.58, 6.19), Sent Command: {'moveWS': {'command': 'W', 'weight': 0.5}, 'moveAD': {'command': 'A', 'weight': 0.5}, 'turretQE': {'command': '', 'weight': 0.0}, 'turretRF': {'command': '', 'weight': 0.0}, 'fire': False}\n",
      "\n",
      "image 1/1 /home/kwon/jupyter_home/temp.jpg: 384x640 (no detections), 44.8ms\n",
      "Speed: 1.4ms preprocess, 44.8ms inference, 0.7ms postprocess per image at shape (1, 3, 384, 640)\n"
     ]
    },
    {
     "name": "stderr",
     "output_type": "stream",
     "text": [
      "127.0.0.1 - - [28/May/2025 12:49:32] \"POST /detect HTTP/1.1\" 200 -\n",
      "127.0.0.1 - - [28/May/2025 12:49:32] \"POST /get_action HTTP/1.1\" 200 -\n"
     ]
    },
    {
     "name": "stdout",
     "output_type": "stream",
     "text": [
      "🚗 Position: (111.76, 9.72), Sent Command: {'moveWS': {'command': 'W', 'weight': 0.5}, 'moveAD': {'command': 'A', 'weight': 0.5}, 'turretQE': {'command': '', 'weight': 0.0}, 'turretRF': {'command': '', 'weight': 0.0}, 'fire': False}\n",
      "\n",
      "image 1/1 /home/kwon/jupyter_home/temp.jpg: 384x640 (no detections), 53.3ms\n",
      "Speed: 1.5ms preprocess, 53.3ms inference, 0.7ms postprocess per image at shape (1, 3, 384, 640)\n"
     ]
    },
    {
     "name": "stderr",
     "output_type": "stream",
     "text": [
      "127.0.0.1 - - [28/May/2025 12:49:33] \"POST /detect HTTP/1.1\" 200 -\n",
      "127.0.0.1 - - [28/May/2025 12:49:33] \"POST /get_action HTTP/1.1\" 200 -\n"
     ]
    },
    {
     "name": "stdout",
     "output_type": "stream",
     "text": [
      "🚗 Position: (116.0, 14.3), Sent Command: {'moveWS': {'command': 'W', 'weight': 0.5}, 'moveAD': {'command': 'A', 'weight': 0.5}, 'turretQE': {'command': '', 'weight': 0.0}, 'turretRF': {'command': '', 'weight': 0.0}, 'fire': False}\n",
      "\n",
      "image 1/1 /home/kwon/jupyter_home/temp.jpg: 384x640 (no detections), 49.3ms\n",
      "Speed: 1.6ms preprocess, 49.3ms inference, 0.7ms postprocess per image at shape (1, 3, 384, 640)\n"
     ]
    },
    {
     "name": "stderr",
     "output_type": "stream",
     "text": [
      "127.0.0.1 - - [28/May/2025 12:49:34] \"POST /detect HTTP/1.1\" 200 -\n",
      "127.0.0.1 - - [28/May/2025 12:49:34] \"POST /get_action HTTP/1.1\" 200 -\n"
     ]
    },
    {
     "name": "stdout",
     "output_type": "stream",
     "text": [
      "🚗 Position: (119.16, 19.79), Sent Command: {'moveWS': {'command': 'W', 'weight': 0.5}, 'moveAD': {'command': 'A', 'weight': 0.5}, 'turretQE': {'command': '', 'weight': 0.0}, 'turretRF': {'command': '', 'weight': 0.0}, 'fire': False}\n",
      "\n"
     ]
    },
    {
     "name": "stderr",
     "output_type": "stream",
     "text": [
      "127.0.0.1 - - [28/May/2025 12:49:34] \"POST /get_action HTTP/1.1\" 200 -\n"
     ]
    },
    {
     "name": "stdout",
     "output_type": "stream",
     "text": [
      "🚗 Position: (120.97, 25.72), Sent Command: {'moveWS': {'command': 'W', 'weight': 0.5}, 'moveAD': {'command': 'A', 'weight': 0.5}, 'turretQE': {'command': '', 'weight': 0.0}, 'turretRF': {'command': '', 'weight': 0.0}, 'fire': False}\n",
      "image 1/1 /home/kwon/jupyter_home/temp.jpg: 384x640 (no detections), 57.6ms\n",
      "Speed: 1.7ms preprocess, 57.6ms inference, 0.8ms postprocess per image at shape (1, 3, 384, 640)\n"
     ]
    },
    {
     "name": "stderr",
     "output_type": "stream",
     "text": [
      "127.0.0.1 - - [28/May/2025 12:49:34] \"POST /detect HTTP/1.1\" 200 -\n",
      "127.0.0.1 - - [28/May/2025 12:49:35] \"POST /get_action HTTP/1.1\" 200 -\n"
     ]
    },
    {
     "name": "stdout",
     "output_type": "stream",
     "text": [
      "🚗 Position: (121.41, 32.16), Sent Command: {'moveWS': {'command': 'W', 'weight': 0.5}, 'moveAD': {'command': '', 'weight': 0.0}, 'turretQE': {'command': '', 'weight': 0.0}, 'turretRF': {'command': '', 'weight': 0.0}, 'fire': False}\n",
      "\n",
      "image 1/1 /home/kwon/jupyter_home/temp.jpg: 384x640 1 tank, 56.6ms\n",
      "Speed: 1.7ms preprocess, 56.6ms inference, 101.0ms postprocess per image at shape (1, 3, 384, 640)\n"
     ]
    },
    {
     "name": "stderr",
     "output_type": "stream",
     "text": [
      "127.0.0.1 - - [28/May/2025 12:49:35] \"POST /detect HTTP/1.1\" 200 -\n",
      "127.0.0.1 - - [28/May/2025 12:49:36] \"POST /get_action HTTP/1.1\" 200 -\n"
     ]
    },
    {
     "name": "stdout",
     "output_type": "stream",
     "text": [
      "🚗 Position: (121.01, 38.37), Sent Command: {'moveWS': {'command': 'W', 'weight': 0.5}, 'moveAD': {'command': '', 'weight': 0.0}, 'turretQE': {'command': '', 'weight': 0.0}, 'turretRF': {'command': '', 'weight': 0.0}, 'fire': True}\n",
      "\n",
      "image 1/1 /home/kwon/jupyter_home/temp.jpg: 384x640 (no detections), 59.5ms\n",
      "Speed: 1.9ms preprocess, 59.5ms inference, 1.2ms postprocess per image at shape (1, 3, 384, 640)\n"
     ]
    },
    {
     "name": "stderr",
     "output_type": "stream",
     "text": [
      "127.0.0.1 - - [28/May/2025 12:49:36] \"POST /detect HTTP/1.1\" 200 -\n",
      "127.0.0.1 - - [28/May/2025 12:49:36] \"POST /update_bullet HTTP/1.1\" 200 -\n"
     ]
    },
    {
     "name": "stdout",
     "output_type": "stream",
     "text": [
      "💥 Bullet: {'x': 118.5389, 'y': 8.314437, 'z': 76.73372, 'hit': 'terrain'}\n"
     ]
    },
    {
     "name": "stderr",
     "output_type": "stream",
     "text": [
      "127.0.0.1 - - [28/May/2025 12:49:36] \"POST /get_action HTTP/1.1\" 200 -\n"
     ]
    },
    {
     "name": "stdout",
     "output_type": "stream",
     "text": [
      "🚗 Position: (120.6, 44.68), Sent Command: {'moveWS': {'command': 'W', 'weight': 0.5}, 'moveAD': {'command': '', 'weight': 0.0}, 'turretQE': {'command': '', 'weight': 0.0}, 'turretRF': {'command': '', 'weight': 0.0}, 'fire': False}\n",
      "\n",
      "image 1/1 /home/kwon/jupyter_home/temp.jpg: 384x640 (no detections), 51.4ms\n",
      "Speed: 1.6ms preprocess, 51.4ms inference, 0.9ms postprocess per image at shape (1, 3, 384, 640)\n"
     ]
    },
    {
     "name": "stderr",
     "output_type": "stream",
     "text": [
      "127.0.0.1 - - [28/May/2025 12:49:37] \"POST /detect HTTP/1.1\" 200 -\n",
      "127.0.0.1 - - [28/May/2025 12:49:37] \"POST /get_action HTTP/1.1\" 200 -\n"
     ]
    },
    {
     "name": "stdout",
     "output_type": "stream",
     "text": [
      "🚗 Position: (120.19, 50.95), Sent Command: {'moveWS': {'command': 'W', 'weight': 0.5}, 'moveAD': {'command': '', 'weight': 0.0}, 'turretQE': {'command': '', 'weight': 0.0}, 'turretRF': {'command': '', 'weight': 0.0}, 'fire': False}\n",
      "\n",
      "image 1/1 /home/kwon/jupyter_home/temp.jpg: 384x640 (no detections), 47.4ms\n",
      "Speed: 1.6ms preprocess, 47.4ms inference, 1.2ms postprocess per image at shape (1, 3, 384, 640)\n"
     ]
    },
    {
     "name": "stderr",
     "output_type": "stream",
     "text": [
      "127.0.0.1 - - [28/May/2025 12:49:37] \"POST /detect HTTP/1.1\" 200 -\n",
      "127.0.0.1 - - [28/May/2025 12:49:37] \"POST /get_action HTTP/1.1\" 200 -\n"
     ]
    },
    {
     "name": "stdout",
     "output_type": "stream",
     "text": [
      "🚗 Position: (119.79, 57.21), Sent Command: {'moveWS': {'command': 'W', 'weight': 0.5}, 'moveAD': {'command': '', 'weight': 0.0}, 'turretQE': {'command': '', 'weight': 0.0}, 'turretRF': {'command': '', 'weight': 0.0}, 'fire': False}\n",
      "\n",
      "image 1/1 /home/kwon/jupyter_home/temp.jpg: 384x640 (no detections), 50.4ms\n",
      "Speed: 1.5ms preprocess, 50.4ms inference, 1.4ms postprocess per image at shape (1, 3, 384, 640)\n"
     ]
    },
    {
     "name": "stderr",
     "output_type": "stream",
     "text": [
      "127.0.0.1 - - [28/May/2025 12:49:38] \"POST /detect HTTP/1.1\" 200 -\n",
      "127.0.0.1 - - [28/May/2025 12:49:38] \"POST /get_action HTTP/1.1\" 200 -\n"
     ]
    },
    {
     "name": "stdout",
     "output_type": "stream",
     "text": [
      "🚗 Position: (119.37, 63.56), Sent Command: {'moveWS': {'command': 'W', 'weight': 0.5}, 'moveAD': {'command': '', 'weight': 0.0}, 'turretQE': {'command': '', 'weight': 0.0}, 'turretRF': {'command': '', 'weight': 0.0}, 'fire': False}\n",
      "\n",
      "image 1/1 /home/kwon/jupyter_home/temp.jpg: 384x640 (no detections), 51.5ms\n",
      "Speed: 1.6ms preprocess, 51.5ms inference, 6.6ms postprocess per image at shape (1, 3, 384, 640)\n"
     ]
    },
    {
     "name": "stderr",
     "output_type": "stream",
     "text": [
      "127.0.0.1 - - [28/May/2025 12:49:39] \"POST /detect HTTP/1.1\" 200 -\n",
      "127.0.0.1 - - [28/May/2025 12:49:39] \"POST /get_action HTTP/1.1\" 200 -\n"
     ]
    },
    {
     "name": "stdout",
     "output_type": "stream",
     "text": [
      "🚗 Position: (118.96, 69.89), Sent Command: {'moveWS': {'command': 'W', 'weight': 0.5}, 'moveAD': {'command': '', 'weight': 0.0}, 'turretQE': {'command': '', 'weight': 0.0}, 'turretRF': {'command': '', 'weight': 0.0}, 'fire': False}\n",
      "\n"
     ]
    },
    {
     "name": "stderr",
     "output_type": "stream",
     "text": [
      "127.0.0.1 - - [28/May/2025 12:49:39] \"POST /get_action HTTP/1.1\" 200 -\n"
     ]
    },
    {
     "name": "stdout",
     "output_type": "stream",
     "text": [
      "🚗 Position: (118.54, 76.28), Sent Command: {'moveWS': {'command': 'W', 'weight': 0.5}, 'moveAD': {'command': '', 'weight': 0.0}, 'turretQE': {'command': '', 'weight': 0.0}, 'turretRF': {'command': '', 'weight': 0.0}, 'fire': False}\n",
      "image 1/1 /home/kwon/jupyter_home/temp.jpg: 384x640 (no detections), 48.9ms\n",
      "Speed: 1.5ms preprocess, 48.9ms inference, 0.7ms postprocess per image at shape (1, 3, 384, 640)\n"
     ]
    },
    {
     "name": "stderr",
     "output_type": "stream",
     "text": [
      "127.0.0.1 - - [28/May/2025 12:49:40] \"POST /detect HTTP/1.1\" 200 -\n",
      "127.0.0.1 - - [28/May/2025 12:49:40] \"POST /get_action HTTP/1.1\" 200 -\n"
     ]
    },
    {
     "name": "stdout",
     "output_type": "stream",
     "text": [
      "🚗 Position: (118.1, 82.75), Sent Command: {'moveWS': {'command': 'W', 'weight': 0.5}, 'moveAD': {'command': '', 'weight': 0.0}, 'turretQE': {'command': '', 'weight': 0.0}, 'turretRF': {'command': '', 'weight': 0.0}, 'fire': False}\n",
      "\n",
      "image 1/1 /home/kwon/jupyter_home/temp.jpg: 384x640 (no detections), 49.6ms\n",
      "Speed: 1.5ms preprocess, 49.6ms inference, 0.8ms postprocess per image at shape (1, 3, 384, 640)\n"
     ]
    },
    {
     "name": "stderr",
     "output_type": "stream",
     "text": [
      "127.0.0.1 - - [28/May/2025 12:49:40] \"POST /detect HTTP/1.1\" 200 -\n",
      "127.0.0.1 - - [28/May/2025 12:49:41] \"POST /get_action HTTP/1.1\" 200 -\n"
     ]
    },
    {
     "name": "stdout",
     "output_type": "stream",
     "text": [
      "🚗 Position: (117.67, 88.97), Sent Command: {'moveWS': {'command': 'W', 'weight': 0.5}, 'moveAD': {'command': '', 'weight': 0.0}, 'turretQE': {'command': '', 'weight': 0.0}, 'turretRF': {'command': '', 'weight': 0.0}, 'fire': False}\n",
      "\n",
      "image 1/1 /home/kwon/jupyter_home/temp.jpg: 384x640 (no detections), 50.0ms\n",
      "Speed: 1.6ms preprocess, 50.0ms inference, 6.7ms postprocess per image at shape (1, 3, 384, 640)\n"
     ]
    },
    {
     "name": "stderr",
     "output_type": "stream",
     "text": [
      "127.0.0.1 - - [28/May/2025 12:49:41] \"POST /detect HTTP/1.1\" 200 -\n",
      "127.0.0.1 - - [28/May/2025 12:49:41] \"POST /get_action HTTP/1.1\" 200 -\n"
     ]
    },
    {
     "name": "stdout",
     "output_type": "stream",
     "text": [
      "🚗 Position: (117.27, 95.3), Sent Command: {'moveWS': {'command': 'W', 'weight': 0.5}, 'moveAD': {'command': '', 'weight': 0.0}, 'turretQE': {'command': '', 'weight': 0.0}, 'turretRF': {'command': '', 'weight': 0.0}, 'fire': False}\n",
      "\n",
      "image 1/1 /home/kwon/jupyter_home/temp.jpg: 384x640 (no detections), 55.1ms\n",
      "Speed: 1.6ms preprocess, 55.1ms inference, 0.8ms postprocess per image at shape (1, 3, 384, 640)\n"
     ]
    },
    {
     "name": "stderr",
     "output_type": "stream",
     "text": [
      "127.0.0.1 - - [28/May/2025 12:49:42] \"POST /detect HTTP/1.1\" 200 -\n",
      "127.0.0.1 - - [28/May/2025 12:49:42] \"POST /get_action HTTP/1.1\" 200 -\n"
     ]
    },
    {
     "name": "stdout",
     "output_type": "stream",
     "text": [
      "🚗 Position: (116.95, 101.52), Sent Command: {'moveWS': {'command': 'W', 'weight': 0.5}, 'moveAD': {'command': '', 'weight': 0.0}, 'turretQE': {'command': '', 'weight': 0.0}, 'turretRF': {'command': '', 'weight': 0.0}, 'fire': False}\n",
      "\n",
      "image 1/1 /home/kwon/jupyter_home/temp.jpg: 384x640 (no detections), 60.1ms\n",
      "Speed: 1.7ms preprocess, 60.1ms inference, 0.7ms postprocess per image at shape (1, 3, 384, 640)\n"
     ]
    },
    {
     "name": "stderr",
     "output_type": "stream",
     "text": [
      "127.0.0.1 - - [28/May/2025 12:49:42] \"POST /detect HTTP/1.1\" 200 -\n",
      "127.0.0.1 - - [28/May/2025 12:49:43] \"POST /get_action HTTP/1.1\" 200 -\n"
     ]
    },
    {
     "name": "stdout",
     "output_type": "stream",
     "text": [
      "🚗 Position: (116.65, 107.81), Sent Command: {'moveWS': {'command': 'W', 'weight': 0.5}, 'moveAD': {'command': '', 'weight': 0.0}, 'turretQE': {'command': '', 'weight': 0.0}, 'turretRF': {'command': '', 'weight': 0.0}, 'fire': False}\n",
      "\n",
      "image 1/1 /home/kwon/jupyter_home/temp.jpg: 384x640 (no detections), 52.3ms\n",
      "Speed: 1.4ms preprocess, 52.3ms inference, 1.4ms postprocess per image at shape (1, 3, 384, 640)\n"
     ]
    },
    {
     "name": "stderr",
     "output_type": "stream",
     "text": [
      "127.0.0.1 - - [28/May/2025 12:49:43] \"POST /detect HTTP/1.1\" 200 -\n",
      "127.0.0.1 - - [28/May/2025 12:49:43] \"POST /get_action HTTP/1.1\" 200 -\n"
     ]
    },
    {
     "name": "stdout",
     "output_type": "stream",
     "text": [
      "🚗 Position: (116.38, 114.01), Sent Command: {'moveWS': {'command': 'W', 'weight': 0.5}, 'moveAD': {'command': '', 'weight': 0.0}, 'turretQE': {'command': '', 'weight': 0.0}, 'turretRF': {'command': '', 'weight': 0.0}, 'fire': False}\n",
      "\n",
      "image 1/1 /home/kwon/jupyter_home/temp.jpg: 384x640 (no detections), 52.2ms\n",
      "Speed: 1.4ms preprocess, 52.2ms inference, 1.3ms postprocess per image at shape (1, 3, 384, 640)\n"
     ]
    },
    {
     "name": "stderr",
     "output_type": "stream",
     "text": [
      "127.0.0.1 - - [28/May/2025 12:49:44] \"POST /detect HTTP/1.1\" 200 -\n",
      "127.0.0.1 - - [28/May/2025 12:49:44] \"POST /get_action HTTP/1.1\" 200 -\n"
     ]
    },
    {
     "name": "stdout",
     "output_type": "stream",
     "text": [
      "🚗 Position: (116.14, 120.28), Sent Command: {'moveWS': {'command': 'W', 'weight': 0.5}, 'moveAD': {'command': '', 'weight': 0.0}, 'turretQE': {'command': '', 'weight': 0.0}, 'turretRF': {'command': '', 'weight': 0.0}, 'fire': False}\n",
      "\n",
      "image 1/1 /home/kwon/jupyter_home/temp.jpg: 384x640 (no detections), 83.5ms\n",
      "Speed: 1.8ms preprocess, 83.5ms inference, 7.8ms postprocess per image at shape (1, 3, 384, 640)\n"
     ]
    },
    {
     "name": "stderr",
     "output_type": "stream",
     "text": [
      "127.0.0.1 - - [28/May/2025 12:49:45] \"POST /detect HTTP/1.1\" 200 -\n",
      "127.0.0.1 - - [28/May/2025 12:49:45] \"POST /get_action HTTP/1.1\" 200 -\n"
     ]
    },
    {
     "name": "stdout",
     "output_type": "stream",
     "text": [
      "🚗 Position: (115.94, 126.53), Sent Command: {'moveWS': {'command': 'W', 'weight': 0.5}, 'moveAD': {'command': '', 'weight': 0.0}, 'turretQE': {'command': '', 'weight': 0.0}, 'turretRF': {'command': '', 'weight': 0.0}, 'fire': False}\n"
     ]
    },
    {
     "name": "stderr",
     "output_type": "stream",
     "text": [
      "127.0.0.1 - - [28/May/2025 12:49:45] \"POST /get_action HTTP/1.1\" 200 -\n"
     ]
    },
    {
     "name": "stdout",
     "output_type": "stream",
     "text": [
      "🚗 Position: (115.81, 132.75), Sent Command: {'moveWS': {'command': 'W', 'weight': 0.5}, 'moveAD': {'command': '', 'weight': 0.0}, 'turretQE': {'command': '', 'weight': 0.0}, 'turretRF': {'command': '', 'weight': 0.0}, 'fire': False}\n",
      "\n",
      "image 1/1 /home/kwon/jupyter_home/temp.jpg: 384x640 1 tank, 50.6ms\n",
      "Speed: 1.4ms preprocess, 50.6ms inference, 1.6ms postprocess per image at shape (1, 3, 384, 640)\n"
     ]
    },
    {
     "name": "stderr",
     "output_type": "stream",
     "text": [
      "127.0.0.1 - - [28/May/2025 12:49:45] \"POST /detect HTTP/1.1\" 200 -\n",
      "127.0.0.1 - - [28/May/2025 12:49:46] \"POST /get_action HTTP/1.1\" 200 -\n"
     ]
    },
    {
     "name": "stdout",
     "output_type": "stream",
     "text": [
      "🚗 Position: (115.7, 139.12), Sent Command: {'moveWS': {'command': 'W', 'weight': 0.5}, 'moveAD': {'command': '', 'weight': 0.0}, 'turretQE': {'command': '', 'weight': 0.0}, 'turretRF': {'command': '', 'weight': 0.0}, 'fire': True}\n",
      "\n",
      "image 1/1 /home/kwon/jupyter_home/temp.jpg: 384x640 (no detections), 55.6ms\n",
      "Speed: 1.5ms preprocess, 55.6ms inference, 2.5ms postprocess per image at shape (1, 3, 384, 640)\n"
     ]
    },
    {
     "name": "stderr",
     "output_type": "stream",
     "text": [
      "127.0.0.1 - - [28/May/2025 12:49:46] \"POST /detect HTTP/1.1\" 200 -\n",
      "127.0.0.1 - - [28/May/2025 12:49:47] \"POST /get_action HTTP/1.1\" 200 -\n"
     ]
    },
    {
     "name": "stdout",
     "output_type": "stream",
     "text": [
      "🚗 Position: (115.7, 145.38), Sent Command: {'moveWS': {'command': 'W', 'weight': 0.5}, 'moveAD': {'command': '', 'weight': 0.0}, 'turretQE': {'command': '', 'weight': 0.0}, 'turretRF': {'command': '', 'weight': 0.0}, 'fire': False}\n",
      "\n",
      "image 1/1 /home/kwon/jupyter_home/temp.jpg: 384x640 1 tank, 48.3ms\n",
      "Speed: 1.6ms preprocess, 48.3ms inference, 1.6ms postprocess per image at shape (1, 3, 384, 640)\n"
     ]
    },
    {
     "name": "stderr",
     "output_type": "stream",
     "text": [
      "127.0.0.1 - - [28/May/2025 12:49:47] \"POST /detect HTTP/1.1\" 200 -\n",
      "127.0.0.1 - - [28/May/2025 12:49:47] \"POST /get_action HTTP/1.1\" 200 -\n"
     ]
    },
    {
     "name": "stdout",
     "output_type": "stream",
     "text": [
      "🚗 Position: (115.83, 151.59), Sent Command: {'moveWS': {'command': 'W', 'weight': 0.5}, 'moveAD': {'command': '', 'weight': 0.0}, 'turretQE': {'command': '', 'weight': 0.0}, 'turretRF': {'command': '', 'weight': 0.0}, 'fire': True}\n",
      "\n",
      "image 1/1 /home/kwon/jupyter_home/temp.jpg: 384x640 1 tank, 55.3ms\n",
      "Speed: 1.7ms preprocess, 55.3ms inference, 2.9ms postprocess per image at shape (1, 3, 384, 640)\n"
     ]
    },
    {
     "name": "stderr",
     "output_type": "stream",
     "text": [
      "127.0.0.1 - - [28/May/2025 12:49:48] \"POST /detect HTTP/1.1\" 200 -\n",
      "127.0.0.1 - - [28/May/2025 12:49:48] \"POST /update_bullet HTTP/1.1\" 200 -\n"
     ]
    },
    {
     "name": "stdout",
     "output_type": "stream",
     "text": [
      "💥 Bullet: {'x': 114.3293, 'y': 7.825305, 'z': 237.594, 'hit': 'terrain'}\n"
     ]
    },
    {
     "name": "stderr",
     "output_type": "stream",
     "text": [
      "127.0.0.1 - - [28/May/2025 12:49:48] \"POST /get_action HTTP/1.1\" 200 -\n"
     ]
    },
    {
     "name": "stdout",
     "output_type": "stream",
     "text": [
      "🚗 Position: (116.11, 157.93), Sent Command: {'moveWS': {'command': 'W', 'weight': 0.5}, 'moveAD': {'command': '', 'weight': 0.0}, 'turretQE': {'command': '', 'weight': 0.0}, 'turretRF': {'command': '', 'weight': 0.0}, 'fire': True}\n",
      "\n",
      "image 1/1 /home/kwon/jupyter_home/temp.jpg: 384x640 1 tank, 54.7ms\n",
      "Speed: 1.7ms preprocess, 54.7ms inference, 1.9ms postprocess per image at shape (1, 3, 384, 640)\n"
     ]
    },
    {
     "name": "stderr",
     "output_type": "stream",
     "text": [
      "127.0.0.1 - - [28/May/2025 12:49:48] \"POST /detect HTTP/1.1\" 200 -\n",
      "127.0.0.1 - - [28/May/2025 12:49:49] \"POST /get_action HTTP/1.1\" 200 -\n"
     ]
    },
    {
     "name": "stdout",
     "output_type": "stream",
     "text": [
      "🚗 Position: (116.48, 164.18), Sent Command: {'moveWS': {'command': 'W', 'weight': 0.5}, 'moveAD': {'command': '', 'weight': 0.0}, 'turretQE': {'command': '', 'weight': 0.0}, 'turretRF': {'command': '', 'weight': 0.0}, 'fire': True}\n",
      "\n",
      "image 1/1 /home/kwon/jupyter_home/temp.jpg: 384x640 1 tank, 53.8ms\n",
      "Speed: 2.2ms preprocess, 53.8ms inference, 1.5ms postprocess per image at shape (1, 3, 384, 640)\n"
     ]
    },
    {
     "name": "stderr",
     "output_type": "stream",
     "text": [
      "127.0.0.1 - - [28/May/2025 12:49:49] \"POST /detect HTTP/1.1\" 200 -\n",
      "127.0.0.1 - - [28/May/2025 12:49:49] \"POST /get_action HTTP/1.1\" 200 -\n"
     ]
    },
    {
     "name": "stdout",
     "output_type": "stream",
     "text": [
      "🚗 Position: (116.82, 170.38), Sent Command: {'moveWS': {'command': 'W', 'weight': 0.5}, 'moveAD': {'command': '', 'weight': 0.0}, 'turretQE': {'command': '', 'weight': 0.0}, 'turretRF': {'command': '', 'weight': 0.0}, 'fire': True}\n",
      "\n",
      "image 1/1 /home/kwon/jupyter_home/temp.jpg: 384x640 1 tank, 50.0ms\n",
      "Speed: 1.5ms preprocess, 50.0ms inference, 2.8ms postprocess per image at shape (1, 3, 384, 640)\n"
     ]
    },
    {
     "name": "stderr",
     "output_type": "stream",
     "text": [
      "127.0.0.1 - - [28/May/2025 12:49:50] \"POST /detect HTTP/1.1\" 200 -\n",
      "127.0.0.1 - - [28/May/2025 12:49:50] \"POST /get_action HTTP/1.1\" 200 -\n"
     ]
    },
    {
     "name": "stdout",
     "output_type": "stream",
     "text": [
      "🚗 Position: (117.12, 176.47), Sent Command: {'moveWS': {'command': 'W', 'weight': 0.5}, 'moveAD': {'command': '', 'weight': 0.0}, 'turretQE': {'command': '', 'weight': 0.0}, 'turretRF': {'command': '', 'weight': 0.0}, 'fire': True}\n",
      "\n",
      "image 1/1 /home/kwon/jupyter_home/temp.jpg: 384x640 1 tank, 46.8ms\n",
      "Speed: 1.6ms preprocess, 46.8ms inference, 3.2ms postprocess per image at shape (1, 3, 384, 640)\n"
     ]
    },
    {
     "name": "stderr",
     "output_type": "stream",
     "text": [
      "127.0.0.1 - - [28/May/2025 12:49:50] \"POST /detect HTTP/1.1\" 200 -\n",
      "127.0.0.1 - - [28/May/2025 12:49:50] \"POST /get_action HTTP/1.1\" 200 -\n"
     ]
    },
    {
     "name": "stdout",
     "output_type": "stream",
     "text": [
      "🚗 Position: (117.39, 182.66), Sent Command: {'moveWS': {'command': 'W', 'weight': 0.5}, 'moveAD': {'command': '', 'weight': 0.0}, 'turretQE': {'command': '', 'weight': 0.0}, 'turretRF': {'command': '', 'weight': 0.0}, 'fire': True}\n",
      "\n"
     ]
    },
    {
     "name": "stderr",
     "output_type": "stream",
     "text": [
      "127.0.0.1 - - [28/May/2025 12:49:51] \"POST /get_action HTTP/1.1\" 200 -\n"
     ]
    },
    {
     "name": "stdout",
     "output_type": "stream",
     "text": [
      "🚗 Position: (117.67, 189.03), Sent Command: {'moveWS': {'command': 'W', 'weight': 0.5}, 'moveAD': {'command': '', 'weight': 0.0}, 'turretQE': {'command': '', 'weight': 0.0}, 'turretRF': {'command': '', 'weight': 0.0}, 'fire': False}\n",
      "image 1/1 /home/kwon/jupyter_home/temp.jpg: 384x640 1 tank, 55.3ms\n",
      "Speed: 1.6ms preprocess, 55.3ms inference, 2.3ms postprocess per image at shape (1, 3, 384, 640)\n"
     ]
    },
    {
     "name": "stderr",
     "output_type": "stream",
     "text": [
      "127.0.0.1 - - [28/May/2025 12:49:51] \"POST /detect HTTP/1.1\" 200 -\n",
      "127.0.0.1 - - [28/May/2025 12:49:52] \"POST /get_action HTTP/1.1\" 200 -\n"
     ]
    },
    {
     "name": "stdout",
     "output_type": "stream",
     "text": [
      "🚗 Position: (117.95, 195.26), Sent Command: {'moveWS': {'command': 'W', 'weight': 0.5}, 'moveAD': {'command': '', 'weight': 0.0}, 'turretQE': {'command': '', 'weight': 0.0}, 'turretRF': {'command': '', 'weight': 0.0}, 'fire': True}\n",
      "\n",
      "image 1/1 /home/kwon/jupyter_home/temp.jpg: 384x640 1 tank, 80.9ms\n",
      "Speed: 2.9ms preprocess, 80.9ms inference, 1.8ms postprocess per image at shape (1, 3, 384, 640)\n"
     ]
    },
    {
     "name": "stderr",
     "output_type": "stream",
     "text": [
      "127.0.0.1 - - [28/May/2025 12:49:52] \"POST /detect HTTP/1.1\" 200 -\n",
      "127.0.0.1 - - [28/May/2025 12:49:52] \"POST /get_action HTTP/1.1\" 200 -\n"
     ]
    },
    {
     "name": "stdout",
     "output_type": "stream",
     "text": [
      "🚗 Position: (118.24, 201.74), Sent Command: {'moveWS': {'command': 'W', 'weight': 0.5}, 'moveAD': {'command': '', 'weight': 0.0}, 'turretQE': {'command': '', 'weight': 0.0}, 'turretRF': {'command': '', 'weight': 0.0}, 'fire': True}\n",
      "\n",
      "image 1/1 /home/kwon/jupyter_home/temp.jpg: 384x640 1 tank, 54.3ms\n",
      "Speed: 1.5ms preprocess, 54.3ms inference, 1.4ms postprocess per image at shape (1, 3, 384, 640)\n"
     ]
    },
    {
     "name": "stderr",
     "output_type": "stream",
     "text": [
      "127.0.0.1 - - [28/May/2025 12:49:53] \"POST /detect HTTP/1.1\" 200 -\n",
      "127.0.0.1 - - [28/May/2025 12:49:53] \"POST /update_bullet HTTP/1.1\" 200 -\n"
     ]
    },
    {
     "name": "stdout",
     "output_type": "stream",
     "text": [
      "💥 Bullet: {'x': 120.2901, 'y': 7.830665, 'z': 241.2565, 'hit': 'terrain'}\n"
     ]
    },
    {
     "name": "stderr",
     "output_type": "stream",
     "text": [
      "127.0.0.1 - - [28/May/2025 12:49:53] \"POST /get_action HTTP/1.1\" 200 -\n"
     ]
    },
    {
     "name": "stdout",
     "output_type": "stream",
     "text": [
      "🚗 Position: (118.5, 208.0), Sent Command: {'moveWS': {'command': 'W', 'weight': 0.5}, 'moveAD': {'command': '', 'weight': 0.0}, 'turretQE': {'command': '', 'weight': 0.0}, 'turretRF': {'command': '', 'weight': 0.0}, 'fire': True}\n",
      "\n",
      "image 1/1 /home/kwon/jupyter_home/temp.jpg: 384x640 (no detections), 45.6ms\n",
      "Speed: 1.8ms preprocess, 45.6ms inference, 0.7ms postprocess per image at shape (1, 3, 384, 640)\n"
     ]
    },
    {
     "name": "stderr",
     "output_type": "stream",
     "text": [
      "127.0.0.1 - - [28/May/2025 12:49:53] \"POST /detect HTTP/1.1\" 200 -\n",
      "127.0.0.1 - - [28/May/2025 12:49:54] \"POST /get_action HTTP/1.1\" 200 -\n"
     ]
    },
    {
     "name": "stdout",
     "output_type": "stream",
     "text": [
      "🔄 방향 전환: D for 9 ticks\n",
      "🚗 Position: (118.77, 214.26), Sent Command: {'moveWS': {'command': 'W', 'weight': 0.5}, 'moveAD': {'command': 'D', 'weight': 0.5}, 'turretQE': {'command': '', 'weight': 0.0}, 'turretRF': {'command': '', 'weight': 0.0}, 'fire': False}\n",
      "\n",
      "image 1/1 /home/kwon/jupyter_home/temp.jpg: 384x640 (no detections), 51.0ms\n",
      "Speed: 1.7ms preprocess, 51.0ms inference, 0.7ms postprocess per image at shape (1, 3, 384, 640)\n"
     ]
    },
    {
     "name": "stderr",
     "output_type": "stream",
     "text": [
      "127.0.0.1 - - [28/May/2025 12:49:54] \"POST /detect HTTP/1.1\" 200 -\n",
      "127.0.0.1 - - [28/May/2025 12:49:54] \"POST /get_action HTTP/1.1\" 200 -\n"
     ]
    },
    {
     "name": "stdout",
     "output_type": "stream",
     "text": [
      "🚗 Position: (119.64, 220.44), Sent Command: {'moveWS': {'command': 'W', 'weight': 0.5}, 'moveAD': {'command': 'D', 'weight': 0.5}, 'turretQE': {'command': '', 'weight': 0.0}, 'turretRF': {'command': '', 'weight': 0.0}, 'fire': False}\n",
      "\n",
      "image 1/1 /home/kwon/jupyter_home/temp.jpg: 384x640 1 car2, 47.4ms\n",
      "Speed: 1.6ms preprocess, 47.4ms inference, 1.4ms postprocess per image at shape (1, 3, 384, 640)\n"
     ]
    },
    {
     "name": "stderr",
     "output_type": "stream",
     "text": [
      "127.0.0.1 - - [28/May/2025 12:49:55] \"POST /detect HTTP/1.1\" 200 -\n",
      "127.0.0.1 - - [28/May/2025 12:49:55] \"POST /get_action HTTP/1.1\" 200 -\n"
     ]
    },
    {
     "name": "stdout",
     "output_type": "stream",
     "text": [
      "🚗 Position: (121.86, 226.27), Sent Command: {'moveWS': {'command': 'W', 'weight': 0.5}, 'moveAD': {'command': 'D', 'weight': 0.5}, 'turretQE': {'command': '', 'weight': 0.0}, 'turretRF': {'command': '', 'weight': 0.0}, 'fire': False}\n",
      "\n",
      "image 1/1 /home/kwon/jupyter_home/temp.jpg: 384x640 1 tank, 57.1ms\n",
      "Speed: 1.5ms preprocess, 57.1ms inference, 2.5ms postprocess per image at shape (1, 3, 384, 640)\n"
     ]
    },
    {
     "name": "stderr",
     "output_type": "stream",
     "text": [
      "127.0.0.1 - - [28/May/2025 12:49:55] \"POST /detect HTTP/1.1\" 200 -\n",
      "127.0.0.1 - - [28/May/2025 12:49:56] \"POST /get_action HTTP/1.1\" 200 -\n"
     ]
    },
    {
     "name": "stdout",
     "output_type": "stream",
     "text": [
      "🚗 Position: (125.39, 231.54), Sent Command: {'moveWS': {'command': 'W', 'weight': 0.5}, 'moveAD': {'command': 'D', 'weight': 0.5}, 'turretQE': {'command': '', 'weight': 0.0}, 'turretRF': {'command': '', 'weight': 0.0}, 'fire': True}\n",
      "\n",
      "image 1/1 /home/kwon/jupyter_home/temp.jpg: 384x640 (no detections), 52.4ms\n",
      "Speed: 1.5ms preprocess, 52.4ms inference, 0.7ms postprocess per image at shape (1, 3, 384, 640)\n"
     ]
    },
    {
     "name": "stderr",
     "output_type": "stream",
     "text": [
      "127.0.0.1 - - [28/May/2025 12:49:56] \"POST /detect HTTP/1.1\" 200 -\n",
      "127.0.0.1 - - [28/May/2025 12:49:56] \"POST /get_action HTTP/1.1\" 200 -\n"
     ]
    },
    {
     "name": "stdout",
     "output_type": "stream",
     "text": [
      "🚗 Position: (129.99, 235.85), Sent Command: {'moveWS': {'command': 'W', 'weight': 0.5}, 'moveAD': {'command': 'D', 'weight': 0.5}, 'turretQE': {'command': '', 'weight': 0.0}, 'turretRF': {'command': '', 'weight': 0.0}, 'fire': False}\n",
      "\n",
      "image 1/1 /home/kwon/jupyter_home/temp.jpg: 384x640 (no detections), 45.2ms\n",
      "Speed: 1.4ms preprocess, 45.2ms inference, 0.7ms postprocess per image at shape (1, 3, 384, 640)\n"
     ]
    },
    {
     "name": "stderr",
     "output_type": "stream",
     "text": [
      "127.0.0.1 - - [28/May/2025 12:49:57] \"POST /detect HTTP/1.1\" 200 -\n",
      "127.0.0.1 - - [28/May/2025 12:49:57] \"POST /get_action HTTP/1.1\" 200 -\n"
     ]
    },
    {
     "name": "stdout",
     "output_type": "stream",
     "text": [
      "🚗 Position: (135.39, 238.99), Sent Command: {'moveWS': {'command': 'W', 'weight': 0.5}, 'moveAD': {'command': 'D', 'weight': 0.5}, 'turretQE': {'command': '', 'weight': 0.0}, 'turretRF': {'command': '', 'weight': 0.0}, 'fire': False}\n",
      "\n"
     ]
    },
    {
     "name": "stderr",
     "output_type": "stream",
     "text": [
      "127.0.0.1 - - [28/May/2025 12:49:58] \"POST /get_action HTTP/1.1\" 200 -\n"
     ]
    },
    {
     "name": "stdout",
     "output_type": "stream",
     "text": [
      "🚗 Position: (141.16, 240.82), Sent Command: {'moveWS': {'command': 'W', 'weight': 0.5}, 'moveAD': {'command': 'D', 'weight': 0.5}, 'turretQE': {'command': '', 'weight': 0.0}, 'turretRF': {'command': '', 'weight': 0.0}, 'fire': False}\n",
      "image 1/1 /home/kwon/jupyter_home/temp.jpg: 384x640 (no detections), 48.1ms\n",
      "Speed: 1.6ms preprocess, 48.1ms inference, 0.7ms postprocess per image at shape (1, 3, 384, 640)\n"
     ]
    },
    {
     "name": "stderr",
     "output_type": "stream",
     "text": [
      "127.0.0.1 - - [28/May/2025 12:49:58] \"POST /detect HTTP/1.1\" 200 -\n",
      "127.0.0.1 - - [28/May/2025 12:49:58] \"POST /get_action HTTP/1.1\" 200 -\n"
     ]
    },
    {
     "name": "stdout",
     "output_type": "stream",
     "text": [
      "🚗 Position: (147.53, 241.33), Sent Command: {'moveWS': {'command': 'W', 'weight': 0.5}, 'moveAD': {'command': 'D', 'weight': 0.5}, 'turretQE': {'command': '', 'weight': 0.0}, 'turretRF': {'command': '', 'weight': 0.0}, 'fire': False}\n",
      "\n",
      "image 1/1 /home/kwon/jupyter_home/temp.jpg: 384x640 (no detections), 50.2ms\n",
      "Speed: 1.5ms preprocess, 50.2ms inference, 1.2ms postprocess per image at shape (1, 3, 384, 640)\n"
     ]
    },
    {
     "name": "stderr",
     "output_type": "stream",
     "text": [
      "127.0.0.1 - - [28/May/2025 12:49:58] \"POST /detect HTTP/1.1\" 200 -\n",
      "127.0.0.1 - - [28/May/2025 12:49:59] \"POST /get_action HTTP/1.1\" 200 -\n"
     ]
    },
    {
     "name": "stdout",
     "output_type": "stream",
     "text": [
      "🚗 Position: (153.71, 240.38), Sent Command: {'moveWS': {'command': 'W', 'weight': 0.5}, 'moveAD': {'command': 'D', 'weight': 0.5}, 'turretQE': {'command': '', 'weight': 0.0}, 'turretRF': {'command': '', 'weight': 0.0}, 'fire': False}\n",
      "\n",
      "image 1/1 /home/kwon/jupyter_home/temp.jpg: 384x640 (no detections), 53.4ms\n",
      "Speed: 1.5ms preprocess, 53.4ms inference, 1.4ms postprocess per image at shape (1, 3, 384, 640)\n"
     ]
    },
    {
     "name": "stderr",
     "output_type": "stream",
     "text": [
      "127.0.0.1 - - [28/May/2025 12:49:59] \"POST /detect HTTP/1.1\" 200 -\n",
      "127.0.0.1 - - [28/May/2025 12:50:00] \"POST /get_action HTTP/1.1\" 200 -\n"
     ]
    },
    {
     "name": "stdout",
     "output_type": "stream",
     "text": [
      "🔄 방향 전환: W for 38 ticks\n",
      "🚗 Position: (159.4, 238.09), Sent Command: {'moveWS': {'command': 'W', 'weight': 0.5}, 'moveAD': {'command': '', 'weight': 0.0}, 'turretQE': {'command': '', 'weight': 0.0}, 'turretRF': {'command': '', 'weight': 0.0}, 'fire': False}\n",
      "\n",
      "image 1/1 /home/kwon/jupyter_home/temp.jpg: 384x640 (no detections), 56.2ms\n",
      "Speed: 1.5ms preprocess, 56.2ms inference, 0.7ms postprocess per image at shape (1, 3, 384, 640)\n"
     ]
    },
    {
     "name": "stderr",
     "output_type": "stream",
     "text": [
      "127.0.0.1 - - [28/May/2025 12:50:00] \"POST /detect HTTP/1.1\" 200 -\n",
      "127.0.0.1 - - [28/May/2025 12:50:00] \"POST /get_action HTTP/1.1\" 200 -\n"
     ]
    },
    {
     "name": "stdout",
     "output_type": "stream",
     "text": [
      "🚗 Position: (164.88, 235.0), Sent Command: {'moveWS': {'command': 'W', 'weight': 0.5}, 'moveAD': {'command': '', 'weight': 0.0}, 'turretQE': {'command': '', 'weight': 0.0}, 'turretRF': {'command': '', 'weight': 0.0}, 'fire': False}\n",
      "\n",
      "image 1/1 /home/kwon/jupyter_home/temp.jpg: 384x640 (no detections), 47.9ms\n",
      "Speed: 1.4ms preprocess, 47.9ms inference, 1.2ms postprocess per image at shape (1, 3, 384, 640)\n"
     ]
    },
    {
     "name": "stderr",
     "output_type": "stream",
     "text": [
      "127.0.0.1 - - [28/May/2025 12:50:01] \"POST /detect HTTP/1.1\" 200 -\n",
      "127.0.0.1 - - [28/May/2025 12:50:01] \"POST /get_action HTTP/1.1\" 200 -\n"
     ]
    },
    {
     "name": "stdout",
     "output_type": "stream",
     "text": [
      "🚗 Position: (170.3, 231.95), Sent Command: {'moveWS': {'command': 'W', 'weight': 0.5}, 'moveAD': {'command': '', 'weight': 0.0}, 'turretQE': {'command': '', 'weight': 0.0}, 'turretRF': {'command': '', 'weight': 0.0}, 'fire': False}\n",
      "\n",
      "image 1/1 /home/kwon/jupyter_home/temp.jpg: 384x640 (no detections), 45.6ms\n",
      "Speed: 1.4ms preprocess, 45.6ms inference, 0.7ms postprocess per image at shape (1, 3, 384, 640)\n"
     ]
    },
    {
     "name": "stderr",
     "output_type": "stream",
     "text": [
      "127.0.0.1 - - [28/May/2025 12:50:01] \"POST /detect HTTP/1.1\" 200 -\n",
      "127.0.0.1 - - [28/May/2025 12:50:01] \"POST /get_action HTTP/1.1\" 200 -\n"
     ]
    },
    {
     "name": "stdout",
     "output_type": "stream",
     "text": [
      "🚗 Position: (175.8, 228.86), Sent Command: {'moveWS': {'command': 'W', 'weight': 0.5}, 'moveAD': {'command': '', 'weight': 0.0}, 'turretQE': {'command': '', 'weight': 0.0}, 'turretRF': {'command': '', 'weight': 0.0}, 'fire': False}\n",
      "\n",
      "image 1/1 /home/kwon/jupyter_home/temp.jpg: 384x640 (no detections), 50.5ms\n",
      "Speed: 1.8ms preprocess, 50.5ms inference, 0.7ms postprocess per image at shape (1, 3, 384, 640)\n"
     ]
    },
    {
     "name": "stderr",
     "output_type": "stream",
     "text": [
      "127.0.0.1 - - [28/May/2025 12:50:02] \"POST /detect HTTP/1.1\" 200 -\n",
      "127.0.0.1 - - [28/May/2025 12:50:02] \"POST /get_action HTTP/1.1\" 200 -\n"
     ]
    },
    {
     "name": "stdout",
     "output_type": "stream",
     "text": [
      "🚗 Position: (181.18, 225.79), Sent Command: {'moveWS': {'command': 'W', 'weight': 0.5}, 'moveAD': {'command': '', 'weight': 0.0}, 'turretQE': {'command': '', 'weight': 0.0}, 'turretRF': {'command': '', 'weight': 0.0}, 'fire': False}\n",
      "\n",
      "image 1/1 /home/kwon/jupyter_home/temp.jpg: 384x640 (no detections), 51.7ms\n",
      "Speed: 2.5ms preprocess, 51.7ms inference, 0.7ms postprocess per image at shape (1, 3, 384, 640)\n"
     ]
    },
    {
     "name": "stderr",
     "output_type": "stream",
     "text": [
      "127.0.0.1 - - [28/May/2025 12:50:03] \"POST /detect HTTP/1.1\" 200 -\n",
      "127.0.0.1 - - [28/May/2025 12:50:03] \"POST /get_action HTTP/1.1\" 200 -\n"
     ]
    },
    {
     "name": "stdout",
     "output_type": "stream",
     "text": [
      "🚗 Position: (186.55, 222.76), Sent Command: {'moveWS': {'command': 'W', 'weight': 0.5}, 'moveAD': {'command': '', 'weight': 0.0}, 'turretQE': {'command': '', 'weight': 0.0}, 'turretRF': {'command': '', 'weight': 0.0}, 'fire': False}\n",
      "\n",
      "image 1/1 /home/kwon/jupyter_home/temp.jpg: 384x640 (no detections), 49.6ms\n",
      "Speed: 1.5ms preprocess, 49.6ms inference, 0.8ms postprocess per image at shape (1, 3, 384, 640)\n"
     ]
    },
    {
     "name": "stderr",
     "output_type": "stream",
     "text": [
      "127.0.0.1 - - [28/May/2025 12:50:03] \"POST /detect HTTP/1.1\" 200 -\n",
      "127.0.0.1 - - [28/May/2025 12:50:03] \"POST /get_action HTTP/1.1\" 200 -\n"
     ]
    },
    {
     "name": "stdout",
     "output_type": "stream",
     "text": [
      "🚗 Position: (192.07, 219.84), Sent Command: {'moveWS': {'command': 'W', 'weight': 0.5}, 'moveAD': {'command': '', 'weight': 0.0}, 'turretQE': {'command': '', 'weight': 0.0}, 'turretRF': {'command': '', 'weight': 0.0}, 'fire': False}\n"
     ]
    },
    {
     "name": "stderr",
     "output_type": "stream",
     "text": [
      "127.0.0.1 - - [28/May/2025 12:50:04] \"POST /get_action HTTP/1.1\" 200 -\n"
     ]
    },
    {
     "name": "stdout",
     "output_type": "stream",
     "text": [
      "🚗 Position: (197.54, 217.15), Sent Command: {'moveWS': {'command': 'W', 'weight': 0.5}, 'moveAD': {'command': '', 'weight': 0.0}, 'turretQE': {'command': '', 'weight': 0.0}, 'turretRF': {'command': '', 'weight': 0.0}, 'fire': False}\n",
      "\n",
      "image 1/1 /home/kwon/jupyter_home/temp.jpg: 384x640 (no detections), 53.7ms\n",
      "Speed: 1.6ms preprocess, 53.7ms inference, 1.3ms postprocess per image at shape (1, 3, 384, 640)\n"
     ]
    },
    {
     "name": "stderr",
     "output_type": "stream",
     "text": [
      "127.0.0.1 - - [28/May/2025 12:50:04] \"POST /detect HTTP/1.1\" 200 -\n",
      "127.0.0.1 - - [28/May/2025 12:50:05] \"POST /get_action HTTP/1.1\" 200 -\n"
     ]
    },
    {
     "name": "stdout",
     "output_type": "stream",
     "text": [
      "🚗 Position: (203.35, 214.43), Sent Command: {'moveWS': {'command': 'W', 'weight': 0.5}, 'moveAD': {'command': '', 'weight': 0.0}, 'turretQE': {'command': '', 'weight': 0.0}, 'turretRF': {'command': '', 'weight': 0.0}, 'fire': False}\n",
      "\n",
      "image 1/1 /home/kwon/jupyter_home/temp.jpg: 384x640 (no detections), 67.7ms\n",
      "Speed: 2.0ms preprocess, 67.7ms inference, 8.0ms postprocess per image at shape (1, 3, 384, 640)\n"
     ]
    },
    {
     "name": "stderr",
     "output_type": "stream",
     "text": [
      "127.0.0.1 - - [28/May/2025 12:50:05] \"POST /detect HTTP/1.1\" 200 -\n",
      "127.0.0.1 - - [28/May/2025 12:50:05] \"POST /get_action HTTP/1.1\" 200 -\n"
     ]
    },
    {
     "name": "stdout",
     "output_type": "stream",
     "text": [
      "🚗 Position: (208.95, 211.82), Sent Command: {'moveWS': {'command': 'W', 'weight': 0.5}, 'moveAD': {'command': '', 'weight': 0.0}, 'turretQE': {'command': '', 'weight': 0.0}, 'turretRF': {'command': '', 'weight': 0.0}, 'fire': False}\n",
      "\n",
      "image 1/1 /home/kwon/jupyter_home/temp.jpg: 384x640 (no detections), 46.1ms\n",
      "Speed: 1.4ms preprocess, 46.1ms inference, 1.0ms postprocess per image at shape (1, 3, 384, 640)\n"
     ]
    },
    {
     "name": "stderr",
     "output_type": "stream",
     "text": [
      "127.0.0.1 - - [28/May/2025 12:50:06] \"POST /detect HTTP/1.1\" 200 -\n",
      "127.0.0.1 - - [28/May/2025 12:50:06] \"POST /get_action HTTP/1.1\" 200 -\n"
     ]
    },
    {
     "name": "stdout",
     "output_type": "stream",
     "text": [
      "🚗 Position: (214.68, 209.06), Sent Command: {'moveWS': {'command': 'W', 'weight': 0.5}, 'moveAD': {'command': '', 'weight': 0.0}, 'turretQE': {'command': '', 'weight': 0.0}, 'turretRF': {'command': '', 'weight': 0.0}, 'fire': False}\n",
      "\n",
      "image 1/1 /home/kwon/jupyter_home/temp.jpg: 384x640 (no detections), 47.2ms\n",
      "Speed: 1.4ms preprocess, 47.2ms inference, 1.0ms postprocess per image at shape (1, 3, 384, 640)\n"
     ]
    },
    {
     "name": "stderr",
     "output_type": "stream",
     "text": [
      "127.0.0.1 - - [28/May/2025 12:50:06] \"POST /detect HTTP/1.1\" 200 -\n",
      "127.0.0.1 - - [28/May/2025 12:50:07] \"POST /get_action HTTP/1.1\" 200 -\n"
     ]
    },
    {
     "name": "stdout",
     "output_type": "stream",
     "text": [
      "🚗 Position: (220.33, 206.16), Sent Command: {'moveWS': {'command': 'W', 'weight': 0.5}, 'moveAD': {'command': '', 'weight': 0.0}, 'turretQE': {'command': '', 'weight': 0.0}, 'turretRF': {'command': '', 'weight': 0.0}, 'fire': False}\n",
      "\n",
      "image 1/1 /home/kwon/jupyter_home/temp.jpg: 384x640 (no detections), 51.1ms\n",
      "Speed: 1.7ms preprocess, 51.1ms inference, 1.3ms postprocess per image at shape (1, 3, 384, 640)\n"
     ]
    },
    {
     "name": "stderr",
     "output_type": "stream",
     "text": [
      "127.0.0.1 - - [28/May/2025 12:50:07] \"POST /detect HTTP/1.1\" 200 -\n",
      "127.0.0.1 - - [28/May/2025 12:50:07] \"POST /get_action HTTP/1.1\" 200 -\n"
     ]
    },
    {
     "name": "stdout",
     "output_type": "stream",
     "text": [
      "🚗 Position: (225.83, 203.22), Sent Command: {'moveWS': {'command': 'W', 'weight': 0.5}, 'moveAD': {'command': '', 'weight': 0.0}, 'turretQE': {'command': '', 'weight': 0.0}, 'turretRF': {'command': '', 'weight': 0.0}, 'fire': False}\n",
      "\n",
      "image 1/1 /home/kwon/jupyter_home/temp.jpg: 384x640 (no detections), 51.8ms\n",
      "Speed: 1.5ms preprocess, 51.8ms inference, 4.7ms postprocess per image at shape (1, 3, 384, 640)\n"
     ]
    },
    {
     "name": "stderr",
     "output_type": "stream",
     "text": [
      "127.0.0.1 - - [28/May/2025 12:50:08] \"POST /detect HTTP/1.1\" 200 -\n",
      "127.0.0.1 - - [28/May/2025 12:50:08] \"POST /get_action HTTP/1.1\" 200 -\n"
     ]
    },
    {
     "name": "stdout",
     "output_type": "stream",
     "text": [
      "🚗 Position: (231.3, 200.26), Sent Command: {'moveWS': {'command': 'W', 'weight': 0.5}, 'moveAD': {'command': '', 'weight': 0.0}, 'turretQE': {'command': '', 'weight': 0.0}, 'turretRF': {'command': '', 'weight': 0.0}, 'fire': False}\n",
      "\n",
      "image 1/1 /home/kwon/jupyter_home/temp.jpg: 384x640 (no detections), 46.9ms\n",
      "Speed: 2.1ms preprocess, 46.9ms inference, 1.5ms postprocess per image at shape (1, 3, 384, 640)\n"
     ]
    },
    {
     "name": "stderr",
     "output_type": "stream",
     "text": [
      "127.0.0.1 - - [28/May/2025 12:50:08] \"POST /detect HTTP/1.1\" 200 -\n",
      "127.0.0.1 - - [28/May/2025 12:50:09] \"POST /get_action HTTP/1.1\" 200 -\n"
     ]
    },
    {
     "name": "stdout",
     "output_type": "stream",
     "text": [
      "🚗 Position: (236.81, 197.29), Sent Command: {'moveWS': {'command': 'W', 'weight': 0.5}, 'moveAD': {'command': '', 'weight': 0.0}, 'turretQE': {'command': '', 'weight': 0.0}, 'turretRF': {'command': '', 'weight': 0.0}, 'fire': False}\n",
      "\n",
      "image 1/1 /home/kwon/jupyter_home/temp.jpg: 384x640 (no detections), 50.3ms\n",
      "Speed: 2.1ms preprocess, 50.3ms inference, 0.7ms postprocess per image at shape (1, 3, 384, 640)\n"
     ]
    },
    {
     "name": "stderr",
     "output_type": "stream",
     "text": [
      "127.0.0.1 - - [28/May/2025 12:50:09] \"POST /detect HTTP/1.1\" 200 -\n",
      "127.0.0.1 - - [28/May/2025 12:50:09] \"POST /get_action HTTP/1.1\" 200 -\n"
     ]
    },
    {
     "name": "stdout",
     "output_type": "stream",
     "text": [
      "🚗 Position: (242.41, 194.29), Sent Command: {'moveWS': {'command': 'W', 'weight': 0.5}, 'moveAD': {'command': '', 'weight': 0.0}, 'turretQE': {'command': '', 'weight': 0.0}, 'turretRF': {'command': '', 'weight': 0.0}, 'fire': False}\n",
      "\n",
      "image 1/1 /home/kwon/jupyter_home/temp.jpg: 384x640 (no detections), 48.1ms\n",
      "Speed: 1.5ms preprocess, 48.1ms inference, 1.2ms postprocess per image at shape (1, 3, 384, 640)\n"
     ]
    },
    {
     "name": "stderr",
     "output_type": "stream",
     "text": [
      "127.0.0.1 - - [28/May/2025 12:50:10] \"POST /detect HTTP/1.1\" 200 -\n",
      "127.0.0.1 - - [28/May/2025 12:50:10] \"POST /get_action HTTP/1.1\" 200 -\n"
     ]
    },
    {
     "name": "stdout",
     "output_type": "stream",
     "text": [
      "🚗 Position: (247.98, 191.32), Sent Command: {'moveWS': {'command': 'W', 'weight': 0.5}, 'moveAD': {'command': '', 'weight': 0.0}, 'turretQE': {'command': '', 'weight': 0.0}, 'turretRF': {'command': '', 'weight': 0.0}, 'fire': False}\n",
      "\n",
      "image 1/1 /home/kwon/jupyter_home/temp.jpg: 384x640 (no detections), 46.5ms\n",
      "Speed: 1.5ms preprocess, 46.5ms inference, 0.6ms postprocess per image at shape (1, 3, 384, 640)\n"
     ]
    },
    {
     "name": "stderr",
     "output_type": "stream",
     "text": [
      "127.0.0.1 - - [28/May/2025 12:50:11] \"POST /detect HTTP/1.1\" 200 -\n",
      "127.0.0.1 - - [28/May/2025 12:50:11] \"POST /get_action HTTP/1.1\" 200 -\n"
     ]
    },
    {
     "name": "stdout",
     "output_type": "stream",
     "text": [
      "🚗 Position: (253.56, 188.37), Sent Command: {'moveWS': {'command': 'W', 'weight': 0.5}, 'moveAD': {'command': '', 'weight': 0.0}, 'turretQE': {'command': '', 'weight': 0.0}, 'turretRF': {'command': '', 'weight': 0.0}, 'fire': False}\n",
      "\n"
     ]
    },
    {
     "name": "stderr",
     "output_type": "stream",
     "text": [
      "127.0.0.1 - - [28/May/2025 12:50:11] \"POST /get_action HTTP/1.1\" 200 -\n"
     ]
    },
    {
     "name": "stdout",
     "output_type": "stream",
     "text": [
      "🚗 Position: (258.86, 185.6), Sent Command: {'moveWS': {'command': 'W', 'weight': 0.5}, 'moveAD': {'command': '', 'weight': 0.0}, 'turretQE': {'command': '', 'weight': 0.0}, 'turretRF': {'command': '', 'weight': 0.0}, 'fire': False}\n",
      "image 1/1 /home/kwon/jupyter_home/temp.jpg: 384x640 (no detections), 79.8ms\n",
      "Speed: 2.9ms preprocess, 79.8ms inference, 1.0ms postprocess per image at shape (1, 3, 384, 640)\n"
     ]
    },
    {
     "name": "stderr",
     "output_type": "stream",
     "text": [
      "127.0.0.1 - - [28/May/2025 12:50:11] \"POST /detect HTTP/1.1\" 200 -\n",
      "127.0.0.1 - - [28/May/2025 12:50:12] \"POST /get_action HTTP/1.1\" 200 -\n"
     ]
    },
    {
     "name": "stdout",
     "output_type": "stream",
     "text": [
      "🚗 Position: (264.63, 182.56), Sent Command: {'moveWS': {'command': 'W', 'weight': 0.5}, 'moveAD': {'command': '', 'weight': 0.0}, 'turretQE': {'command': '', 'weight': 0.0}, 'turretRF': {'command': '', 'weight': 0.0}, 'fire': False}\n",
      "\n",
      "image 1/1 /home/kwon/jupyter_home/temp.jpg: 384x640 (no detections), 45.0ms\n",
      "Speed: 1.4ms preprocess, 45.0ms inference, 0.6ms postprocess per image at shape (1, 3, 384, 640)\n"
     ]
    },
    {
     "name": "stderr",
     "output_type": "stream",
     "text": [
      "127.0.0.1 - - [28/May/2025 12:50:12] \"POST /detect HTTP/1.1\" 200 -\n",
      "127.0.0.1 - - [28/May/2025 12:50:12] \"POST /get_action HTTP/1.1\" 200 -\n"
     ]
    },
    {
     "name": "stdout",
     "output_type": "stream",
     "text": [
      "🚗 Position: (270.24, 179.51), Sent Command: {'moveWS': {'command': 'W', 'weight': 0.5}, 'moveAD': {'command': '', 'weight': 0.0}, 'turretQE': {'command': '', 'weight': 0.0}, 'turretRF': {'command': '', 'weight': 0.0}, 'fire': False}\n",
      "\n",
      "image 1/1 /home/kwon/jupyter_home/temp.jpg: 384x640 (no detections), 47.9ms\n",
      "Speed: 1.5ms preprocess, 47.9ms inference, 1.6ms postprocess per image at shape (1, 3, 384, 640)\n"
     ]
    },
    {
     "name": "stderr",
     "output_type": "stream",
     "text": [
      "127.0.0.1 - - [28/May/2025 12:50:13] \"POST /detect HTTP/1.1\" 200 -\n",
      "127.0.0.1 - - [28/May/2025 12:50:13] \"POST /get_action HTTP/1.1\" 200 -\n"
     ]
    },
    {
     "name": "stdout",
     "output_type": "stream",
     "text": [
      "🚗 Position: (275.74, 176.31), Sent Command: {'moveWS': {'command': 'W', 'weight': 0.5}, 'moveAD': {'command': '', 'weight': 0.0}, 'turretQE': {'command': '', 'weight': 0.0}, 'turretRF': {'command': '', 'weight': 0.0}, 'fire': False}\n",
      "\n",
      "image 1/1 /home/kwon/jupyter_home/temp.jpg: 384x640 (no detections), 44.3ms\n",
      "Speed: 1.4ms preprocess, 44.3ms inference, 0.6ms postprocess per image at shape (1, 3, 384, 640)\n"
     ]
    },
    {
     "name": "stderr",
     "output_type": "stream",
     "text": [
      "127.0.0.1 - - [28/May/2025 12:50:13] \"POST /detect HTTP/1.1\" 200 -\n",
      "127.0.0.1 - - [28/May/2025 12:50:14] \"POST /get_action HTTP/1.1\" 200 -\n"
     ]
    },
    {
     "name": "stdout",
     "output_type": "stream",
     "text": [
      "🚗 Position: (281.1, 172.96), Sent Command: {'moveWS': {'command': 'W', 'weight': 0.5}, 'moveAD': {'command': '', 'weight': 0.0}, 'turretQE': {'command': '', 'weight': 0.0}, 'turretRF': {'command': '', 'weight': 0.0}, 'fire': False}\n",
      "\n",
      "image 1/1 /home/kwon/jupyter_home/temp.jpg: 384x640 (no detections), 63.9ms\n",
      "Speed: 2.2ms preprocess, 63.9ms inference, 1.8ms postprocess per image at shape (1, 3, 384, 640)\n"
     ]
    },
    {
     "name": "stderr",
     "output_type": "stream",
     "text": [
      "127.0.0.1 - - [28/May/2025 12:50:14] \"POST /detect HTTP/1.1\" 200 -\n",
      "127.0.0.1 - - [28/May/2025 12:50:14] \"POST /get_action HTTP/1.1\" 200 -\n"
     ]
    },
    {
     "name": "stdout",
     "output_type": "stream",
     "text": [
      "🚗 Position: (286.32, 169.54), Sent Command: {'moveWS': {'command': 'W', 'weight': 0.5}, 'moveAD': {'command': '', 'weight': 0.0}, 'turretQE': {'command': '', 'weight': 0.0}, 'turretRF': {'command': '', 'weight': 0.0}, 'fire': False}\n",
      "\n",
      "image 1/1 /home/kwon/jupyter_home/temp.jpg: 384x640 (no detections), 57.1ms\n",
      "Speed: 1.6ms preprocess, 57.1ms inference, 1.2ms postprocess per image at shape (1, 3, 384, 640)\n"
     ]
    },
    {
     "name": "stderr",
     "output_type": "stream",
     "text": [
      "127.0.0.1 - - [28/May/2025 12:50:15] \"POST /detect HTTP/1.1\" 200 -\n",
      "127.0.0.1 - - [28/May/2025 12:50:15] \"POST /get_action HTTP/1.1\" 200 -\n"
     ]
    },
    {
     "name": "stdout",
     "output_type": "stream",
     "text": [
      "🧱 벽 감지: 회전 → A for 6 ticks\n",
      "🚗 Position: (291.45, 166.16), Sent Command: {'moveWS': {'command': 'W', 'weight': 0.5}, 'moveAD': {'command': 'A', 'weight': 0.5}, 'turretQE': {'command': '', 'weight': 0.0}, 'turretRF': {'command': '', 'weight': 0.0}, 'fire': False}\n",
      "\n",
      "image 1/1 /home/kwon/jupyter_home/temp.jpg: 384x640 (no detections), 44.7ms\n",
      "Speed: 1.4ms preprocess, 44.7ms inference, 0.7ms postprocess per image at shape (1, 3, 384, 640)\n"
     ]
    },
    {
     "name": "stderr",
     "output_type": "stream",
     "text": [
      "127.0.0.1 - - [28/May/2025 12:50:16] \"POST /detect HTTP/1.1\" 200 -\n",
      "127.0.0.1 - - [28/May/2025 12:50:16] \"POST /get_action HTTP/1.1\" 200 -\n"
     ]
    },
    {
     "name": "stdout",
     "output_type": "stream",
     "text": [
      "🚗 Position: (296.91, 163.31), Sent Command: {'moveWS': {'command': 'W', 'weight': 0.5}, 'moveAD': {'command': 'A', 'weight': 0.5}, 'turretQE': {'command': '', 'weight': 0.0}, 'turretRF': {'command': '', 'weight': 0.0}, 'fire': False}\n",
      "\n",
      "image 1/1 /home/kwon/jupyter_home/temp.jpg: 384x640 (no detections), 54.2ms\n",
      "Speed: 1.5ms preprocess, 54.2ms inference, 1.0ms postprocess per image at shape (1, 3, 384, 640)\n"
     ]
    },
    {
     "name": "stderr",
     "output_type": "stream",
     "text": [
      "127.0.0.1 - - [28/May/2025 12:50:16] \"POST /detect HTTP/1.1\" 200 -\n",
      "127.0.0.1 - - [28/May/2025 12:50:16] \"POST /get_action HTTP/1.1\" 200 -\n"
     ]
    },
    {
     "name": "stdout",
     "output_type": "stream",
     "text": [
      "🚗 Position: (300.0, 161.76), Sent Command: {'moveWS': {'command': 'W', 'weight': 0.5}, 'moveAD': {'command': 'A', 'weight': 0.5}, 'turretQE': {'command': '', 'weight': 0.0}, 'turretRF': {'command': '', 'weight': 0.0}, 'fire': False}\n",
      "\n",
      "image 1/1 /home/kwon/jupyter_home/temp.jpg: 384x640 (no detections), 57.0ms\n",
      "Speed: 2.5ms preprocess, 57.0ms inference, 0.6ms postprocess per image at shape (1, 3, 384, 640)\n"
     ]
    },
    {
     "name": "stderr",
     "output_type": "stream",
     "text": [
      "127.0.0.1 - - [28/May/2025 12:50:17] \"POST /detect HTTP/1.1\" 200 -\n",
      "127.0.0.1 - - [28/May/2025 12:50:17] \"POST /get_action HTTP/1.1\" 200 -\n"
     ]
    },
    {
     "name": "stdout",
     "output_type": "stream",
     "text": [
      "🚗 Position: (300.0, 161.6), Sent Command: {'moveWS': {'command': 'W', 'weight': 0.5}, 'moveAD': {'command': 'A', 'weight': 0.5}, 'turretQE': {'command': '', 'weight': 0.0}, 'turretRF': {'command': '', 'weight': 0.0}, 'fire': False}\n",
      "\n",
      "image 1/1 /home/kwon/jupyter_home/temp.jpg: 384x640 (no detections), 46.9ms\n",
      "Speed: 1.5ms preprocess, 46.9ms inference, 0.7ms postprocess per image at shape (1, 3, 384, 640)\n"
     ]
    },
    {
     "name": "stderr",
     "output_type": "stream",
     "text": [
      "127.0.0.1 - - [28/May/2025 12:50:18] \"POST /detect HTTP/1.1\" 200 -\n",
      "127.0.0.1 - - [28/May/2025 12:50:18] \"POST /get_action HTTP/1.1\" 200 -\n"
     ]
    },
    {
     "name": "stdout",
     "output_type": "stream",
     "text": [
      "🚗 Position: (300.0, 162.82), Sent Command: {'moveWS': {'command': 'W', 'weight': 0.5}, 'moveAD': {'command': 'A', 'weight': 0.5}, 'turretQE': {'command': '', 'weight': 0.0}, 'turretRF': {'command': '', 'weight': 0.0}, 'fire': False}\n",
      "\n"
     ]
    },
    {
     "name": "stderr",
     "output_type": "stream",
     "text": [
      "127.0.0.1 - - [28/May/2025 12:50:18] \"POST /get_action HTTP/1.1\" 200 -\n"
     ]
    },
    {
     "name": "stdout",
     "output_type": "stream",
     "text": [
      "🚗 Position: (300.0, 165.48), Sent Command: {'moveWS': {'command': 'W', 'weight': 0.5}, 'moveAD': {'command': '', 'weight': 0.0}, 'turretQE': {'command': '', 'weight': 0.0}, 'turretRF': {'command': '', 'weight': 0.0}, 'fire': False}\n",
      "image 1/1 /home/kwon/jupyter_home/temp.jpg: 384x640 (no detections), 47.1ms\n",
      "Speed: 1.6ms preprocess, 47.1ms inference, 0.7ms postprocess per image at shape (1, 3, 384, 640)\n"
     ]
    },
    {
     "name": "stderr",
     "output_type": "stream",
     "text": [
      "127.0.0.1 - - [28/May/2025 12:50:18] \"POST /detect HTTP/1.1\" 200 -\n",
      "127.0.0.1 - - [28/May/2025 12:50:19] \"POST /get_action HTTP/1.1\" 200 -\n"
     ]
    },
    {
     "name": "stdout",
     "output_type": "stream",
     "text": [
      "🧱 벽 감지: 회전 → A for 5 ticks\n",
      "🚗 Position: (300.0, 168.84), Sent Command: {'moveWS': {'command': 'W', 'weight': 0.5}, 'moveAD': {'command': 'A', 'weight': 0.5}, 'turretQE': {'command': '', 'weight': 0.0}, 'turretRF': {'command': '', 'weight': 0.0}, 'fire': False}\n",
      "\n",
      "image 1/1 /home/kwon/jupyter_home/temp.jpg: 384x640 (no detections), 77.0ms\n",
      "Speed: 2.4ms preprocess, 77.0ms inference, 0.9ms postprocess per image at shape (1, 3, 384, 640)\n"
     ]
    },
    {
     "name": "stderr",
     "output_type": "stream",
     "text": [
      "127.0.0.1 - - [28/May/2025 12:50:19] \"POST /detect HTTP/1.1\" 200 -\n",
      "127.0.0.1 - - [28/May/2025 12:50:20] \"POST /get_action HTTP/1.1\" 200 -\n"
     ]
    },
    {
     "name": "stdout",
     "output_type": "stream",
     "text": [
      "🚗 Position: (300.0, 172.64), Sent Command: {'moveWS': {'command': 'W', 'weight': 0.5}, 'moveAD': {'command': 'A', 'weight': 0.5}, 'turretQE': {'command': '', 'weight': 0.0}, 'turretRF': {'command': '', 'weight': 0.0}, 'fire': False}\n",
      "\n",
      "image 1/1 /home/kwon/jupyter_home/temp.jpg: 384x640 (no detections), 49.0ms\n",
      "Speed: 1.4ms preprocess, 49.0ms inference, 0.8ms postprocess per image at shape (1, 3, 384, 640)\n"
     ]
    },
    {
     "name": "stderr",
     "output_type": "stream",
     "text": [
      "127.0.0.1 - - [28/May/2025 12:50:20] \"POST /detect HTTP/1.1\" 200 -\n",
      "127.0.0.1 - - [28/May/2025 12:50:20] \"POST /get_action HTTP/1.1\" 200 -\n"
     ]
    },
    {
     "name": "stdout",
     "output_type": "stream",
     "text": [
      "🚗 Position: (300.0, 177.43), Sent Command: {'moveWS': {'command': 'W', 'weight': 0.5}, 'moveAD': {'command': 'A', 'weight': 0.5}, 'turretQE': {'command': '', 'weight': 0.0}, 'turretRF': {'command': '', 'weight': 0.0}, 'fire': False}\n",
      "\n",
      "image 1/1 /home/kwon/jupyter_home/temp.jpg: 384x640 (no detections), 48.9ms\n",
      "Speed: 1.3ms preprocess, 48.9ms inference, 1.1ms postprocess per image at shape (1, 3, 384, 640)\n"
     ]
    },
    {
     "name": "stderr",
     "output_type": "stream",
     "text": [
      "127.0.0.1 - - [28/May/2025 12:50:21] \"POST /detect HTTP/1.1\" 200 -\n",
      "127.0.0.1 - - [28/May/2025 12:50:21] \"POST /get_action HTTP/1.1\" 200 -\n"
     ]
    },
    {
     "name": "stdout",
     "output_type": "stream",
     "text": [
      "🚗 Position: (300.0, 183.0), Sent Command: {'moveWS': {'command': 'W', 'weight': 0.5}, 'moveAD': {'command': 'A', 'weight': 0.5}, 'turretQE': {'command': '', 'weight': 0.0}, 'turretRF': {'command': '', 'weight': 0.0}, 'fire': False}\n",
      "\n",
      "image 1/1 /home/kwon/jupyter_home/temp.jpg: 384x640 (no detections), 49.2ms\n",
      "Speed: 1.4ms preprocess, 49.2ms inference, 0.6ms postprocess per image at shape (1, 3, 384, 640)\n"
     ]
    },
    {
     "name": "stderr",
     "output_type": "stream",
     "text": [
      "127.0.0.1 - - [28/May/2025 12:50:21] \"POST /detect HTTP/1.1\" 200 -\n",
      "127.0.0.1 - - [28/May/2025 12:50:22] \"POST /get_action HTTP/1.1\" 200 -\n"
     ]
    },
    {
     "name": "stdout",
     "output_type": "stream",
     "text": [
      "🚗 Position: (300.0, 189.1), Sent Command: {'moveWS': {'command': 'W', 'weight': 0.5}, 'moveAD': {'command': '', 'weight': 0.0}, 'turretQE': {'command': '', 'weight': 0.0}, 'turretRF': {'command': '', 'weight': 0.0}, 'fire': False}\n",
      "\n",
      "image 1/1 /home/kwon/jupyter_home/temp.jpg: 384x640 (no detections), 67.2ms\n",
      "Speed: 1.5ms preprocess, 67.2ms inference, 7.2ms postprocess per image at shape (1, 3, 384, 640)\n"
     ]
    },
    {
     "name": "stderr",
     "output_type": "stream",
     "text": [
      "127.0.0.1 - - [28/May/2025 12:50:22] \"POST /detect HTTP/1.1\" 200 -\n",
      "127.0.0.1 - - [28/May/2025 12:50:22] \"POST /get_action HTTP/1.1\" 200 -\n"
     ]
    },
    {
     "name": "stdout",
     "output_type": "stream",
     "text": [
      "🧱 벽 감지: 회전 → A for 5 ticks\n",
      "🚗 Position: (300.0, 195.37), Sent Command: {'moveWS': {'command': 'W', 'weight': 0.5}, 'moveAD': {'command': 'A', 'weight': 0.5}, 'turretQE': {'command': '', 'weight': 0.0}, 'turretRF': {'command': '', 'weight': 0.0}, 'fire': False}\n",
      "\n",
      "image 1/1 /home/kwon/jupyter_home/temp.jpg: 384x640 (no detections), 60.9ms\n",
      "Speed: 1.8ms preprocess, 60.9ms inference, 0.9ms postprocess per image at shape (1, 3, 384, 640)\n"
     ]
    },
    {
     "name": "stderr",
     "output_type": "stream",
     "text": [
      "127.0.0.1 - - [28/May/2025 12:50:23] \"POST /detect HTTP/1.1\" 200 -\n",
      "127.0.0.1 - - [28/May/2025 12:50:23] \"POST /get_action HTTP/1.1\" 200 -\n"
     ]
    },
    {
     "name": "stdout",
     "output_type": "stream",
     "text": [
      "🚗 Position: (299.88, 201.55), Sent Command: {'moveWS': {'command': 'W', 'weight': 0.5}, 'moveAD': {'command': 'A', 'weight': 0.5}, 'turretQE': {'command': '', 'weight': 0.0}, 'turretRF': {'command': '', 'weight': 0.0}, 'fire': False}\n",
      "\n",
      "image 1/1 /home/kwon/jupyter_home/temp.jpg: 384x640 (no detections), 60.4ms\n",
      "Speed: 1.8ms preprocess, 60.4ms inference, 1.3ms postprocess per image at shape (1, 3, 384, 640)\n"
     ]
    },
    {
     "name": "stderr",
     "output_type": "stream",
     "text": [
      "127.0.0.1 - - [28/May/2025 12:50:23] \"POST /detect HTTP/1.1\" 200 -\n",
      "127.0.0.1 - - [28/May/2025 12:50:23] \"POST /get_action HTTP/1.1\" 200 -\n"
     ]
    },
    {
     "name": "stdout",
     "output_type": "stream",
     "text": [
      "🚗 Position: (298.55, 207.8), Sent Command: {'moveWS': {'command': 'W', 'weight': 0.5}, 'moveAD': {'command': 'A', 'weight': 0.5}, 'turretQE': {'command': '', 'weight': 0.0}, 'turretRF': {'command': '', 'weight': 0.0}, 'fire': False}\n",
      "\n"
     ]
    },
    {
     "name": "stderr",
     "output_type": "stream",
     "text": [
      "127.0.0.1 - - [28/May/2025 12:50:24] \"POST /get_action HTTP/1.1\" 200 -\n"
     ]
    },
    {
     "name": "stdout",
     "output_type": "stream",
     "text": [
      "🚗 Position: (296.0, 213.31), Sent Command: {'moveWS': {'command': 'W', 'weight': 0.5}, 'moveAD': {'command': 'A', 'weight': 0.5}, 'turretQE': {'command': '', 'weight': 0.0}, 'turretRF': {'command': '', 'weight': 0.0}, 'fire': False}\n",
      "image 1/1 /home/kwon/jupyter_home/temp.jpg: 384x640 (no detections), 58.5ms\n",
      "Speed: 1.7ms preprocess, 58.5ms inference, 1.7ms postprocess per image at shape (1, 3, 384, 640)\n"
     ]
    },
    {
     "name": "stderr",
     "output_type": "stream",
     "text": [
      "127.0.0.1 - - [28/May/2025 12:50:24] \"POST /detect HTTP/1.1\" 200 -\n",
      "127.0.0.1 - - [28/May/2025 12:50:25] \"POST /get_action HTTP/1.1\" 200 -\n"
     ]
    },
    {
     "name": "stdout",
     "output_type": "stream",
     "text": [
      "🚗 Position: (292.06, 218.41), Sent Command: {'moveWS': {'command': 'W', 'weight': 0.5}, 'moveAD': {'command': '', 'weight': 0.0}, 'turretQE': {'command': '', 'weight': 0.0}, 'turretRF': {'command': '', 'weight': 0.0}, 'fire': False}\n",
      "\n",
      "image 1/1 /home/kwon/jupyter_home/temp.jpg: 384x640 1 tank, 73.6ms\n",
      "Speed: 1.8ms preprocess, 73.6ms inference, 1.7ms postprocess per image at shape (1, 3, 384, 640)\n"
     ]
    },
    {
     "name": "stderr",
     "output_type": "stream",
     "text": [
      "127.0.0.1 - - [28/May/2025 12:50:25] \"POST /detect HTTP/1.1\" 200 -\n",
      "127.0.0.1 - - [28/May/2025 12:50:25] \"POST /get_action HTTP/1.1\" 200 -\n"
     ]
    },
    {
     "name": "stdout",
     "output_type": "stream",
     "text": [
      "🚗 Position: (287.56, 222.87), Sent Command: {'moveWS': {'command': 'W', 'weight': 0.5}, 'moveAD': {'command': '', 'weight': 0.0}, 'turretQE': {'command': '', 'weight': 0.0}, 'turretRF': {'command': '', 'weight': 0.0}, 'fire': True}\n",
      "\n",
      "image 1/1 /home/kwon/jupyter_home/temp.jpg: 384x640 (no detections), 59.7ms\n",
      "Speed: 1.6ms preprocess, 59.7ms inference, 0.7ms postprocess per image at shape (1, 3, 384, 640)\n"
     ]
    },
    {
     "name": "stderr",
     "output_type": "stream",
     "text": [
      "127.0.0.1 - - [28/May/2025 12:50:26] \"POST /detect HTTP/1.1\" 200 -\n",
      "127.0.0.1 - - [28/May/2025 12:50:26] \"POST /get_action HTTP/1.1\" 200 -\n",
      "127.0.0.1 - - [28/May/2025 12:50:26] \"POST /update_bullet HTTP/1.1\" 200 -\n"
     ]
    },
    {
     "name": "stdout",
     "output_type": "stream",
     "text": [
      "🚗 Position: (283.16, 227.22), Sent Command: {'moveWS': {'command': 'W', 'weight': 0.5}, 'moveAD': {'command': '', 'weight': 0.0}, 'turretQE': {'command': '', 'weight': 0.0}, 'turretRF': {'command': '', 'weight': 0.0}, 'fire': False}\n",
      "💥 Bullet: {'x': 257.0686, 'y': 7.846615, 'z': 253.0523, 'hit': 'terrain'}\n",
      "\n",
      "image 1/1 /home/kwon/jupyter_home/temp.jpg: 384x640 (no detections), 51.1ms\n",
      "Speed: 1.5ms preprocess, 51.1ms inference, 1.2ms postprocess per image at shape (1, 3, 384, 640)\n"
     ]
    },
    {
     "name": "stderr",
     "output_type": "stream",
     "text": [
      "127.0.0.1 - - [28/May/2025 12:50:26] \"POST /detect HTTP/1.1\" 200 -\n",
      "127.0.0.1 - - [28/May/2025 12:50:27] \"POST /get_action HTTP/1.1\" 200 -\n"
     ]
    },
    {
     "name": "stdout",
     "output_type": "stream",
     "text": [
      "🚗 Position: (278.7, 231.62), Sent Command: {'moveWS': {'command': 'W', 'weight': 0.5}, 'moveAD': {'command': '', 'weight': 0.0}, 'turretQE': {'command': '', 'weight': 0.0}, 'turretRF': {'command': '', 'weight': 0.0}, 'fire': False}\n",
      "\n",
      "image 1/1 /home/kwon/jupyter_home/temp.jpg: 384x640 (no detections), 55.7ms\n",
      "Speed: 1.4ms preprocess, 55.7ms inference, 1.1ms postprocess per image at shape (1, 3, 384, 640)\n"
     ]
    },
    {
     "name": "stderr",
     "output_type": "stream",
     "text": [
      "127.0.0.1 - - [28/May/2025 12:50:27] \"POST /detect HTTP/1.1\" 200 -\n",
      "127.0.0.1 - - [28/May/2025 12:50:27] \"POST /get_action HTTP/1.1\" 200 -\n"
     ]
    },
    {
     "name": "stdout",
     "output_type": "stream",
     "text": [
      "🚗 Position: (274.17, 236.11), Sent Command: {'moveWS': {'command': 'W', 'weight': 0.5}, 'moveAD': {'command': '', 'weight': 0.0}, 'turretQE': {'command': '', 'weight': 0.0}, 'turretRF': {'command': '', 'weight': 0.0}, 'fire': False}\n",
      "\n",
      "image 1/1 /home/kwon/jupyter_home/temp.jpg: 384x640 (no detections), 56.5ms\n",
      "Speed: 1.6ms preprocess, 56.5ms inference, 0.9ms postprocess per image at shape (1, 3, 384, 640)\n"
     ]
    },
    {
     "name": "stderr",
     "output_type": "stream",
     "text": [
      "127.0.0.1 - - [28/May/2025 12:50:28] \"POST /detect HTTP/1.1\" 200 -\n",
      "127.0.0.1 - - [28/May/2025 12:50:28] \"POST /get_action HTTP/1.1\" 200 -\n"
     ]
    },
    {
     "name": "stdout",
     "output_type": "stream",
     "text": [
      "🚗 Position: (269.65, 240.58), Sent Command: {'moveWS': {'command': 'W', 'weight': 0.5}, 'moveAD': {'command': '', 'weight': 0.0}, 'turretQE': {'command': '', 'weight': 0.0}, 'turretRF': {'command': '', 'weight': 0.0}, 'fire': False}\n",
      "\n",
      "image 1/1 /home/kwon/jupyter_home/temp.jpg: 384x640 (no detections), 54.2ms\n",
      "Speed: 1.6ms preprocess, 54.2ms inference, 0.8ms postprocess per image at shape (1, 3, 384, 640)\n"
     ]
    },
    {
     "name": "stderr",
     "output_type": "stream",
     "text": [
      "127.0.0.1 - - [28/May/2025 12:50:29] \"POST /detect HTTP/1.1\" 200 -\n",
      "127.0.0.1 - - [28/May/2025 12:50:29] \"POST /get_action HTTP/1.1\" 200 -\n"
     ]
    },
    {
     "name": "stdout",
     "output_type": "stream",
     "text": [
      "🚗 Position: (265.19, 244.99), Sent Command: {'moveWS': {'command': 'W', 'weight': 0.5}, 'moveAD': {'command': '', 'weight': 0.0}, 'turretQE': {'command': '', 'weight': 0.0}, 'turretRF': {'command': '', 'weight': 0.0}, 'fire': False}\n",
      "\n",
      "image 1/1 /home/kwon/jupyter_home/temp.jpg: 384x640 (no detections), 46.8ms\n",
      "Speed: 2.3ms preprocess, 46.8ms inference, 0.9ms postprocess per image at shape (1, 3, 384, 640)\n"
     ]
    },
    {
     "name": "stderr",
     "output_type": "stream",
     "text": [
      "127.0.0.1 - - [28/May/2025 12:50:29] \"POST /detect HTTP/1.1\" 200 -\n",
      "127.0.0.1 - - [28/May/2025 12:50:29] \"POST /get_action HTTP/1.1\" 200 -\n"
     ]
    },
    {
     "name": "stdout",
     "output_type": "stream",
     "text": [
      "🚗 Position: (260.76, 249.37), Sent Command: {'moveWS': {'command': 'W', 'weight': 0.5}, 'moveAD': {'command': '', 'weight': 0.0}, 'turretQE': {'command': '', 'weight': 0.0}, 'turretRF': {'command': '', 'weight': 0.0}, 'fire': False}\n",
      "\n"
     ]
    },
    {
     "name": "stderr",
     "output_type": "stream",
     "text": [
      "127.0.0.1 - - [28/May/2025 12:50:30] \"POST /get_action HTTP/1.1\" 200 -\n"
     ]
    },
    {
     "name": "stdout",
     "output_type": "stream",
     "text": [
      "🚗 Position: (256.22, 253.86), Sent Command: {'moveWS': {'command': 'W', 'weight': 0.5}, 'moveAD': {'command': '', 'weight': 0.0}, 'turretQE': {'command': '', 'weight': 0.0}, 'turretRF': {'command': '', 'weight': 0.0}, 'fire': False}\n",
      "image 1/1 /home/kwon/jupyter_home/temp.jpg: 384x640 (no detections), 98.3ms\n",
      "Speed: 2.0ms preprocess, 98.3ms inference, 1.1ms postprocess per image at shape (1, 3, 384, 640)\n"
     ]
    },
    {
     "name": "stderr",
     "output_type": "stream",
     "text": [
      "127.0.0.1 - - [28/May/2025 12:50:30] \"POST /detect HTTP/1.1\" 200 -\n",
      "127.0.0.1 - - [28/May/2025 12:50:31] \"POST /get_action HTTP/1.1\" 200 -\n"
     ]
    },
    {
     "name": "stdout",
     "output_type": "stream",
     "text": [
      "🚗 Position: (251.52, 258.51), Sent Command: {'moveWS': {'command': 'W', 'weight': 0.5}, 'moveAD': {'command': '', 'weight': 0.0}, 'turretQE': {'command': '', 'weight': 0.0}, 'turretRF': {'command': '', 'weight': 0.0}, 'fire': False}\n",
      "\n",
      "image 1/1 /home/kwon/jupyter_home/temp.jpg: 384x640 (no detections), 50.0ms\n",
      "Speed: 1.5ms preprocess, 50.0ms inference, 0.7ms postprocess per image at shape (1, 3, 384, 640)\n"
     ]
    },
    {
     "name": "stderr",
     "output_type": "stream",
     "text": [
      "127.0.0.1 - - [28/May/2025 12:50:31] \"POST /detect HTTP/1.1\" 200 -\n",
      "127.0.0.1 - - [28/May/2025 12:50:31] \"POST /get_action HTTP/1.1\" 200 -\n"
     ]
    },
    {
     "name": "stdout",
     "output_type": "stream",
     "text": [
      "🚗 Position: (247.13, 262.84), Sent Command: {'moveWS': {'command': 'W', 'weight': 0.5}, 'moveAD': {'command': '', 'weight': 0.0}, 'turretQE': {'command': '', 'weight': 0.0}, 'turretRF': {'command': '', 'weight': 0.0}, 'fire': False}\n",
      "\n",
      "image 1/1 /home/kwon/jupyter_home/temp.jpg: 384x640 (no detections), 46.5ms\n",
      "Speed: 1.4ms preprocess, 46.5ms inference, 0.7ms postprocess per image at shape (1, 3, 384, 640)\n"
     ]
    },
    {
     "name": "stderr",
     "output_type": "stream",
     "text": [
      "127.0.0.1 - - [28/May/2025 12:50:32] \"POST /detect HTTP/1.1\" 200 -\n",
      "127.0.0.1 - - [28/May/2025 12:50:32] \"POST /get_action HTTP/1.1\" 200 -\n"
     ]
    },
    {
     "name": "stdout",
     "output_type": "stream",
     "text": [
      "🚗 Position: (242.66, 267.28), Sent Command: {'moveWS': {'command': 'W', 'weight': 0.5}, 'moveAD': {'command': '', 'weight': 0.0}, 'turretQE': {'command': '', 'weight': 0.0}, 'turretRF': {'command': '', 'weight': 0.0}, 'fire': False}\n",
      "\n",
      "image 1/1 /home/kwon/jupyter_home/temp.jpg: 384x640 (no detections), 51.9ms\n",
      "Speed: 1.4ms preprocess, 51.9ms inference, 0.7ms postprocess per image at shape (1, 3, 384, 640)\n"
     ]
    },
    {
     "name": "stderr",
     "output_type": "stream",
     "text": [
      "127.0.0.1 - - [28/May/2025 12:50:32] \"POST /detect HTTP/1.1\" 200 -\n",
      "127.0.0.1 - - [28/May/2025 12:50:33] \"POST /get_action HTTP/1.1\" 200 -\n"
     ]
    },
    {
     "name": "stdout",
     "output_type": "stream",
     "text": [
      "🚗 Position: (238.18, 271.73), Sent Command: {'moveWS': {'command': 'W', 'weight': 0.5}, 'moveAD': {'command': '', 'weight': 0.0}, 'turretQE': {'command': '', 'weight': 0.0}, 'turretRF': {'command': '', 'weight': 0.0}, 'fire': False}\n",
      "\n",
      "image 1/1 /home/kwon/jupyter_home/temp.jpg: 384x640 (no detections), 46.6ms\n",
      "Speed: 1.5ms preprocess, 46.6ms inference, 1.1ms postprocess per image at shape (1, 3, 384, 640)\n"
     ]
    },
    {
     "name": "stderr",
     "output_type": "stream",
     "text": [
      "127.0.0.1 - - [28/May/2025 12:50:33] \"POST /detect HTTP/1.1\" 200 -\n",
      "127.0.0.1 - - [28/May/2025 12:50:33] \"POST /get_action HTTP/1.1\" 200 -\n"
     ]
    },
    {
     "name": "stdout",
     "output_type": "stream",
     "text": [
      "🚗 Position: (233.76, 276.13), Sent Command: {'moveWS': {'command': 'W', 'weight': 0.5}, 'moveAD': {'command': '', 'weight': 0.0}, 'turretQE': {'command': '', 'weight': 0.0}, 'turretRF': {'command': '', 'weight': 0.0}, 'fire': False}\n",
      "\n",
      "image 1/1 /home/kwon/jupyter_home/temp.jpg: 384x640 (no detections), 49.7ms\n",
      "Speed: 1.5ms preprocess, 49.7ms inference, 1.5ms postprocess per image at shape (1, 3, 384, 640)\n"
     ]
    },
    {
     "name": "stderr",
     "output_type": "stream",
     "text": [
      "127.0.0.1 - - [28/May/2025 12:50:34] \"POST /detect HTTP/1.1\" 200 -\n",
      "127.0.0.1 - - [28/May/2025 12:50:34] \"POST /get_action HTTP/1.1\" 200 -\n"
     ]
    },
    {
     "name": "stdout",
     "output_type": "stream",
     "text": [
      "🚗 Position: (229.33, 280.53), Sent Command: {'moveWS': {'command': 'W', 'weight': 0.5}, 'moveAD': {'command': '', 'weight': 0.0}, 'turretQE': {'command': '', 'weight': 0.0}, 'turretRF': {'command': '', 'weight': 0.0}, 'fire': False}\n",
      "\n",
      "image 1/1 /home/kwon/jupyter_home/temp.jpg: 384x640 (no detections), 56.0ms\n",
      "Speed: 2.5ms preprocess, 56.0ms inference, 0.7ms postprocess per image at shape (1, 3, 384, 640)\n"
     ]
    },
    {
     "name": "stderr",
     "output_type": "stream",
     "text": [
      "127.0.0.1 - - [28/May/2025 12:50:34] \"POST /detect HTTP/1.1\" 200 -\n",
      "127.0.0.1 - - [28/May/2025 12:50:35] \"POST /get_action HTTP/1.1\" 200 -\n"
     ]
    },
    {
     "name": "stdout",
     "output_type": "stream",
     "text": [
      "🚗 Position: (224.84, 284.99), Sent Command: {'moveWS': {'command': 'W', 'weight': 0.5}, 'moveAD': {'command': '', 'weight': 0.0}, 'turretQE': {'command': '', 'weight': 0.0}, 'turretRF': {'command': '', 'weight': 0.0}, 'fire': False}\n",
      "\n",
      "image 1/1 /home/kwon/jupyter_home/temp.jpg: 384x640 (no detections), 52.1ms\n",
      "Speed: 1.5ms preprocess, 52.1ms inference, 0.7ms postprocess per image at shape (1, 3, 384, 640)\n"
     ]
    },
    {
     "name": "stderr",
     "output_type": "stream",
     "text": [
      "127.0.0.1 - - [28/May/2025 12:50:35] \"POST /detect HTTP/1.1\" 200 -\n",
      "127.0.0.1 - - [28/May/2025 12:50:35] \"POST /get_action HTTP/1.1\" 200 -\n"
     ]
    },
    {
     "name": "stdout",
     "output_type": "stream",
     "text": [
      "🚗 Position: (220.34, 289.47), Sent Command: {'moveWS': {'command': 'W', 'weight': 0.5}, 'moveAD': {'command': '', 'weight': 0.0}, 'turretQE': {'command': '', 'weight': 0.0}, 'turretRF': {'command': '', 'weight': 0.0}, 'fire': False}\n",
      "\n",
      "image 1/1 /home/kwon/jupyter_home/temp.jpg: 384x640 (no detections), 53.4ms\n",
      "Speed: 1.6ms preprocess, 53.4ms inference, 0.7ms postprocess per image at shape (1, 3, 384, 640)\n"
     ]
    },
    {
     "name": "stderr",
     "output_type": "stream",
     "text": [
      "127.0.0.1 - - [28/May/2025 12:50:36] \"POST /detect HTTP/1.1\" 200 -\n",
      "127.0.0.1 - - [28/May/2025 12:50:36] \"POST /get_action HTTP/1.1\" 200 -\n"
     ]
    },
    {
     "name": "stdout",
     "output_type": "stream",
     "text": [
      "🧱 벽 감지: 회전 → A for 6 ticks\n",
      "🚗 Position: (215.93, 293.85), Sent Command: {'moveWS': {'command': 'W', 'weight': 0.5}, 'moveAD': {'command': 'A', 'weight': 0.5}, 'turretQE': {'command': '', 'weight': 0.0}, 'turretRF': {'command': '', 'weight': 0.0}, 'fire': False}\n",
      "\n"
     ]
    },
    {
     "name": "stderr",
     "output_type": "stream",
     "text": [
      "127.0.0.1 - - [28/May/2025 12:50:36] \"POST /get_action HTTP/1.1\" 200 -\n"
     ]
    },
    {
     "name": "stdout",
     "output_type": "stream",
     "text": [
      "🚗 Position: (211.05, 297.84), Sent Command: {'moveWS': {'command': 'W', 'weight': 0.5}, 'moveAD': {'command': 'A', 'weight': 0.5}, 'turretQE': {'command': '', 'weight': 0.0}, 'turretRF': {'command': '', 'weight': 0.0}, 'fire': False}\n",
      "image 1/1 /home/kwon/jupyter_home/temp.jpg: 384x640 (no detections), 46.4ms\n",
      "Speed: 1.5ms preprocess, 46.4ms inference, 0.9ms postprocess per image at shape (1, 3, 384, 640)\n"
     ]
    },
    {
     "name": "stderr",
     "output_type": "stream",
     "text": [
      "127.0.0.1 - - [28/May/2025 12:50:37] \"POST /detect HTTP/1.1\" 200 -\n",
      "127.0.0.1 - - [28/May/2025 12:50:37] \"POST /get_action HTTP/1.1\" 200 -\n"
     ]
    },
    {
     "name": "stdout",
     "output_type": "stream",
     "text": [
      "🚗 Position: (205.2, 300.0), Sent Command: {'moveWS': {'command': 'W', 'weight': 0.5}, 'moveAD': {'command': 'A', 'weight': 0.5}, 'turretQE': {'command': '', 'weight': 0.0}, 'turretRF': {'command': '', 'weight': 0.0}, 'fire': False}\n",
      "\n",
      "image 1/1 /home/kwon/jupyter_home/temp.jpg: 384x640 (no detections), 51.2ms\n",
      "Speed: 1.4ms preprocess, 51.2ms inference, 0.6ms postprocess per image at shape (1, 3, 384, 640)\n"
     ]
    },
    {
     "name": "stderr",
     "output_type": "stream",
     "text": [
      "127.0.0.1 - - [28/May/2025 12:50:37] \"POST /detect HTTP/1.1\" 200 -\n",
      "127.0.0.1 - - [28/May/2025 12:50:38] \"POST /get_action HTTP/1.1\" 200 -\n"
     ]
    },
    {
     "name": "stdout",
     "output_type": "stream",
     "text": [
      "🚗 Position: (198.99, 300.0), Sent Command: {'moveWS': {'command': 'W', 'weight': 0.5}, 'moveAD': {'command': 'A', 'weight': 0.5}, 'turretQE': {'command': '', 'weight': 0.0}, 'turretRF': {'command': '', 'weight': 0.0}, 'fire': False}\n",
      "\n",
      "image 1/1 /home/kwon/jupyter_home/temp.jpg: 384x640 1 tank, 45.7ms\n",
      "Speed: 1.6ms preprocess, 45.7ms inference, 2.1ms postprocess per image at shape (1, 3, 384, 640)\n"
     ]
    },
    {
     "name": "stderr",
     "output_type": "stream",
     "text": [
      "127.0.0.1 - - [28/May/2025 12:50:38] \"POST /detect HTTP/1.1\" 200 -\n",
      "127.0.0.1 - - [28/May/2025 12:50:38] \"POST /get_action HTTP/1.1\" 200 -\n"
     ]
    },
    {
     "name": "stdout",
     "output_type": "stream",
     "text": [
      "🚗 Position: (192.8, 299.82), Sent Command: {'moveWS': {'command': 'W', 'weight': 0.5}, 'moveAD': {'command': 'A', 'weight': 0.5}, 'turretQE': {'command': '', 'weight': 0.0}, 'turretRF': {'command': '', 'weight': 0.0}, 'fire': True}\n",
      "\n",
      "image 1/1 /home/kwon/jupyter_home/temp.jpg: 384x640 1 tank, 88.2ms\n",
      "Speed: 1.8ms preprocess, 88.2ms inference, 2.5ms postprocess per image at shape (1, 3, 384, 640)\n"
     ]
    },
    {
     "name": "stderr",
     "output_type": "stream",
     "text": [
      "127.0.0.1 - - [28/May/2025 12:50:39] \"POST /detect HTTP/1.1\" 200 -\n",
      "127.0.0.1 - - [28/May/2025 12:50:39] \"POST /get_action HTTP/1.1\" 200 -\n",
      "127.0.0.1 - - [28/May/2025 12:50:39] \"POST /update_bullet HTTP/1.1\" 200 -\n"
     ]
    },
    {
     "name": "stdout",
     "output_type": "stream",
     "text": [
      "🚗 Position: (186.76, 298.44), Sent Command: {'moveWS': {'command': 'W', 'weight': 0.5}, 'moveAD': {'command': '', 'weight': 0.0}, 'turretQE': {'command': '', 'weight': 0.0}, 'turretRF': {'command': '', 'weight': 0.0}, 'fire': True}\n",
      "💥 Bullet: {'x': 150.2861, 'y': 7.857121, 'z': 294.3776, 'hit': 'terrain'}\n",
      "\n",
      "image 1/1 /home/kwon/jupyter_home/temp.jpg: 384x640 1 tank, 52.4ms\n",
      "Speed: 1.8ms preprocess, 52.4ms inference, 1.4ms postprocess per image at shape (1, 3, 384, 640)\n"
     ]
    },
    {
     "name": "stderr",
     "output_type": "stream",
     "text": [
      "127.0.0.1 - - [28/May/2025 12:50:39] \"POST /detect HTTP/1.1\" 200 -\n",
      "127.0.0.1 - - [28/May/2025 12:50:40] \"POST /get_action HTTP/1.1\" 200 -\n"
     ]
    },
    {
     "name": "stdout",
     "output_type": "stream",
     "text": [
      "🧱 벽 감지: 회전 → D for 5 ticks\n",
      "🚗 Position: (180.91, 296.29), Sent Command: {'moveWS': {'command': 'W', 'weight': 0.5}, 'moveAD': {'command': 'D', 'weight': 0.5}, 'turretQE': {'command': '', 'weight': 0.0}, 'turretRF': {'command': '', 'weight': 0.0}, 'fire': True}\n",
      "\n",
      "image 1/1 /home/kwon/jupyter_home/temp.jpg: 384x640 (no detections), 47.7ms\n",
      "Speed: 1.4ms preprocess, 47.7ms inference, 1.4ms postprocess per image at shape (1, 3, 384, 640)\n"
     ]
    },
    {
     "name": "stderr",
     "output_type": "stream",
     "text": [
      "127.0.0.1 - - [28/May/2025 12:50:40] \"POST /detect HTTP/1.1\" 200 -\n",
      "127.0.0.1 - - [28/May/2025 12:50:40] \"POST /get_action HTTP/1.1\" 200 -\n"
     ]
    },
    {
     "name": "stdout",
     "output_type": "stream",
     "text": [
      "🚗 Position: (174.92, 294.73), Sent Command: {'moveWS': {'command': 'W', 'weight': 0.5}, 'moveAD': {'command': 'D', 'weight': 0.5}, 'turretQE': {'command': '', 'weight': 0.0}, 'turretRF': {'command': '', 'weight': 0.0}, 'fire': False}\n",
      "\n",
      "image 1/1 /home/kwon/jupyter_home/temp.jpg: 384x640 1 tank, 44.4ms\n",
      "Speed: 1.4ms preprocess, 44.4ms inference, 1.4ms postprocess per image at shape (1, 3, 384, 640)\n"
     ]
    },
    {
     "name": "stderr",
     "output_type": "stream",
     "text": [
      "127.0.0.1 - - [28/May/2025 12:50:41] \"POST /detect HTTP/1.1\" 200 -\n",
      "127.0.0.1 - - [28/May/2025 12:50:41] \"POST /get_action HTTP/1.1\" 200 -\n"
     ]
    },
    {
     "name": "stdout",
     "output_type": "stream",
     "text": [
      "🚗 Position: (168.74, 294.52), Sent Command: {'moveWS': {'command': 'W', 'weight': 0.5}, 'moveAD': {'command': 'D', 'weight': 0.5}, 'turretQE': {'command': '', 'weight': 0.0}, 'turretRF': {'command': '', 'weight': 0.0}, 'fire': True}\n",
      "\n",
      "image 1/1 /home/kwon/jupyter_home/temp.jpg: 384x640 (no detections), 48.3ms\n",
      "Speed: 2.2ms preprocess, 48.3ms inference, 0.8ms postprocess per image at shape (1, 3, 384, 640)\n"
     ]
    },
    {
     "name": "stderr",
     "output_type": "stream",
     "text": [
      "127.0.0.1 - - [28/May/2025 12:50:42] \"POST /detect HTTP/1.1\" 200 -\n",
      "127.0.0.1 - - [28/May/2025 12:50:42] \"POST /get_action HTTP/1.1\" 200 -\n"
     ]
    },
    {
     "name": "stdout",
     "output_type": "stream",
     "text": [
      "🚗 Position: (162.61, 295.7), Sent Command: {'moveWS': {'command': 'W', 'weight': 0.5}, 'moveAD': {'command': 'D', 'weight': 0.5}, 'turretQE': {'command': '', 'weight': 0.0}, 'turretRF': {'command': '', 'weight': 0.0}, 'fire': False}\n",
      "\n"
     ]
    },
    {
     "name": "stderr",
     "output_type": "stream",
     "text": [
      "127.0.0.1 - - [28/May/2025 12:50:42] \"POST /get_action HTTP/1.1\" 200 -\n"
     ]
    },
    {
     "name": "stdout",
     "output_type": "stream",
     "text": [
      "🚗 Position: (156.91, 298.2), Sent Command: {'moveWS': {'command': 'W', 'weight': 0.5}, 'moveAD': {'command': '', 'weight': 0.0}, 'turretQE': {'command': '', 'weight': 0.0}, 'turretRF': {'command': '', 'weight': 0.0}, 'fire': False}\n",
      "image 1/1 /home/kwon/jupyter_home/temp.jpg: 384x640 (no detections), 48.7ms\n",
      "Speed: 2.5ms preprocess, 48.7ms inference, 1.1ms postprocess per image at shape (1, 3, 384, 640)\n"
     ]
    },
    {
     "name": "stderr",
     "output_type": "stream",
     "text": [
      "127.0.0.1 - - [28/May/2025 12:50:42] \"POST /detect HTTP/1.1\" 200 -\n",
      "127.0.0.1 - - [28/May/2025 12:50:43] \"POST /get_action HTTP/1.1\" 200 -\n"
     ]
    },
    {
     "name": "stdout",
     "output_type": "stream",
     "text": [
      "🧱 벽 감지: 회전 → D for 9 ticks\n",
      "🚗 Position: (151.54, 300.0), Sent Command: {'moveWS': {'command': 'W', 'weight': 0.5}, 'moveAD': {'command': 'D', 'weight': 0.5}, 'turretQE': {'command': '', 'weight': 0.0}, 'turretRF': {'command': '', 'weight': 0.0}, 'fire': False}\n",
      "\n",
      "image 1/1 /home/kwon/jupyter_home/temp.jpg: 384x640 (no detections), 73.1ms\n",
      "Speed: 1.7ms preprocess, 73.1ms inference, 1.1ms postprocess per image at shape (1, 3, 384, 640)\n"
     ]
    },
    {
     "name": "stderr",
     "output_type": "stream",
     "text": [
      "127.0.0.1 - - [28/May/2025 12:50:43] \"POST /detect HTTP/1.1\" 200 -\n",
      "127.0.0.1 - - [28/May/2025 12:50:44] \"POST /get_action HTTP/1.1\" 200 -\n"
     ]
    },
    {
     "name": "stdout",
     "output_type": "stream",
     "text": [
      "🚗 Position: (146.5, 300.0), Sent Command: {'moveWS': {'command': 'W', 'weight': 0.5}, 'moveAD': {'command': 'D', 'weight': 0.5}, 'turretQE': {'command': '', 'weight': 0.0}, 'turretRF': {'command': '', 'weight': 0.0}, 'fire': False}\n",
      "\n",
      "image 1/1 /home/kwon/jupyter_home/temp.jpg: 384x640 (no detections), 51.4ms\n",
      "Speed: 1.5ms preprocess, 51.4ms inference, 1.2ms postprocess per image at shape (1, 3, 384, 640)\n"
     ]
    },
    {
     "name": "stderr",
     "output_type": "stream",
     "text": [
      "127.0.0.1 - - [28/May/2025 12:50:44] \"POST /detect HTTP/1.1\" 200 -\n",
      "127.0.0.1 - - [28/May/2025 12:50:44] \"POST /get_action HTTP/1.1\" 200 -\n"
     ]
    },
    {
     "name": "stdout",
     "output_type": "stream",
     "text": [
      "🚗 Position: (142.47, 300.0), Sent Command: {'moveWS': {'command': 'W', 'weight': 0.5}, 'moveAD': {'command': 'D', 'weight': 0.5}, 'turretQE': {'command': '', 'weight': 0.0}, 'turretRF': {'command': '', 'weight': 0.0}, 'fire': False}\n",
      "\n",
      "image 1/1 /home/kwon/jupyter_home/temp.jpg: 384x640 (no detections), 54.5ms\n",
      "Speed: 2.0ms preprocess, 54.5ms inference, 0.7ms postprocess per image at shape (1, 3, 384, 640)\n"
     ]
    },
    {
     "name": "stderr",
     "output_type": "stream",
     "text": [
      "127.0.0.1 - - [28/May/2025 12:50:44] \"POST /detect HTTP/1.1\" 200 -\n",
      "127.0.0.1 - - [28/May/2025 12:50:45] \"POST /get_action HTTP/1.1\" 200 -\n"
     ]
    },
    {
     "name": "stdout",
     "output_type": "stream",
     "text": [
      "🚗 Position: (139.65, 300.0), Sent Command: {'moveWS': {'command': 'W', 'weight': 0.5}, 'moveAD': {'command': 'D', 'weight': 0.5}, 'turretQE': {'command': '', 'weight': 0.0}, 'turretRF': {'command': '', 'weight': 0.0}, 'fire': False}\n",
      "\n",
      "image 1/1 /home/kwon/jupyter_home/temp.jpg: 384x640 (no detections), 48.4ms\n",
      "Speed: 1.6ms preprocess, 48.4ms inference, 0.8ms postprocess per image at shape (1, 3, 384, 640)\n"
     ]
    },
    {
     "name": "stderr",
     "output_type": "stream",
     "text": [
      "127.0.0.1 - - [28/May/2025 12:50:45] \"POST /detect HTTP/1.1\" 200 -\n",
      "127.0.0.1 - - [28/May/2025 12:50:45] \"POST /get_action HTTP/1.1\" 200 -\n"
     ]
    },
    {
     "name": "stdout",
     "output_type": "stream",
     "text": [
      "🚗 Position: (138.14, 300.0), Sent Command: {'moveWS': {'command': 'W', 'weight': 0.5}, 'moveAD': {'command': 'D', 'weight': 0.5}, 'turretQE': {'command': '', 'weight': 0.0}, 'turretRF': {'command': '', 'weight': 0.0}, 'fire': False}\n",
      "\n",
      "image 1/1 /home/kwon/jupyter_home/temp.jpg: 384x640 (no detections), 48.4ms\n",
      "Speed: 1.9ms preprocess, 48.4ms inference, 0.7ms postprocess per image at shape (1, 3, 384, 640)\n"
     ]
    },
    {
     "name": "stderr",
     "output_type": "stream",
     "text": [
      "127.0.0.1 - - [28/May/2025 12:50:46] \"POST /detect HTTP/1.1\" 200 -\n",
      "127.0.0.1 - - [28/May/2025 12:50:46] \"POST /get_action HTTP/1.1\" 200 -\n"
     ]
    },
    {
     "name": "stdout",
     "output_type": "stream",
     "text": [
      "🚗 Position: (137.97, 300.0), Sent Command: {'moveWS': {'command': 'W', 'weight': 0.5}, 'moveAD': {'command': 'D', 'weight': 0.5}, 'turretQE': {'command': '', 'weight': 0.0}, 'turretRF': {'command': '', 'weight': 0.0}, 'fire': False}\n",
      "\n",
      "image 1/1 /home/kwon/jupyter_home/temp.jpg: 384x640 (no detections), 46.0ms\n",
      "Speed: 1.6ms preprocess, 46.0ms inference, 0.6ms postprocess per image at shape (1, 3, 384, 640)\n"
     ]
    },
    {
     "name": "stderr",
     "output_type": "stream",
     "text": [
      "127.0.0.1 - - [28/May/2025 12:50:47] \"POST /detect HTTP/1.1\" 200 -\n",
      "127.0.0.1 - - [28/May/2025 12:50:47] \"POST /get_action HTTP/1.1\" 200 -\n"
     ]
    },
    {
     "name": "stdout",
     "output_type": "stream",
     "text": [
      "🚗 Position: (139.2, 300.0), Sent Command: {'moveWS': {'command': 'W', 'weight': 0.5}, 'moveAD': {'command': 'D', 'weight': 0.5}, 'turretQE': {'command': '', 'weight': 0.0}, 'turretRF': {'command': '', 'weight': 0.0}, 'fire': False}\n",
      "\n",
      "image 1/1 /home/kwon/jupyter_home/temp.jpg: 384x640 (no detections), 53.2ms\n",
      "Speed: 1.4ms preprocess, 53.2ms inference, 0.7ms postprocess per image at shape (1, 3, 384, 640)\n"
     ]
    },
    {
     "name": "stderr",
     "output_type": "stream",
     "text": [
      "127.0.0.1 - - [28/May/2025 12:50:47] \"POST /detect HTTP/1.1\" 200 -\n"
     ]
    },
    {
     "name": "stdout",
     "output_type": "stream",
     "text": [
      "\n",
      "image 1/1 /home/kwon/jupyter_home/temp.jpg: 384x640 (no detections), 47.7ms\n",
      "Speed: 1.4ms preprocess, 47.7ms inference, 5.6ms postprocess per image at shape (1, 3, 384, 640)\n"
     ]
    },
    {
     "name": "stderr",
     "output_type": "stream",
     "text": [
      "127.0.0.1 - - [28/May/2025 12:50:48] \"POST /detect HTTP/1.1\" 200 -\n"
     ]
    },
    {
     "name": "stdout",
     "output_type": "stream",
     "text": [
      "\n",
      "image 1/1 /home/kwon/jupyter_home/temp.jpg: 384x640 (no detections), 46.8ms\n",
      "Speed: 1.8ms preprocess, 46.8ms inference, 0.7ms postprocess per image at shape (1, 3, 384, 640)\n"
     ]
    },
    {
     "name": "stderr",
     "output_type": "stream",
     "text": [
      "127.0.0.1 - - [28/May/2025 12:50:49] \"POST /detect HTTP/1.1\" 200 -\n"
     ]
    },
    {
     "name": "stdout",
     "output_type": "stream",
     "text": [
      "\n",
      "image 1/1 /home/kwon/jupyter_home/temp.jpg: 384x640 (no detections), 50.3ms\n",
      "Speed: 1.8ms preprocess, 50.3ms inference, 0.7ms postprocess per image at shape (1, 3, 384, 640)\n"
     ]
    },
    {
     "name": "stderr",
     "output_type": "stream",
     "text": [
      "127.0.0.1 - - [28/May/2025 12:50:49] \"POST /detect HTTP/1.1\" 200 -\n"
     ]
    },
    {
     "name": "stdout",
     "output_type": "stream",
     "text": [
      "\n",
      "image 1/1 /home/kwon/jupyter_home/temp.jpg: 384x640 (no detections), 53.9ms\n",
      "Speed: 1.6ms preprocess, 53.9ms inference, 0.8ms postprocess per image at shape (1, 3, 384, 640)\n"
     ]
    },
    {
     "name": "stderr",
     "output_type": "stream",
     "text": [
      "127.0.0.1 - - [28/May/2025 12:50:50] \"POST /detect HTTP/1.1\" 200 -\n"
     ]
    },
    {
     "name": "stdout",
     "output_type": "stream",
     "text": [
      "\n",
      "image 1/1 /home/kwon/jupyter_home/temp.jpg: 384x640 (no detections), 46.5ms\n",
      "Speed: 1.7ms preprocess, 46.5ms inference, 0.7ms postprocess per image at shape (1, 3, 384, 640)\n"
     ]
    },
    {
     "name": "stderr",
     "output_type": "stream",
     "text": [
      "127.0.0.1 - - [28/May/2025 12:50:51] \"POST /detect HTTP/1.1\" 200 -\n"
     ]
    },
    {
     "name": "stdout",
     "output_type": "stream",
     "text": [
      "\n",
      "image 1/1 /home/kwon/jupyter_home/temp.jpg: 384x640 1 tank, 47.5ms\n",
      "Speed: 1.5ms preprocess, 47.5ms inference, 1.7ms postprocess per image at shape (1, 3, 384, 640)\n"
     ]
    },
    {
     "name": "stderr",
     "output_type": "stream",
     "text": [
      "127.0.0.1 - - [28/May/2025 12:50:52] \"POST /detect HTTP/1.1\" 200 -\n"
     ]
    },
    {
     "name": "stdout",
     "output_type": "stream",
     "text": [
      "\n",
      "image 1/1 /home/kwon/jupyter_home/temp.jpg: 384x640 1 tank, 57.0ms\n",
      "Speed: 2.1ms preprocess, 57.0ms inference, 2.0ms postprocess per image at shape (1, 3, 384, 640)\n"
     ]
    },
    {
     "name": "stderr",
     "output_type": "stream",
     "text": [
      "127.0.0.1 - - [28/May/2025 12:50:52] \"POST /detect HTTP/1.1\" 200 -\n"
     ]
    },
    {
     "name": "stdout",
     "output_type": "stream",
     "text": [
      "\n",
      "image 1/1 /home/kwon/jupyter_home/temp.jpg: 384x640 1 tank, 51.8ms\n",
      "Speed: 1.5ms preprocess, 51.8ms inference, 2.3ms postprocess per image at shape (1, 3, 384, 640)\n"
     ]
    },
    {
     "name": "stderr",
     "output_type": "stream",
     "text": [
      "127.0.0.1 - - [28/May/2025 12:50:53] \"POST /detect HTTP/1.1\" 200 -\n"
     ]
    },
    {
     "name": "stdout",
     "output_type": "stream",
     "text": [
      "\n",
      "image 1/1 /home/kwon/jupyter_home/temp.jpg: 384x640 1 tank, 49.5ms\n",
      "Speed: 1.7ms preprocess, 49.5ms inference, 2.7ms postprocess per image at shape (1, 3, 384, 640)\n"
     ]
    },
    {
     "name": "stderr",
     "output_type": "stream",
     "text": [
      "127.0.0.1 - - [28/May/2025 12:50:54] \"POST /detect HTTP/1.1\" 200 -\n"
     ]
    },
    {
     "name": "stdout",
     "output_type": "stream",
     "text": [
      "\n"
     ]
    },
    {
     "name": "stderr",
     "output_type": "stream",
     "text": [
      "127.0.0.1 - - [28/May/2025 12:51:03] \"POST /get_action HTTP/1.1\" 200 -\n"
     ]
    },
    {
     "name": "stdout",
     "output_type": "stream",
     "text": [
      "🚗 Position: (135.1, 296.23), Sent Command: {'moveWS': {'command': 'W', 'weight': 0.5}, 'moveAD': {'command': '', 'weight': 0.0}, 'turretQE': {'command': '', 'weight': 0.0}, 'turretRF': {'command': '', 'weight': 0.0}, 'fire': True}\n"
     ]
    },
    {
     "name": "stderr",
     "output_type": "stream",
     "text": [
      "127.0.0.1 - - [28/May/2025 12:51:03] \"POST /get_action HTTP/1.1\" 200 -\n",
      "127.0.0.1 - - [28/May/2025 12:51:03] \"POST /update_bullet HTTP/1.1\" 200 -\n"
     ]
    },
    {
     "name": "stdout",
     "output_type": "stream",
     "text": [
      "🧱 벽 감지: 회전 → D for 8 ticks\n",
      "🚗 Position: (135.08, 295.92), Sent Command: {'moveWS': {'command': 'W', 'weight': 0.5}, 'moveAD': {'command': 'D', 'weight': 0.5}, 'turretQE': {'command': '', 'weight': 0.0}, 'turretRF': {'command': '', 'weight': 0.0}, 'fire': False}\n",
      "💥 Bullet: {'x': 132.7082, 'y': 7.841058, 'z': 253.7478, 'hit': 'terrain'}\n"
     ]
    },
    {
     "name": "stderr",
     "output_type": "stream",
     "text": [
      "127.0.0.1 - - [28/May/2025 12:51:04] \"POST /get_action HTTP/1.1\" 200 -\n"
     ]
    },
    {
     "name": "stdout",
     "output_type": "stream",
     "text": [
      "🚗 Position: (134.94, 295.04), Sent Command: {'moveWS': {'command': 'W', 'weight': 0.5}, 'moveAD': {'command': 'D', 'weight': 0.5}, 'turretQE': {'command': '', 'weight': 0.0}, 'turretRF': {'command': '', 'weight': 0.0}, 'fire': False}\n"
     ]
    },
    {
     "name": "stderr",
     "output_type": "stream",
     "text": [
      "127.0.0.1 - - [28/May/2025 12:51:05] \"POST /get_action HTTP/1.1\" 200 -\n"
     ]
    },
    {
     "name": "stdout",
     "output_type": "stream",
     "text": [
      "🚗 Position: (134.14, 293.3), Sent Command: {'moveWS': {'command': 'W', 'weight': 0.5}, 'moveAD': {'command': 'D', 'weight': 0.5}, 'turretQE': {'command': '', 'weight': 0.0}, 'turretRF': {'command': '', 'weight': 0.0}, 'fire': False}\n"
     ]
    },
    {
     "name": "stderr",
     "output_type": "stream",
     "text": [
      "127.0.0.1 - - [28/May/2025 12:51:06] \"POST /get_action HTTP/1.1\" 200 -\n"
     ]
    },
    {
     "name": "stdout",
     "output_type": "stream",
     "text": [
      "🚗 Position: (132.46, 291.36), Sent Command: {'moveWS': {'command': 'W', 'weight': 0.5}, 'moveAD': {'command': 'D', 'weight': 0.5}, 'turretQE': {'command': '', 'weight': 0.0}, 'turretRF': {'command': '', 'weight': 0.0}, 'fire': False}\n"
     ]
    },
    {
     "name": "stderr",
     "output_type": "stream",
     "text": [
      "127.0.0.1 - - [28/May/2025 12:51:06] \"POST /get_action HTTP/1.1\" 200 -\n"
     ]
    },
    {
     "name": "stdout",
     "output_type": "stream",
     "text": [
      "🚗 Position: (129.77, 289.58), Sent Command: {'moveWS': {'command': 'W', 'weight': 0.5}, 'moveAD': {'command': 'D', 'weight': 0.5}, 'turretQE': {'command': '', 'weight': 0.0}, 'turretRF': {'command': '', 'weight': 0.0}, 'fire': False}\n"
     ]
    },
    {
     "name": "stderr",
     "output_type": "stream",
     "text": [
      "127.0.0.1 - - [28/May/2025 12:51:07] \"POST /get_action HTTP/1.1\" 200 -\n"
     ]
    },
    {
     "name": "stdout",
     "output_type": "stream",
     "text": [
      "🚗 Position: (126.3, 288.4), Sent Command: {'moveWS': {'command': 'W', 'weight': 0.5}, 'moveAD': {'command': 'D', 'weight': 0.5}, 'turretQE': {'command': '', 'weight': 0.0}, 'turretRF': {'command': '', 'weight': 0.0}, 'fire': False}\n"
     ]
    },
    {
     "name": "stderr",
     "output_type": "stream",
     "text": [
      "127.0.0.1 - - [28/May/2025 12:51:08] \"POST /get_action HTTP/1.1\" 200 -\n"
     ]
    },
    {
     "name": "stdout",
     "output_type": "stream",
     "text": [
      "🚗 Position: (121.83, 288.09), Sent Command: {'moveWS': {'command': 'W', 'weight': 0.5}, 'moveAD': {'command': 'D', 'weight': 0.5}, 'turretQE': {'command': '', 'weight': 0.0}, 'turretRF': {'command': '', 'weight': 0.0}, 'fire': False}\n"
     ]
    },
    {
     "name": "stderr",
     "output_type": "stream",
     "text": [
      "127.0.0.1 - - [28/May/2025 12:51:13] \"POST /update_obstacle HTTP/1.1\" 200 -\n",
      "127.0.0.1 - - [28/May/2025 12:51:13] \"POST /update_obstacle HTTP/1.1\" 200 -\n",
      "127.0.0.1 - - [28/May/2025 12:51:13] \"GET /init HTTP/1.1\" 200 -\n"
     ]
    },
    {
     "name": "stdout",
     "output_type": "stream",
     "text": [
      "🪨 Obstacle: {'obstacles': []}\n",
      "🪨 Obstacle: {'obstacles': [{'x_min': 90.47148895263672, 'x_max': 93.47150421142578, 'z_min': 81.18640899658203, 'z_max': 86.18643951416016}]}\n",
      "🛠️ Init config: {'startMode': 'start', 'blStartX': 60, 'blStartY': 10, 'blStartZ': 27.23, 'rdStartX': 59, 'rdStartY': 10, 'rdStartZ': 280, 'trackingMode': False, 'detectMode': True, 'logMode': False, 'enemyTracking': False, 'saveSnapshot': False, 'saveLog': False, 'saveLidarData': False, 'lux': 30000}\n"
     ]
    }
   ],
   "source": [
    "from flask import Flask, request, jsonify\n",
    "from ultralytics import YOLO\n",
    "import random\n",
    "import pandas as pd\n",
    "import os\n",
    "\n",
    "app = Flask(__name__)\n",
    "model = YOLO('/home/kwon/jupyter_home/runs/detect/train18/weights/best.pt')\n",
    "\n",
    "current_position = None\n",
    "last_position = None\n",
    "position_history = []\n",
    "current_action = \"W\"\n",
    "action_ticks_remaining = 0\n",
    "wall_avoid_mode = False\n",
    "fire_command = False\n",
    "\n",
    "def calculate_move():\n",
    "    global current_position, last_position, current_action, action_ticks_remaining, wall_avoid_mode\n",
    "\n",
    "    if not current_position:\n",
    "        return \"W\", 0.5\n",
    "\n",
    "    x, z = current_position\n",
    "    near_wall = x <= 10 or x >= 290 or z <= 10 or z >= 290\n",
    "\n",
    "    if near_wall and not wall_avoid_mode:\n",
    "        wall_avoid_mode = True\n",
    "        current_action = random.choice([\"A\", \"D\"])\n",
    "        action_ticks_remaining = random.randint(5, 10)\n",
    "        print(f\"🧱 벽 감지: 회전 → {current_action} for {action_ticks_remaining} ticks\")\n",
    "\n",
    "    if wall_avoid_mode:\n",
    "        action_ticks_remaining -= 1\n",
    "        if action_ticks_remaining <= 0:\n",
    "            wall_avoid_mode = False\n",
    "            current_action = \"W\"\n",
    "            action_ticks_remaining = random.randint(20, 40)\n",
    "        return current_action, 0.5\n",
    "\n",
    "    if action_ticks_remaining <= 0:\n",
    "        if current_action == \"W\":\n",
    "            current_action = random.choice([\"A\", \"D\"])\n",
    "            action_ticks_remaining = random.randint(5, 15)\n",
    "        else:\n",
    "            current_action = \"W\"\n",
    "            action_ticks_remaining = random.randint(20, 50)\n",
    "        print(f\"🔄 방향 전환: {current_action} for {action_ticks_remaining} ticks\")\n",
    "\n",
    "    action_ticks_remaining -= 1\n",
    "    return current_action, 0.5\n",
    "\n",
    "@app.route('/get_action', methods=['POST'])\n",
    "def get_action():\n",
    "    global current_position, last_position, fire_command\n",
    "\n",
    "    data = request.get_json(force=True)\n",
    "    position = data.get(\"position\", {})\n",
    "    turret = data.get(\"turret\", {})\n",
    "\n",
    "    x = position.get(\"x\", 0)\n",
    "    z = position.get(\"z\", 0)\n",
    "\n",
    "    if current_position:\n",
    "        last_position = current_position\n",
    "    current_position = (x, z)\n",
    "    position_history.append(current_position)\n",
    "\n",
    "    df = pd.DataFrame(position_history, columns=[\"x\", \"z\"])\n",
    "    df.to_csv(\"tank_path0.csv\", index=False)\n",
    "\n",
    "    move, weight = calculate_move()\n",
    "    moveWS = {\"command\": move if move in [\"W\", \"S\", \"STOP\"] else \"W\", \"weight\": weight}\n",
    "    moveAD = {\"command\": move if move in [\"A\", \"D\"] else \"\", \"weight\": 0.5 if move in [\"A\", \"D\"] else 0.0}\n",
    "\n",
    "    command = {\n",
    "        \"moveWS\": moveWS,\n",
    "        \"moveAD\": moveAD,\n",
    "        \"turretQE\": {\"command\": \"\", \"weight\": 0.0},\n",
    "        \"turretRF\": {\"command\": \"\", \"weight\": 0.0},\n",
    "        \"fire\": fire_command\n",
    "    }\n",
    "\n",
    "    print(f\"🚗 Position: {current_position}, Sent Command: {command}\")\n",
    "    fire_command = False\n",
    "    return jsonify(command)\n",
    "\n",
    "@app.route('/detect', methods=['POST'])\n",
    "def detect():\n",
    "    global fire_command\n",
    "    image = request.files.get('image')\n",
    "    if not image:\n",
    "        return jsonify({\"error\": \"No image received\"}), 400\n",
    "\n",
    "    image_path = 'temp.jpg'\n",
    "    image.save(image_path)\n",
    "\n",
    "    results = model(image_path)\n",
    "    detections = results[0].boxes.data.cpu().numpy()\n",
    "\n",
    "    target_classes = {0: \"car1\", 1: \"car2\", 2: \"human\", 3: \"tank\"}\n",
    "    color_map = {\n",
    "        \"car1\": \"#0000FF\",\n",
    "        \"car2\": \"#00FFFF\",\n",
    "        \"human\": \"#00FF00\",\n",
    "        \"tank\": \"#FF0000\"\n",
    "    }\n",
    "\n",
    "    filtered_results = []\n",
    "    for box in detections:\n",
    "        class_id = int(box[5])\n",
    "        if class_id in target_classes:\n",
    "            class_name = target_classes[class_id]\n",
    "            filtered_results.append({\n",
    "                'className': class_name,\n",
    "                'bbox': [float(coord) for coord in box[:4]],\n",
    "                'confidence': float(box[4]),\n",
    "                'color': color_map.get(class_name, \"#FFFFFF\"),\n",
    "                'filled': True,\n",
    "                'updateBoxWhileMoving': True\n",
    "            })\n",
    "\n",
    "    if any(obj['className'] == 'tank' for obj in filtered_results):\n",
    "        fire_command = True\n",
    "\n",
    "    return jsonify(filtered_results)\n",
    "\n",
    "@app.route('/info', methods=['POST'])\n",
    "def info():\n",
    "    return jsonify({\"status\": \"success\", \"control\": \"\"})\n",
    "\n",
    "@app.route('/update_bullet', methods=['POST'])\n",
    "def update_bullet():\n",
    "    data = request.get_json()\n",
    "    print(f\"💥 Bullet: {data}\")\n",
    "    return jsonify({\"status\": \"OK\"})\n",
    "\n",
    "@app.route('/update_obstacle', methods=['POST'])\n",
    "def update_obstacle():\n",
    "    data = request.get_json()\n",
    "    print(f\"🪨 Obstacle: {data}\")\n",
    "    return jsonify({'status': 'success'})\n",
    "\n",
    "@app.route('/collision', methods=['POST'])\n",
    "def collision():\n",
    "    data = request.get_json()\n",
    "    obj = data.get('objectName')\n",
    "    pos = data.get('position', {})\n",
    "    print(f\"💥 Collision: {obj} at {pos}\")\n",
    "    return jsonify({'status': 'success'})\n",
    "\n",
    "@app.route('/set_destination', methods=['POST'])\n",
    "def set_destination():\n",
    "    data = request.get_json()\n",
    "    if \"destination\" not in data:\n",
    "        return jsonify({\"status\": \"ERROR\", \"message\": \"Missing destination data\"}), 400\n",
    "    try:\n",
    "        x, y, z = map(float, data[\"destination\"].split(\",\"))\n",
    "        print(f\"🎯 Destination set to x={x}, y={y}, z={z}\")\n",
    "        return jsonify({\"status\": \"OK\", \"destination\": {\"x\": x, \"y\": y, \"z\": z}})\n",
    "    except Exception as e:\n",
    "        return jsonify({\"status\": \"ERROR\", \"message\": str(e)}), 400\n",
    "\n",
    "@app.route('/init', methods=['GET'])\n",
    "def init():\n",
    "    config = {\n",
    "        \"startMode\": \"start\",\n",
    "        \"blStartX\": 60,\n",
    "        \"blStartY\": 10,\n",
    "        \"blStartZ\": 27.23,\n",
    "        \"rdStartX\": 59,\n",
    "        \"rdStartY\": 10,\n",
    "        \"rdStartZ\": 280,\n",
    "        \"trackingMode\": False,\n",
    "        \"detectMode\": True,\n",
    "        \"logMode\": False,\n",
    "        \"enemyTracking\": False,\n",
    "        \"saveSnapshot\": False,\n",
    "        \"saveLog\": False,\n",
    "        \"saveLidarData\": False,\n",
    "        \"lux\": 30000\n",
    "    }\n",
    "    print(\"🛠️ Init config:\", config)\n",
    "    return jsonify(config)\n",
    "\n",
    "@app.route('/start', methods=['GET'])\n",
    "def start():\n",
    "    print(\"🚀 Simulation Started\")\n",
    "    return jsonify({\"control\": \"\"})\n",
    "\n",
    "if __name__ == '__main__':\n",
    "    app.run(host='0.0.0.0', port=5000)"
   ]
  },
  {
   "cell_type": "code",
   "execution_count": null,
   "id": "4add2200-b518-4bcb-b726-55a176da5fbf",
   "metadata": {},
   "outputs": [],
   "source": []
  }
 ],
 "metadata": {
  "kernelspec": {
   "display_name": "Python (exam_env)",
   "language": "python",
   "name": "exam_env"
  },
  "language_info": {
   "codemirror_mode": {
    "name": "ipython",
    "version": 3
   },
   "file_extension": ".py",
   "mimetype": "text/x-python",
   "name": "python",
   "nbconvert_exporter": "python",
   "pygments_lexer": "ipython3",
   "version": "3.10.16"
  }
 },
 "nbformat": 4,
 "nbformat_minor": 5
}
