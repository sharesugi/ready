{
 "cells": [
  {
   "cell_type": "markdown",
   "id": "5160ca40-1bdf-4dcc-8a0e-ccd4748fe804",
   "metadata": {},
   "source": [
    "---\n",
    "# 0602\n",
    "기홍님이 올린 코드에서 base로 내코드 작성하기\n",
    "\n",
    "희연 : path 2 까지 한 것 +   \n",
    "각도 많이 꺾는 지점에서 STOP - Turn - move +  \n",
    "같은 자리를 빙글빙글 돌 경우 일정 시간 줘서 그 자리에서 계속 있으면, 처음 계산한 A* 최단 경로에서 각도 꺾이는 부분까지 이동 후, 다시 A* 지속해서 업데이트 한 길 따라가기\n",
    "\n",
    "---\n",
    "\n",
    "https://github.com/sharesugi/ready/blob/kihong/%EC%9E%90%EC%9C%A8%EC%A3%BC%ED%96%89%20%ED%8C%8C%ED%8A%B8/kihong/Astar_tank_gpt_10.py\n",
    "\n",
    "희연님이 base로 사용할 코드 🔼\n"
   ]
  },
  {
   "cell_type": "markdown",
   "id": "b9b2a148-e0ea-4bf4-bbd0-57d418fee56a",
   "metadata": {},
   "source": [
    "---\n",
    "# path 2개 이동 후 현위치, 최종목적지 이동 재계산 추가"
   ]
  },
  {
   "cell_type": "code",
   "execution_count": 15,
   "id": "8a46b7da-6b02-456e-94ec-038d0fb91723",
   "metadata": {},
   "outputs": [
    {
     "name": "stdout",
     "output_type": "stream",
     "text": [
      "🕜️ 초기 destination 설정: (150, 275)\n",
      " * Serving Flask app '__main__'\n",
      " * Debug mode: off\n"
     ]
    },
    {
     "name": "stderr",
     "output_type": "stream",
     "text": [
      "\u001b[31m\u001b[1mWARNING: This is a development server. Do not use it in a production deployment. Use a production WSGI server instead.\u001b[0m\n",
      " * Running on all addresses (0.0.0.0)\n",
      " * Running on http://127.0.0.1:5000\n",
      " * Running on http://172.26.45.58:5000\n",
      "\u001b[33mPress CTRL+C to quit\u001b[0m\n",
      "127.0.0.1 - - [02/Jun/2025 12:34:20] \"GET /init HTTP/1.1\" 200 -\n",
      "127.0.0.1 - - [02/Jun/2025 12:34:20] \"POST /update_obstacle HTTP/1.1\" 200 -\n",
      "127.0.0.1 - - [02/Jun/2025 12:34:20] \"POST /update_obstacle HTTP/1.1\" 200 -\n"
     ]
    },
    {
     "name": "stdout",
     "output_type": "stream",
     "text": [
      "🪨 장애물 업데이트 요청: 0개\n",
      "🪨 장애물 업데이트 요청: 0개\n",
      "🛠️ /init config: {'startMode': 'start', 'blStartX': 50, 'blStartY': 10, 'blStartZ': 50, 'rdStartX': 150, 'rdStartY': 10, 'rdStartZ': 275, 'trackingMode': False, 'detectMode': False, 'logMode': False, 'enemyTracking': False, 'saveSnapshot': False, 'saveLog': False, 'saveLidarData': False, 'lux': 30000}\n",
      "❌ JSON 저장 실패: name '__file__' is not defined\n",
      "❌ JSON 저장 실패: name '__file__' is not defined\n"
     ]
    },
    {
     "name": "stderr",
     "output_type": "stream",
     "text": [
      "127.0.0.1 - - [02/Jun/2025 12:34:23] \"POST /get_action HTTP/1.1\" 200 -\n"
     ]
    },
    {
     "name": "stdout",
     "output_type": "stream",
     "text": [
      "📍 현재 pos=(50.0,50.0) yaw=90.0 두번째 좌표로 가는 앵글 =45.0 차이 =-45.0\n",
      "🚀 cmd 2개 [{'moveWS': {'command': 'W', 'weight': 0.5}, 'moveAD': {'command': 'D', 'weight': 0.6}}, {'moveWS': {'command': 'W', 'weight': 0.5}, 'moveAD': {'command': 'D', 'weight': 0.6}}]\n"
     ]
    },
    {
     "name": "stderr",
     "output_type": "stream",
     "text": [
      "127.0.0.1 - - [02/Jun/2025 12:34:24] \"POST /get_action HTTP/1.1\" 200 -\n",
      "127.0.0.1 - - [02/Jun/2025 12:34:24] \"POST /get_action HTTP/1.1\" 200 -\n"
     ]
    },
    {
     "name": "stdout",
     "output_type": "stream",
     "text": [
      "📍 현재 pos=(50.2,50.6) yaw=70.5 두번째 좌표로 가는 앵글 =45.0 차이 =-25.5\n",
      "🚀 cmd 2개 [{'moveWS': {'command': 'W', 'weight': 0.5}, 'moveAD': {'command': 'D', 'weight': 0.3}}, {'moveWS': {'command': 'W', 'weight': 0.5}, 'moveAD': {'command': 'D', 'weight': 0.3}}]\n"
     ]
    },
    {
     "name": "stderr",
     "output_type": "stream",
     "text": [
      "127.0.0.1 - - [02/Jun/2025 12:34:25] \"POST /get_action HTTP/1.1\" 200 -\n",
      "127.0.0.1 - - [02/Jun/2025 12:34:25] \"POST /get_action HTTP/1.1\" 200 -\n"
     ]
    },
    {
     "name": "stdout",
     "output_type": "stream",
     "text": [
      "📍 현재 pos=(51.3,52.4) yaw=54.9 두번째 좌표로 가는 앵글 =45.0 차이 =-9.9\n",
      "🚀 cmd 2개 [{'moveWS': {'command': 'W', 'weight': 0.5}, 'moveAD': {'command': 'D', 'weight': 0.3}}, {'moveWS': {'command': 'W', 'weight': 0.5}, 'moveAD': {'command': 'D', 'weight': 0.3}}]\n"
     ]
    },
    {
     "name": "stderr",
     "output_type": "stream",
     "text": [
      "127.0.0.1 - - [02/Jun/2025 12:34:26] \"POST /get_action HTTP/1.1\" 200 -\n",
      "127.0.0.1 - - [02/Jun/2025 12:34:26] \"POST /get_action HTTP/1.1\" 200 -\n"
     ]
    },
    {
     "name": "stdout",
     "output_type": "stream",
     "text": [
      "📍 현재 pos=(53.7,54.8) yaw=42.4 두번째 좌표로 가는 앵글 =45.0 차이 =2.6\n",
      "🚀 cmd 2개 [{'moveWS': {'command': 'W', 'weight': 0.5}, 'moveAD': {'command': 'A', 'weight': 0.3}}, {'moveWS': {'command': 'W', 'weight': 0.5}, 'moveAD': {'command': 'A', 'weight': 0.3}}]\n"
     ]
    },
    {
     "name": "stderr",
     "output_type": "stream",
     "text": [
      "127.0.0.1 - - [02/Jun/2025 12:34:27] \"POST /get_action HTTP/1.1\" 200 -\n",
      "127.0.0.1 - - [02/Jun/2025 12:34:27] \"POST /get_action HTTP/1.1\" 200 -\n"
     ]
    },
    {
     "name": "stdout",
     "output_type": "stream",
     "text": [
      "📍 현재 pos=(57.4,58.4) yaw=47.0 두번째 좌표로 가는 앵글 =45.0 차이 =-2.0\n",
      "🚀 cmd 2개 [{'moveWS': {'command': 'W', 'weight': 0.5}, 'moveAD': {'command': 'D', 'weight': 0.3}}, {'moveWS': {'command': 'W', 'weight': 0.5}, 'moveAD': {'command': 'D', 'weight': 0.3}}]\n"
     ]
    },
    {
     "name": "stderr",
     "output_type": "stream",
     "text": [
      "127.0.0.1 - - [02/Jun/2025 12:34:28] \"POST /get_action HTTP/1.1\" 200 -\n",
      "127.0.0.1 - - [02/Jun/2025 12:34:28] \"POST /get_action HTTP/1.1\" 200 -\n"
     ]
    },
    {
     "name": "stdout",
     "output_type": "stream",
     "text": [
      "📍 현재 pos=(61.9,62.8) yaw=41.7 두번째 좌표로 가는 앵글 =45.0 차이 =3.3\n",
      "🚀 cmd 2개 [{'moveWS': {'command': 'W', 'weight': 0.5}, 'moveAD': {'command': 'A', 'weight': 0.3}}, {'moveWS': {'command': 'W', 'weight': 0.5}, 'moveAD': {'command': 'A', 'weight': 0.3}}]\n"
     ]
    },
    {
     "name": "stderr",
     "output_type": "stream",
     "text": [
      "127.0.0.1 - - [02/Jun/2025 12:34:29] \"POST /get_action HTTP/1.1\" 200 -\n",
      "127.0.0.1 - - [02/Jun/2025 12:34:29] \"POST /get_action HTTP/1.1\" 200 -\n"
     ]
    },
    {
     "name": "stdout",
     "output_type": "stream",
     "text": [
      "📍 현재 pos=(67.4,68.1) yaw=47.0 두번째 좌표로 가는 앵글 =45.0 차이 =-2.0\n",
      "🚀 cmd 2개 [{'moveWS': {'command': 'W', 'weight': 0.5}, 'moveAD': {'command': 'D', 'weight': 0.3}}, {'moveWS': {'command': 'W', 'weight': 0.5}, 'moveAD': {'command': 'D', 'weight': 0.3}}]\n"
     ]
    },
    {
     "name": "stderr",
     "output_type": "stream",
     "text": [
      "127.0.0.1 - - [02/Jun/2025 12:34:30] \"POST /get_action HTTP/1.1\" 200 -\n",
      "127.0.0.1 - - [02/Jun/2025 12:34:31] \"POST /get_action HTTP/1.1\" 200 -\n"
     ]
    },
    {
     "name": "stdout",
     "output_type": "stream",
     "text": [
      "📍 현재 pos=(73.8,74.5) yaw=41.6 두번째 좌표로 가는 앵글 =45.0 차이 =3.4\n",
      "🚀 cmd 2개 [{'moveWS': {'command': 'W', 'weight': 0.5}, 'moveAD': {'command': 'A', 'weight': 0.3}}, {'moveWS': {'command': 'W', 'weight': 0.5}, 'moveAD': {'command': 'A', 'weight': 0.3}}]\n"
     ]
    },
    {
     "name": "stderr",
     "output_type": "stream",
     "text": [
      "127.0.0.1 - - [02/Jun/2025 12:34:31] \"POST /get_action HTTP/1.1\" 200 -\n",
      "127.0.0.1 - - [02/Jun/2025 12:34:32] \"POST /get_action HTTP/1.1\" 200 -\n"
     ]
    },
    {
     "name": "stdout",
     "output_type": "stream",
     "text": [
      "📍 현재 pos=(81.2,81.5) yaw=46.9 두번째 좌표로 가는 앵글 =45.0 차이 =-1.9\n",
      "🚀 cmd 2개 [{'moveWS': {'command': 'W', 'weight': 0.5}, 'moveAD': {'command': 'D', 'weight': 0.3}}, {'moveWS': {'command': 'W', 'weight': 0.5}, 'moveAD': {'command': 'D', 'weight': 0.3}}]\n"
     ]
    },
    {
     "name": "stderr",
     "output_type": "stream",
     "text": [
      "127.0.0.1 - - [02/Jun/2025 12:34:32] \"POST /get_action HTTP/1.1\" 200 -\n",
      "127.0.0.1 - - [02/Jun/2025 12:34:33] \"POST /get_action HTTP/1.1\" 200 -\n"
     ]
    },
    {
     "name": "stdout",
     "output_type": "stream",
     "text": [
      "📍 현재 pos=(88.7,89.2) yaw=42.2 두번째 좌표로 가는 앵글 =45.0 차이 =2.8\n",
      "🚀 cmd 2개 [{'moveWS': {'command': 'W', 'weight': 0.5}, 'moveAD': {'command': 'A', 'weight': 0.3}}, {'moveWS': {'command': 'W', 'weight': 0.5}, 'moveAD': {'command': 'A', 'weight': 0.3}}]\n"
     ]
    },
    {
     "name": "stderr",
     "output_type": "stream",
     "text": [
      "127.0.0.1 - - [02/Jun/2025 12:34:33] \"POST /get_action HTTP/1.1\" 200 -\n",
      "127.0.0.1 - - [02/Jun/2025 12:34:34] \"POST /get_action HTTP/1.1\" 200 -\n"
     ]
    },
    {
     "name": "stdout",
     "output_type": "stream",
     "text": [
      "📍 현재 pos=(96.1,96.4) yaw=47.3 두번째 좌표로 가는 앵글 =45.0 차이 =-2.3\n",
      "🚀 cmd 2개 [{'moveWS': {'command': 'W', 'weight': 0.5}, 'moveAD': {'command': 'D', 'weight': 0.3}}, {'moveWS': {'command': 'W', 'weight': 0.5}, 'moveAD': {'command': 'D', 'weight': 0.3}}]\n"
     ]
    },
    {
     "name": "stderr",
     "output_type": "stream",
     "text": [
      "127.0.0.1 - - [02/Jun/2025 12:34:34] \"POST /get_action HTTP/1.1\" 200 -\n",
      "127.0.0.1 - - [02/Jun/2025 12:34:35] \"POST /get_action HTTP/1.1\" 200 -\n"
     ]
    },
    {
     "name": "stdout",
     "output_type": "stream",
     "text": [
      "📍 현재 pos=(103.4,103.7) yaw=42.2 두번째 좌표로 가는 앵글 =45.0 차이 =2.8\n",
      "🚀 cmd 2개 [{'moveWS': {'command': 'W', 'weight': 0.5}, 'moveAD': {'command': 'A', 'weight': 0.3}}, {'moveWS': {'command': 'W', 'weight': 0.5}, 'moveAD': {'command': 'A', 'weight': 0.3}}]\n"
     ]
    },
    {
     "name": "stderr",
     "output_type": "stream",
     "text": [
      "127.0.0.1 - - [02/Jun/2025 12:34:35] \"POST /get_action HTTP/1.1\" 200 -\n",
      "127.0.0.1 - - [02/Jun/2025 12:34:36] \"POST /get_action HTTP/1.1\" 200 -\n"
     ]
    },
    {
     "name": "stdout",
     "output_type": "stream",
     "text": [
      "📍 현재 pos=(110.8,110.9) yaw=47.3 두번째 좌표로 가는 앵글 =45.0 차이 =-2.3\n",
      "🚀 cmd 2개 [{'moveWS': {'command': 'W', 'weight': 0.5}, 'moveAD': {'command': 'D', 'weight': 0.3}}, {'moveWS': {'command': 'W', 'weight': 0.5}, 'moveAD': {'command': 'D', 'weight': 0.3}}]\n"
     ]
    },
    {
     "name": "stderr",
     "output_type": "stream",
     "text": [
      "127.0.0.1 - - [02/Jun/2025 12:34:36] \"POST /get_action HTTP/1.1\" 200 -\n",
      "127.0.0.1 - - [02/Jun/2025 12:34:37] \"POST /get_action HTTP/1.1\" 200 -\n"
     ]
    },
    {
     "name": "stdout",
     "output_type": "stream",
     "text": [
      "📍 현재 pos=(118.1,118.3) yaw=42.1 두번째 좌표로 가는 앵글 =45.0 차이 =2.9\n",
      "🚀 cmd 2개 [{'moveWS': {'command': 'W', 'weight': 0.5}, 'moveAD': {'command': 'A', 'weight': 0.3}}, {'moveWS': {'command': 'W', 'weight': 0.5}, 'moveAD': {'command': 'A', 'weight': 0.3}}]\n"
     ]
    },
    {
     "name": "stderr",
     "output_type": "stream",
     "text": [
      "127.0.0.1 - - [02/Jun/2025 12:34:38] \"POST /get_action HTTP/1.1\" 200 -\n",
      "127.0.0.1 - - [02/Jun/2025 12:34:38] \"POST /get_action HTTP/1.1\" 200 -\n"
     ]
    },
    {
     "name": "stdout",
     "output_type": "stream",
     "text": [
      "📍 현재 pos=(125.5,125.5) yaw=47.3 두번째 좌표로 가는 앵글 =45.0 차이 =-2.3\n",
      "🚀 cmd 2개 [{'moveWS': {'command': 'W', 'weight': 0.5}, 'moveAD': {'command': 'D', 'weight': 0.3}}, {'moveWS': {'command': 'W', 'weight': 0.5}, 'moveAD': {'command': 'D', 'weight': 0.3}}]\n"
     ]
    },
    {
     "name": "stderr",
     "output_type": "stream",
     "text": [
      "127.0.0.1 - - [02/Jun/2025 12:34:39] \"POST /get_action HTTP/1.1\" 200 -\n",
      "127.0.0.1 - - [02/Jun/2025 12:34:39] \"POST /get_action HTTP/1.1\" 200 -\n"
     ]
    },
    {
     "name": "stdout",
     "output_type": "stream",
     "text": [
      "📍 현재 pos=(132.8,132.8) yaw=42.1 두번째 좌표로 가는 앵글 =45.0 차이 =2.9\n",
      "🚀 cmd 2개 [{'moveWS': {'command': 'W', 'weight': 0.5}, 'moveAD': {'command': 'A', 'weight': 0.3}}, {'moveWS': {'command': 'W', 'weight': 0.5}, 'moveAD': {'command': 'A', 'weight': 0.3}}]\n"
     ]
    },
    {
     "name": "stderr",
     "output_type": "stream",
     "text": [
      "127.0.0.1 - - [02/Jun/2025 12:34:40] \"POST /get_action HTTP/1.1\" 200 -\n",
      "127.0.0.1 - - [02/Jun/2025 12:34:40] \"POST /get_action HTTP/1.1\" 200 -\n"
     ]
    },
    {
     "name": "stdout",
     "output_type": "stream",
     "text": [
      "📍 현재 pos=(140.2,140.1) yaw=47.3 두번째 좌표로 가는 앵글 =45.0 차이 =-2.3\n",
      "🚀 cmd 2개 [{'moveWS': {'command': 'W', 'weight': 0.5}, 'moveAD': {'command': 'D', 'weight': 0.3}}, {'moveWS': {'command': 'W', 'weight': 0.5}, 'moveAD': {'command': 'D', 'weight': 0.3}}]\n"
     ]
    },
    {
     "name": "stderr",
     "output_type": "stream",
     "text": [
      "127.0.0.1 - - [02/Jun/2025 12:34:41] \"POST /get_action HTTP/1.1\" 200 -\n",
      "127.0.0.1 - - [02/Jun/2025 12:34:41] \"POST /get_action HTTP/1.1\" 200 -\n"
     ]
    },
    {
     "name": "stdout",
     "output_type": "stream",
     "text": [
      "📍 현재 pos=(147.5,147.4) yaw=42.1 두번째 좌표로 가는 앵글 =45.0 차이 =2.9\n",
      "🚀 cmd 2개 [{'moveWS': {'command': 'W', 'weight': 0.5}, 'moveAD': {'command': 'A', 'weight': 0.3}}, {'moveWS': {'command': 'W', 'weight': 0.5}, 'moveAD': {'command': 'A', 'weight': 0.3}}]\n"
     ]
    },
    {
     "name": "stderr",
     "output_type": "stream",
     "text": [
      "127.0.0.1 - - [02/Jun/2025 12:34:42] \"POST /get_action HTTP/1.1\" 200 -\n",
      "127.0.0.1 - - [02/Jun/2025 12:34:42] \"POST /get_action HTTP/1.1\" 200 -\n"
     ]
    },
    {
     "name": "stdout",
     "output_type": "stream",
     "text": [
      "📍 현재 pos=(154.9,154.6) yaw=47.3 두번째 좌표로 가는 앵글 =135.0 차이 =87.7\n",
      "🚀 cmd 2개 [{'moveWS': {'command': 'W', 'weight': 0.5}, 'moveAD': {'command': 'A', 'weight': 0.75}}, {'moveWS': {'command': 'W', 'weight': 0.5}, 'moveAD': {'command': 'A', 'weight': 0.75}}]\n"
     ]
    },
    {
     "name": "stderr",
     "output_type": "stream",
     "text": [
      "127.0.0.1 - - [02/Jun/2025 12:34:43] \"POST /get_action HTTP/1.1\" 200 -\n",
      "127.0.0.1 - - [02/Jun/2025 12:34:43] \"POST /get_action HTTP/1.1\" 200 -\n"
     ]
    },
    {
     "name": "stdout",
     "output_type": "stream",
     "text": [
      "📍 현재 pos=(159.2,163.9) yaw=73.6 두번째 좌표로 가는 앵글 =135.0 차이 =61.4\n",
      "🚀 cmd 2개 [{'moveWS': {'command': 'W', 'weight': 0.5}, 'moveAD': {'command': 'A', 'weight': 0.75}}, {'moveWS': {'command': 'W', 'weight': 0.5}, 'moveAD': {'command': 'A', 'weight': 0.75}}]\n"
     ]
    },
    {
     "name": "stderr",
     "output_type": "stream",
     "text": [
      "127.0.0.1 - - [02/Jun/2025 12:34:44] \"POST /get_action HTTP/1.1\" 200 -\n",
      "127.0.0.1 - - [02/Jun/2025 12:34:44] \"POST /get_action HTTP/1.1\" 200 -\n"
     ]
    },
    {
     "name": "stdout",
     "output_type": "stream",
     "text": [
      "📍 현재 pos=(157.8,174.1) yaw=105.6 두번째 좌표로 가는 앵글 =135.0 차이 =29.4\n",
      "🚀 cmd 2개 [{'moveWS': {'command': 'W', 'weight': 0.5}, 'moveAD': {'command': 'A', 'weight': 0.3}}, {'moveWS': {'command': 'W', 'weight': 0.5}, 'moveAD': {'command': 'A', 'weight': 0.3}}]\n"
     ]
    },
    {
     "name": "stderr",
     "output_type": "stream",
     "text": [
      "127.0.0.1 - - [02/Jun/2025 12:34:45] \"POST /get_action HTTP/1.1\" 200 -\n",
      "127.0.0.1 - - [02/Jun/2025 12:34:46] \"POST /get_action HTTP/1.1\" 200 -\n"
     ]
    },
    {
     "name": "stdout",
     "output_type": "stream",
     "text": [
      "📍 현재 pos=(152.5,183.0) yaw=124.1 두번째 좌표로 가는 앵글 =135.0 차이 =10.9\n",
      "🚀 cmd 2개 [{'moveWS': {'command': 'W', 'weight': 0.5}, 'moveAD': {'command': 'A', 'weight': 0.3}}, {'moveWS': {'command': 'W', 'weight': 0.5}, 'moveAD': {'command': 'A', 'weight': 0.3}}]\n"
     ]
    },
    {
     "name": "stderr",
     "output_type": "stream",
     "text": [
      "127.0.0.1 - - [02/Jun/2025 12:34:46] \"POST /get_action HTTP/1.1\" 200 -\n",
      "127.0.0.1 - - [02/Jun/2025 12:34:47] \"POST /get_action HTTP/1.1\" 200 -\n"
     ]
    },
    {
     "name": "stdout",
     "output_type": "stream",
     "text": [
      "📍 현재 pos=(145.3,190.4) yaw=137.0 두번째 좌표로 가는 앵글 =45.0 차이 =-92.0\n",
      "🚀 cmd 2개 [{'moveWS': {'command': 'W', 'weight': 0.5}, 'moveAD': {'command': 'D', 'weight': 1.0}}, {'moveWS': {'command': 'W', 'weight': 0.5}, 'moveAD': {'command': 'D', 'weight': 1.0}}]\n"
     ]
    },
    {
     "name": "stderr",
     "output_type": "stream",
     "text": [
      "127.0.0.1 - - [02/Jun/2025 12:34:47] \"POST /get_action HTTP/1.1\" 200 -\n",
      "127.0.0.1 - - [02/Jun/2025 12:34:48] \"POST /get_action HTTP/1.1\" 200 -\n"
     ]
    },
    {
     "name": "stdout",
     "output_type": "stream",
     "text": [
      "📍 현재 pos=(140.1,199.1) yaw=110.8 두번째 좌표로 가는 앵글 =45.0 차이 =-65.8\n",
      "🚀 cmd 2개 [{'moveWS': {'command': 'W', 'weight': 0.5}, 'moveAD': {'command': 'D', 'weight': 0.75}}, {'moveWS': {'command': 'W', 'weight': 0.5}, 'moveAD': {'command': 'D', 'weight': 0.75}}]\n"
     ]
    },
    {
     "name": "stderr",
     "output_type": "stream",
     "text": [
      "127.0.0.1 - - [02/Jun/2025 12:34:48] \"POST /get_action HTTP/1.1\" 200 -\n",
      "127.0.0.1 - - [02/Jun/2025 12:34:49] \"POST /get_action HTTP/1.1\" 200 -\n"
     ]
    },
    {
     "name": "stdout",
     "output_type": "stream",
     "text": [
      "📍 현재 pos=(141.2,209.3) yaw=75.5 두번째 좌표로 가는 앵글 =45.0 차이 =-30.5\n",
      "🚀 cmd 2개 [{'moveWS': {'command': 'W', 'weight': 0.5}, 'moveAD': {'command': 'D', 'weight': 0.6}}, {'moveWS': {'command': 'W', 'weight': 0.5}, 'moveAD': {'command': 'D', 'weight': 0.6}}]\n"
     ]
    },
    {
     "name": "stderr",
     "output_type": "stream",
     "text": [
      "127.0.0.1 - - [02/Jun/2025 12:34:49] \"POST /get_action HTTP/1.1\" 200 -\n",
      "127.0.0.1 - - [02/Jun/2025 12:34:50] \"POST /get_action HTTP/1.1\" 200 -\n"
     ]
    },
    {
     "name": "stdout",
     "output_type": "stream",
     "text": [
      "📍 현재 pos=(147.2,217.7) yaw=48.1 두번째 좌표로 가는 앵글 =45.0 차이 =-3.1\n",
      "🚀 cmd 2개 [{'moveWS': {'command': 'W', 'weight': 0.5}, 'moveAD': {'command': 'D', 'weight': 0.3}}, {'moveWS': {'command': 'W', 'weight': 0.5}, 'moveAD': {'command': 'D', 'weight': 0.3}}]\n"
     ]
    },
    {
     "name": "stderr",
     "output_type": "stream",
     "text": [
      "127.0.0.1 - - [02/Jun/2025 12:34:50] \"POST /get_action HTTP/1.1\" 200 -\n",
      "127.0.0.1 - - [02/Jun/2025 12:34:51] \"POST /get_action HTTP/1.1\" 200 -\n"
     ]
    },
    {
     "name": "stdout",
     "output_type": "stream",
     "text": [
      "📍 현재 pos=(155.7,223.5) yaw=31.4 두번째 좌표로 가는 앵글 =135.0 차이 =103.6\n",
      "🚀 cmd 2개 [{'moveWS': {'command': 'W', 'weight': 0.5}, 'moveAD': {'command': 'A', 'weight': 1.0}}, {'moveWS': {'command': 'W', 'weight': 0.5}, 'moveAD': {'command': 'A', 'weight': 1.0}}]\n"
     ]
    },
    {
     "name": "stderr",
     "output_type": "stream",
     "text": [
      "127.0.0.1 - - [02/Jun/2025 12:34:51] \"POST /get_action HTTP/1.1\" 200 -\n",
      "127.0.0.1 - - [02/Jun/2025 12:34:52] \"POST /get_action HTTP/1.1\" 200 -\n"
     ]
    },
    {
     "name": "stdout",
     "output_type": "stream",
     "text": [
      "📍 현재 pos=(162.6,230.9) yaw=57.6 두번째 좌표로 가는 앵글 =135.0 차이 =77.4\n",
      "🚀 cmd 2개 [{'moveWS': {'command': 'S', 'weight': 0.2}, 'moveAD': {'command': 'A', 'weight': 0.75}}, {'moveWS': {'command': 'S', 'weight': 0.2}, 'moveAD': {'command': 'A', 'weight': 0.75}}]\n"
     ]
    },
    {
     "name": "stderr",
     "output_type": "stream",
     "text": [
      "127.0.0.1 - - [02/Jun/2025 12:34:52] \"POST /get_action HTTP/1.1\" 200 -\n",
      "127.0.0.1 - - [02/Jun/2025 12:34:53] \"POST /get_action HTTP/1.1\" 200 -\n"
     ]
    },
    {
     "name": "stdout",
     "output_type": "stream",
     "text": [
      "📍 현재 pos=(163.6,240.9) yaw=92.8 두번째 좌표로 가는 앵글 =135.0 차이 =42.2\n",
      "🚀 cmd 2개 [{'moveWS': {'command': 'S', 'weight': 0.2}, 'moveAD': {'command': 'A', 'weight': 0.6}}, {'moveWS': {'command': 'S', 'weight': 0.2}, 'moveAD': {'command': 'A', 'weight': 0.6}}]\n"
     ]
    },
    {
     "name": "stderr",
     "output_type": "stream",
     "text": [
      "127.0.0.1 - - [02/Jun/2025 12:34:54] \"POST /get_action HTTP/1.1\" 200 -\n",
      "127.0.0.1 - - [02/Jun/2025 12:34:54] \"POST /get_action HTTP/1.1\" 200 -\n"
     ]
    },
    {
     "name": "stdout",
     "output_type": "stream",
     "text": [
      "📍 현재 pos=(159.7,249.5) yaw=120.3 두번째 좌표로 가는 앵글 =135.0 차이 =14.7\n",
      "🚀 cmd 2개 [{'moveWS': {'command': 'S', 'weight': 0.2}, 'moveAD': {'command': 'A', 'weight': 0.3}}, {'moveWS': {'command': 'S', 'weight': 0.2}, 'moveAD': {'command': 'A', 'weight': 0.3}}]\n"
     ]
    },
    {
     "name": "stderr",
     "output_type": "stream",
     "text": [
      "127.0.0.1 - - [02/Jun/2025 12:34:55] \"POST /get_action HTTP/1.1\" 200 -\n",
      "127.0.0.1 - - [02/Jun/2025 12:34:55] \"POST /get_action HTTP/1.1\" 200 -\n"
     ]
    },
    {
     "name": "stdout",
     "output_type": "stream",
     "text": [
      "📍 현재 pos=(153.5,256.0) yaw=136.9 두번째 좌표로 가는 앵글 =135.0 차이 =-1.9\n",
      "🚀 cmd 2개 [{'moveWS': {'command': 'S', 'weight': 0.2}, 'moveAD': {'command': 'D', 'weight': 0.3}}, {'moveWS': {'command': 'S', 'weight': 0.2}, 'moveAD': {'command': 'D', 'weight': 0.3}}]\n"
     ]
    },
    {
     "name": "stderr",
     "output_type": "stream",
     "text": [
      "127.0.0.1 - - [02/Jun/2025 12:34:56] \"POST /get_action HTTP/1.1\" 200 -\n",
      "127.0.0.1 - - [02/Jun/2025 12:34:56] \"POST /get_action HTTP/1.1\" 200 -\n"
     ]
    },
    {
     "name": "stdout",
     "output_type": "stream",
     "text": [
      "📍 현재 pos=(147.6,262.0) yaw=131.7 두번째 좌표로 가는 앵글 =45.0 차이 =-86.7\n",
      "🚀 cmd 2개 [{'moveWS': {'command': 'S', 'weight': 0.2}, 'moveAD': {'command': 'D', 'weight': 0.75}}, {'moveWS': {'command': 'S', 'weight': 0.2}, 'moveAD': {'command': 'D', 'weight': 0.75}}]\n"
     ]
    },
    {
     "name": "stderr",
     "output_type": "stream",
     "text": [
      "127.0.0.1 - - [02/Jun/2025 12:34:57] \"POST /get_action HTTP/1.1\" 200 -\n",
      "127.0.0.1 - - [02/Jun/2025 12:34:57] \"POST /get_action HTTP/1.1\" 200 -\n"
     ]
    },
    {
     "name": "stdout",
     "output_type": "stream",
     "text": [
      "📍 현재 pos=(144.5,269.1) yaw=105.4 두번째 좌표로 가는 앵글 =45.0 차이 =-60.4\n",
      "🚀 cmd 2개 [{'moveWS': {'command': 'S', 'weight': 0.2}, 'moveAD': {'command': 'D', 'weight': 0.75}}, {'moveWS': {'command': 'S', 'weight': 0.2}, 'moveAD': {'command': 'D', 'weight': 0.75}}]\n"
     ]
    },
    {
     "name": "stderr",
     "output_type": "stream",
     "text": [
      "127.0.0.1 - - [02/Jun/2025 12:34:58] \"POST /get_action HTTP/1.1\" 200 -\n",
      "127.0.0.1 - - [02/Jun/2025 12:34:58] \"POST /get_action HTTP/1.1\" 200 -\n"
     ]
    },
    {
     "name": "stdout",
     "output_type": "stream",
     "text": [
      "✨ 목표 도달: 전차 정지 플래그 설정\n"
     ]
    },
    {
     "name": "stderr",
     "output_type": "stream",
     "text": [
      "127.0.0.1 - - [02/Jun/2025 12:34:59] \"POST /get_action HTTP/1.1\" 200 -\n",
      "127.0.0.1 - - [02/Jun/2025 12:34:59] \"POST /get_action HTTP/1.1\" 200 -\n",
      "127.0.0.1 - - [02/Jun/2025 12:35:00] \"POST /get_action HTTP/1.1\" 200 -\n",
      "127.0.0.1 - - [02/Jun/2025 12:35:00] \"GET /start HTTP/1.1\" 200 -\n"
     ]
    },
    {
     "name": "stdout",
     "output_type": "stream",
     "text": [
      "start\n"
     ]
    },
    {
     "name": "stderr",
     "output_type": "stream",
     "text": [
      "127.0.0.1 - - [02/Jun/2025 12:35:01] \"GET /start HTTP/1.1\" 200 -\n"
     ]
    },
    {
     "name": "stdout",
     "output_type": "stream",
     "text": [
      "start\n"
     ]
    }
   ],
   "source": [
    "# path 2개 이동후 재계산 추가_ 희연\n",
    "# 장애물 근접시 속도 줄이기 추가_김기홍님\n",
    "# Flask 및 필요한 라이브러리 불러오기\n",
    "from flask import Flask, request, jsonify\n",
    "from queue import PriorityQueue\n",
    "import os\n",
    "import torch\n",
    "from ultralytics import YOLO\n",
    "import math\n",
    "import cv2\n",
    "import numpy as np\n",
    "import csv\n",
    "import pandas as pd\n",
    "import matplotlib.pyplot as plt\n",
    "import json\n",
    "\n",
    "# Flask 앱 초기화 및 YOLO 모델 로드\n",
    "app = Flask(__name__)\n",
    "model = YOLO('yolov8n.pt')\n",
    "\n",
    "# 전역 설정값 및 변수 초기화\n",
    "GRID_SIZE = 300  # 맵 크기\n",
    "maze = [[0 for _ in range(GRID_SIZE)] for _ in range(GRID_SIZE)]  # 장애물 맵\n",
    "\n",
    "# 내 전차 시작 위치\n",
    "start_x = 50\n",
    "start_z = 50\n",
    "start = (start_x, start_z)\n",
    "# 최종 목적지 위치 - 적 전차도 이 위치에 갖다 놓음.\n",
    "destination_x = 150\n",
    "destination_z = 275\n",
    "destination = (destination_x, destination_z)\n",
    "print(f\"🕜️ 초기 destination 설정: {destination}\")\n",
    "\n",
    "INITIAL_YAW = 90.0  # 초기 YAW 값 - 맨 처음 전차의 방향이 0도이기 때문에 0.0 줌. 이를  \n",
    "current_yaw = INITIAL_YAW  # 현재 차체 방향 추정치 -> playerBodyX로 바꾸면 좋겠으나 실패... playerBodyX의 정보를 받아 오는데 딜레이가 걸린다면 지금처럼 current_yaw값 쓰는게 좋다고 함(by GPT)\n",
    "previous_position = None  # 이전 위치 (yaw 계산용)\n",
    "target_reached = False  # 목표 도달 유무 플래그\n",
    "current_angle = 0.0  # 실제 플레이어의 차체 각도 저장용 (degree) -> playerBodyX 받아오는 방법 사용해 볼 것임.\n",
    "\n",
    "# 시각화 관련 부분\n",
    "\n",
    "# 이동 경로 그림 그릴 때 필요함.\n",
    "current_position = None\n",
    "last_position = None\n",
    "position_history = []\n",
    "\n",
    "# A* 알고리즘 관련 클래스 및 함수 정의\n",
    "class Node:\n",
    "    def __init__(self, position, parent=None):\n",
    "        self.position = position\n",
    "        self.parent = parent\n",
    "        self.g = 0\n",
    "        self.h = 0\n",
    "        self.f = 0\n",
    "    def __lt__(self, other):\n",
    "        return self.f < other.f\n",
    "\n",
    "def heuristic(a, b):\n",
    "    return abs(a[0] - b[0]) + abs(a[1] - b[1])\n",
    "\n",
    "def get_neighbors(pos):\n",
    "    neighbors = []\n",
    "    for dx, dz in [(-1,0),(1,0),(0,-1),(0,1),(-1,-1),(-1,1),(1,-1),(1,1)]:\n",
    "        x, z = pos[0] + dx, pos[1] + dz\n",
    "        if 0 <= x < GRID_SIZE and 0 <= z < GRID_SIZE:\n",
    "            # 대각선 이동일 경우 추가 확인\n",
    "            if dx != 0 and dz != 0:\n",
    "                if maze[pos[1]][x] == 1 or maze[z][pos[0]] == 1:\n",
    "                    continue  # 대각선 경로에 인접한 직선 중 하나라도 막혀있으면 skip # 즉 모서리를 못 뚫고 지나가게 수정\n",
    "            if maze[z][x] == 0: \n",
    "                neighbors.append((x, z))\n",
    "    return neighbors\n",
    "\n",
    "def a_star(start, goal):\n",
    "    open_set = PriorityQueue()\n",
    "    open_set.put((0, Node(start)))\n",
    "    closed = set()\n",
    "    while not open_set.empty():\n",
    "        _, current = open_set.get()\n",
    "        if current.position == goal:\n",
    "            path = []\n",
    "            while current:\n",
    "                path.append(current.position)\n",
    "                current = current.parent\n",
    "            return path[::-1]\n",
    "        closed.add(current.position)\n",
    "        for nbr in get_neighbors(current.position):\n",
    "            if nbr in closed: continue\n",
    "            node = Node(nbr, current)\n",
    "            node.g = current.g + 1\n",
    "            node.h = heuristic(nbr, goal)\n",
    "            node.f = node.g + node.h\n",
    "            open_set.put((node.f, node))\n",
    "    return [start]\n",
    "\n",
    "path = a_star(start, destination)  # 현재 A* 결과\n",
    "\n",
    "# 현재 위치와 다음 위치 간 각도 계산 함수\n",
    "def calculate_angle(current, next_pos): # A*알고리즘을 통해서 어디로 갈지 전체 경로를 정했기 때문에 다음 위치로만 가면 됨.\n",
    "    dx = next_pos[0] - current[0]\n",
    "    dz = next_pos[1] - current[1]\n",
    "    return (math.degrees(math.atan2(dz, dx)) + 360) % 360\n",
    "\n",
    "# 전방 장애물 감지 함수_ 기홍님 추가 _0602_ 아침에 깃허브에서 받음\n",
    "# 함수 설명:이동하기 전에, 지금 위치와 현재 바라보는 방향(yaw)을 기준으로 \n",
    "# 앞으로 radius만큼 한 칸씩 쭉 살펴봐서, 장애물(maze에서 1로 표시된 곳)이 있으면 미리 감지. \n",
    "# 그래서 아직 이동하지 않았어도 앞으로 막히는지 미리 확인 가능.\n",
    "def is_obstacle_ahead(pos, yaw, maze, radius=30):\n",
    "    \"\"\"\n",
    "    현재 yaw(도 단위) 방향 기준 전방 radius만큼 검사.\n",
    "    장애물(maze=1)이 있으면 True 리턴.\n",
    "    \"\"\"\n",
    "    x, z = pos   # 현좌표\n",
    "    rad = math.radians(yaw)   # 현각도 라디안으로 변경\n",
    "    dx = math.cos(rad)       \n",
    "    dz = math.sin(rad)\n",
    "\n",
    "    for step in range(1, radius + 1):\n",
    "        nx = int(round(x + dx * step))\n",
    "        nz = int(round(z + dz * step))\n",
    "        if 0 <= nx < GRID_SIZE and 0 <= nz < GRID_SIZE:\n",
    "            if maze[nz][nx] == 1:\n",
    "                print(f\"⚠️ 전방 장애물 감지: ({nx},{nz})\")\n",
    "                return True\n",
    "    return False\n",
    "\n",
    "\n",
    "# 장애물 맵 유효 위치 확인\n",
    "def is_valid_pos(pos, size=GRID_SIZE): # 장애물이 300x300 안에 있는지 확인\n",
    "    x, z = pos\n",
    "    return 0 <= x < size and 0 <= z < size\n",
    "\n",
    "# Flask API 라우팅 시작\n",
    "@app.route('/init', methods=['GET'])\n",
    "def init():\n",
    "    global current_yaw, previous_position, target_reached\n",
    "    current_yaw = INITIAL_YAW\n",
    "    previous_position = None\n",
    "    target_reached = False\n",
    "\n",
    "    config = {\n",
    "        \"startMode\": \"start\",\n",
    "        \"blStartX\": start_x, \"blStartY\": 10, \"blStartZ\": start_z,\n",
    "        \"rdStartX\": destination_x, \"rdStartY\": 10, \"rdStartZ\": destination_z,\n",
    "        \"trackingMode\": False, \"detectMode\": False, \"logMode\": False,\n",
    "        \"enemyTracking\": False, \"saveSnapshot\": False,\n",
    "        \"saveLog\": False, \"saveLidarData\": False, \"lux\": 30000\n",
    "    }\n",
    "    print(\"🛠️ /init config:\", config)\n",
    "    return jsonify(config)\n",
    "\n",
    "# 여기 리스트에 cmd 2개를 넣는다\n",
    "combined_command_cache = []\n",
    "\n",
    "@app.route('/get_action', methods=['POST'])\n",
    "def get_action():\n",
    "    global target_reached, previous_position, current_yaw, current_position, last_position\n",
    "    data = request.get_json(force=True)\n",
    "    pos = data.get('position', {})\n",
    "    pos_x = float(pos.get('x', 0))\n",
    "    pos_z = float(pos.get('z', 0))\n",
    "\n",
    "    if not target_reached and math.hypot(pos_x - destination[0], pos_z - destination[1]) < 5.0:\n",
    "        target_reached = True\n",
    "        print(\"✨ 목표 도달: 전차 정지 플래그 설정\")\n",
    "        \n",
    "    if target_reached:\n",
    "        stop_cmd = {k: {'command': 'STOP', 'weight': 1.0} for k in ['moveWS', 'moveAD']}\n",
    "        return jsonify(stop_cmd)\n",
    "\n",
    "    if previous_position is not None:\n",
    "        dx = pos_x - previous_position[0]\n",
    "        dz = pos_z - previous_position[1]\n",
    "        if math.hypot(dx, dz) > 0.01:\n",
    "            current_yaw = (math.degrees(math.atan2(dz, dx)) + 360) % 360\n",
    "    previous_position = (pos_x, pos_z)\n",
    "\n",
    "    current_grid = (int(pos_x), int(pos_z))\n",
    "    path = a_star(current_grid, destination)\n",
    "\n",
    "    ####################### 여기서부터 해보기 (희연)################################################################\n",
    "    # 2 좌표 이동한 후. astar(현좌표, 최종목적지) 함수 실행해서 path 새로 뽑기 반복\n",
    "\n",
    "    # 예전 코드\n",
    "    # next_grid = path[1] if len(path) > 1 else current_grid\n",
    "\n",
    "    if combined_command_cache:\n",
    "    # 캐시에 남은 명령이 있으면 그걸 먼저 보내고 pop\n",
    "        cmd = combined_command_cache.pop(0)\n",
    "        return jsonify(cmd)\n",
    "\n",
    "    \n",
    "    if len(path) > 2:   # 최종목적지까지 3개 이상의 좌표가 남았으면 \n",
    "        next_grid = path[1:3]  # 두번째 좌표 참조\n",
    "    elif len(path) > 1:          # 최종목적지까지 2개 이하의 좌표가 남았으면 \n",
    "        next_grid = [path[1]]      # 한개씩 참조  \n",
    "    else: \n",
    "        next_grid = current_grid   # 0개면 멈춰라! 도착한거니까!\n",
    "\n",
    "    for i in range(len(next_grid)):  # 두개의 좌표가 맵을 빠져나기지 않는지 확인 # 0, 1\n",
    "\n",
    "        # next_grid[1]의 회전 각도는 current 가 아니라 next_grid[0]에서 게산해야 맞음 \n",
    "        base_pos = current_grid if i == 0 else next_grid[i - 1]  \n",
    "    \n",
    "        if not is_valid_pos(next_grid[i]):  # 가야하는 곳이 맵 외에 있으면 움직이는거 멈춤\n",
    "            stop_cmd = {k: {'command': '', 'weight': 0.0} for k in ['moveWS', 'moveAD']}\n",
    "            stop_cmd['fire'] = False\n",
    "            return jsonify(stop_cmd)\n",
    "\n",
    "        target_angle = calculate_angle(base_pos, next_grid[i])  # 현재 좌표에서 두번째 좌표로\n",
    "        diff = (target_angle - current_yaw + 360) % 360   # 현 각도랑 틀어야할 각도 차이 알아내고\n",
    "        if diff > 180:  # 이거는 정규화 비슷\n",
    "            diff -= 360\n",
    "\n",
    "        # 이건 그냥 유클리드 거리. sqrt는 제곱근! 현위치랑 목적좌표까지의 거리 \n",
    "        distance = math.sqrt((pos_x - destination[0])**2 + (pos_z - destination[1])**2)\n",
    "\n",
    "        # 전방 장애물 감지 _ 기홍님이 새로 추가 0602_ 오늘 아침에 깃허브에서 받음\n",
    "        ahead_obstacle = is_obstacle_ahead(base_pos, current_yaw, maze)\n",
    "\n",
    "        if distance < 50 :   # 앞으로 가는 weight\n",
    "            w_weight = 0.2\n",
    "            acceleration = 'S'\n",
    "        elif ahead_obstacle:\n",
    "            w_weight = 0.2  # 전방에 장애물 있을 경우 감속\n",
    "            acceleration = 'S'\n",
    "        else:\n",
    "            w_weight = 0.5\n",
    "            acceleration = 'W'\n",
    "\n",
    "\n",
    "        # 각도가 많이 꺾이면 멈췄다가 가기_희연 \n",
    "        #여기에 추가로 stop을 넣어야함.\n",
    "        abs_diff = abs(diff)\n",
    "        stop = 30 <= abs_diff # 틀어야하는 각도가 30도 이상이면 stop 은 true! 그 아래면 false!!\n",
    "\n",
    "        if 0 < abs_diff < 30 :  \n",
    "            w_degree = 0.3\n",
    "        elif 30 <= abs_diff < 60 :    \n",
    "            w_degree = 0.6\n",
    "            stop = True\n",
    "        elif 60 <= abs_diff < 90 : \n",
    "            w_degree = 0.75\n",
    "        else :\n",
    "            w_degree = 1.0\n",
    "    \n",
    "        forward = {'command': acceleration, 'weight': w_weight}\n",
    "        turn = {'command': 'A' if diff > 0 else 'D', 'weight': w_degree}\n",
    "\n",
    "        cmd = {\n",
    "            'moveWS': forward,\n",
    "            'moveAD': turn\n",
    "        }\n",
    "\n",
    "        combined_command_cache.append(cmd)   # 두 좌표에 대한 명령값 2개가 여기 리스트에 저장됨\n",
    "\n",
    "    # 처음 1회 A* 경로 계산_ 기홍님이 새로 추가\n",
    "    if len(position_history) == 0:\n",
    "        path = a_star((int(pos_x), int(pos_z)), destination)  # 현 위치에서 최종 목적지까지 다시 계산\n",
    "        df = pd.DataFrame(path, columns=[\"x\", \"z\"])\n",
    "        df.to_csv(\"a_star_path.csv\", index=False)\n",
    "\n",
    "    \n",
    "    if current_grid:\n",
    "        last_position = current_grid\n",
    "    position_history.append(current_grid)\n",
    "    \n",
    "    df = pd.DataFrame(position_history, columns=[\"x\", \"z\"])\n",
    "    df.to_csv(\"tank_path0.csv\", index=False)\n",
    "\n",
    "\n",
    "    # print문 살짝 수정-희연\n",
    "    print(f\"📍 현재 pos=({pos_x:.1f},{pos_z:.1f}) yaw={current_yaw:.1f} 두번째 좌표로 가는 앵글 ={target_angle:.1f} 차이 ={diff:.1f}\")\n",
    "    print(f\"🚀 cmd 2개 {combined_command_cache}\")\n",
    "    return jsonify(combined_command_cache.pop(0))\n",
    "\n",
    "\n",
    "\n",
    "@app.route('/set_destination', methods=['POST'])\n",
    "def set_destination():\n",
    "    global destination\n",
    "    data = request.get_json()\n",
    "    if not data or 'destination' not in data:\n",
    "        return jsonify({'status': 'ERROR', 'message': 'Missing destination'}), 400\n",
    "    try:\n",
    "        x, y, z = map(float, data['destination'].split(','))\n",
    "        destination = (int(x), int(z))\n",
    "        print(f\"🎯 destination set to: {destination}\")\n",
    "        return jsonify({'status': 'OK', 'destination': {'x': x, 'y': y, 'z': z}})\n",
    "    except Exception as e:\n",
    "        return jsonify({'status': 'ERROR', 'message': str(e)}), 400\n",
    "\n",
    "@app.route('/start', methods=['GET'])\n",
    "def start():\n",
    "    print('start')\n",
    "    return jsonify({'control': ''})\n",
    "\n",
    "@app.route('/collision', methods=['POST'])\n",
    "def collision():\n",
    "    d = request.get_json(force=True)\n",
    "    obj = d.get('objectName')\n",
    "    p = d.get('position', {})\n",
    "    print(f\"Collision {obj} at ({p.get('x')},{p.get('y')},{p.get('z')})\")\n",
    "    return jsonify({'status': 'success', 'message': 'Collision received'})\n",
    "\n",
    "\n",
    "original_obstacles = []  # 원본 장애물 좌표 저장용 (버퍼 없이)\n",
    "\n",
    "@app.route('/update_obstacle', methods=['POST'])\n",
    "def update_obstacle():\n",
    "    global maze, original_obstacles\n",
    "    data = request.get_json(force=True)\n",
    "\n",
    "    obstacles = data.get(\"obstacles\", [])\n",
    "    print(f\"🪨 장애물 업데이트 요청: {len(obstacles)}개\")\n",
    "\n",
    "    for obs in obstacles:\n",
    "        try:\n",
    "            # 원본 좌표 저장 (시각화용)\n",
    "            original_obstacles.append({\n",
    "                \"x_min\": int(obs[\"x_min\"]),\n",
    "                \"x_max\": int(obs[\"x_max\"]),\n",
    "                \"z_min\": int(obs[\"z_min\"]),\n",
    "                \"z_max\": int(obs[\"z_max\"]),\n",
    "            })\n",
    "\n",
    "            # A* 계산용 좌표는 buffer 포함\n",
    "            buffer = 7\n",
    "            x_min = max(0, int(obs[\"x_min\"]) - buffer)\n",
    "            x_max = min(GRID_SIZE - 1, int(obs[\"x_max\"]) + buffer)\n",
    "            z_min = max(0, int(obs[\"z_min\"]) - buffer)\n",
    "            z_max = min(GRID_SIZE - 1, int(obs[\"z_max\"]) + buffer)\n",
    "\n",
    "            for x in range(x_min, x_max + 1):\n",
    "                for z in range(z_min, z_max + 1):\n",
    "                    maze[z][x] = 1\n",
    "\n",
    "        except KeyError as e:\n",
    "            print(f\"❌ 누락된 키: {e}\")\n",
    "\n",
    "    # 장애물 저장 (옵션)\n",
    "    np.save(\"maze.npy\", np.array(maze))\n",
    "    np.savetxt(\"maze.csv\", np.array(maze), fmt=\"%d\", delimiter=\",\")\n",
    "\n",
    "    # ✅ 원본 장애물 저장\n",
    "    try:\n",
    "        json_path = os.path.join(os.path.dirname(__file__), \"original_obstacles.json\")\n",
    "        with open(json_path, \"w\") as f:\n",
    "            json.dump(original_obstacles, f, indent=2)\n",
    "        print(\"✅ original_obstacles.json 저장 완료!\")\n",
    "    except Exception as e:\n",
    "        print(f\"❌ JSON 저장 실패: {e}\")\n",
    "\n",
    "    return jsonify({\"status\": \"OK\", \"count\": len(obstacles)})\n",
    "\n",
    "\n",
    "\n",
    "@app.route('/info', methods=['POST'])\n",
    "def info():\n",
    "    data = request.get_json(force=True)\n",
    "    if not data:\n",
    "        return jsonify({\"error\": \"No JSON received\"}), 400\n",
    "\n",
    "    # 전체 구조 출력 (디버그용)\n",
    "    # print(\"📨 /info data received:\", data)\n",
    "\n",
    "    # playerBodyX에서 각도 추출\n",
    "    global current_angle\n",
    "    current_angle = float(data.get(\"playerBodyX\", current_angle))\n",
    "\n",
    "    return jsonify({\"status\": \"success\"})\n",
    "\n",
    "# 서버 실행\n",
    "if __name__ == '__main__':\n",
    "    app.run(host='0.0.0.0', port=5000)\n",
    "\n"
   ]
  },
  {
   "cell_type": "code",
   "execution_count": 16,
   "id": "627e8f6b-d201-426d-a8aa-306e7936002a",
   "metadata": {},
   "outputs": [
    {
     "data": {
      "image/png": "[encoded data removed]",
      "text/plain": [
       "<Figure size 800x800 with 1 Axes>"
      ]
     },
     "metadata": {},
     "output_type": "display_data"
    }
   ],
   "source": [
    "import numpy as np\n",
    "import pandas as pd\n",
    "import matplotlib.pyplot as plt\n",
    "import requests\n",
    "\n",
    "# 데이터 불러오기\n",
    "df = pd.read_csv(\"tank_path0.csv\")\n",
    "maze = np.load(\"maze.npy\")  # 저장된 장애물 정보\n",
    "x_path = df[\"x\"]\n",
    "z_path = df[\"z\"]\n",
    "\n",
    "# 시작/도착 지점\n",
    "start_x, start_z = 50, 50\n",
    "destination_x, destination_z = 150, 275\n",
    "\n",
    "plt.figure(figsize=(8, 8))\n",
    "\n",
    "# 장애물 시각화\n",
    "obstacle_coords = np.argwhere(maze == 1)\n",
    "if len(obstacle_coords) > 0:\n",
    "    obs_x = obstacle_coords[:, 0]\n",
    "    obs_z = obstacle_coords[:, 1]\n",
    "    plt.scatter(obs_x, obs_z, color='black', s=10, label=\"Obstacle\")\n",
    "\n",
    "# 이동 경로\n",
    "plt.plot(x_path, z_path, marker='o', color='blue', linewidth=2, label=\"Path\")\n",
    "\n",
    "# 시작점/도착점\n",
    "plt.scatter(start_x, start_z, color='green', s=100, label=\"Start\", marker='s')\n",
    "plt.scatter(destination_x, destination_z, color='red', s=100, label=\"Destination\", marker='*')\n",
    "\n",
    "# 마무리\n",
    "plt.title(\"Tank Movement Path with Obstacles\")\n",
    "plt.xlabel(\"X Position\")\n",
    "plt.ylabel(\"Z Position\")\n",
    "plt.grid(True)\n",
    "plt.axis(\"equal\")\n",
    "plt.legend()\n",
    "plt.tight_layout()\n",
    "plt.savefig(\"tank_path_with_obstacles.png\")\n",
    "plt.show()\n",
    "\n",
    "\n",
    "# 이동 경로 그림 그릴 때 필요함.\n",
    "current_position = None\n",
    "last_position = None\n",
    "position_history = []\n",
    "\n",
    "# /get action 안에 넣을 것\n",
    "\n",
    "#     if current_grid:\n",
    "#         last_position = current_grid\n",
    "#     position_history.append(current_grid)\n",
    "    \n",
    "#     df = pd.DataFrame(position_history, columns=[\"x\", \"z\"])\n",
    "#     df.to_csv(\"tank_path0.csv\", index=False)"
   ]
  },
  {
   "cell_type": "markdown",
   "id": "f1d8a22c-2d04-4c7d-8fff-6b721ca882d3",
   "metadata": {},
   "source": [
    "---\n",
    "# 멈추고 가는거 추가"
   ]
  },
  {
   "cell_type": "code",
   "execution_count": 19,
   "id": "95e689c5-7583-4f9f-9ca1-0a7f38f41c10",
   "metadata": {},
   "outputs": [
    {
     "name": "stdout",
     "output_type": "stream",
     "text": [
      "🕜️ 초기 destination 설정: (150, 275)\n",
      " * Serving Flask app '__main__'\n",
      " * Debug mode: off\n"
     ]
    },
    {
     "name": "stderr",
     "output_type": "stream",
     "text": [
      "\u001b[31m\u001b[1mWARNING: This is a development server. Do not use it in a production deployment. Use a production WSGI server instead.\u001b[0m\n",
      " * Running on all addresses (0.0.0.0)\n",
      " * Running on http://127.0.0.1:5000\n",
      " * Running on http://172.26.45.58:5000\n",
      "\u001b[33mPress CTRL+C to quit\u001b[0m\n",
      "127.0.0.1 - - [02/Jun/2025 12:57:30] \"GET /init HTTP/1.1\" 200 -\n",
      "127.0.0.1 - - [02/Jun/2025 12:57:30] \"POST /update_obstacle HTTP/1.1\" 200 -\n",
      "127.0.0.1 - - [02/Jun/2025 12:57:30] \"POST /update_obstacle HTTP/1.1\" 200 -\n"
     ]
    },
    {
     "name": "stdout",
     "output_type": "stream",
     "text": [
      "🪨 장애물 업데이트 요청: 0개\n",
      "🪨 장애물 업데이트 요청: 0개\n",
      "🛠️ /init config: {'startMode': 'start', 'blStartX': 50, 'blStartY': 10, 'blStartZ': 50, 'rdStartX': 150, 'rdStartY': 10, 'rdStartZ': 275, 'trackingMode': False, 'detectMode': False, 'logMode': False, 'enemyTracking': False, 'saveSnapshot': False, 'saveLog': False, 'saveLidarData': False, 'lux': 30000}\n",
      "❌ JSON 저장 실패: name '__file__' is not defined\n",
      "❌ JSON 저장 실패: name '__file__' is not defined\n"
     ]
    },
    {
     "name": "stderr",
     "output_type": "stream",
     "text": [
      "127.0.0.1 - - [02/Jun/2025 12:57:34] \"POST /get_action HTTP/1.1\" 200 -\n"
     ]
    },
    {
     "name": "stdout",
     "output_type": "stream",
     "text": [
      "멈추고 갈게요!\n",
      "멈추고 갈게요!\n",
      "📍 현재 pos=(50.0,50.0) yaw=90.0 두번째 좌표로 가는 앵글 =45.0 차이 =-45.0\n",
      "🚀 cmd 2개 이상 [{'moveAD': {'command': 'D', 'weight': 0.6}, 'moveWS': {'command': 'W', 'weight': 0.5}}, {'moveWS': {'command': 'STOP', 'weight': 1.0}, 'moveAD': {'command': '', 'weight': 0.0}}, {'moveAD': {'command': 'D', 'weight': 0.6}, 'moveWS': {'command': 'W', 'weight': 0.5}}, {'moveWS': {'command': 'STOP', 'weight': 1.0}, 'moveAD': {'command': '', 'weight': 0.0}}]\n"
     ]
    },
    {
     "name": "stderr",
     "output_type": "stream",
     "text": [
      "127.0.0.1 - - [02/Jun/2025 12:57:34] \"POST /get_action HTTP/1.1\" 200 -\n",
      "127.0.0.1 - - [02/Jun/2025 12:57:35] \"POST /get_action HTTP/1.1\" 200 -\n",
      "127.0.0.1 - - [02/Jun/2025 12:57:35] \"POST /get_action HTTP/1.1\" 200 -\n",
      "127.0.0.1 - - [02/Jun/2025 12:57:36] \"POST /get_action HTTP/1.1\" 200 -\n"
     ]
    },
    {
     "name": "stdout",
     "output_type": "stream",
     "text": [
      "📍 현재 pos=(50.1,50.4) yaw=63.4 두번째 좌표로 가는 앵글 =45.0 차이 =-18.4\n",
      "🚀 cmd 2개 이상 [{'moveAD': {'command': 'D', 'weight': 0.3}, 'moveWS': {'command': 'W', 'weight': 0.5}}, {'moveAD': {'command': 'D', 'weight': 0.3}, 'moveWS': {'command': 'W', 'weight': 0.5}}]\n"
     ]
    },
    {
     "name": "stderr",
     "output_type": "stream",
     "text": [
      "127.0.0.1 - - [02/Jun/2025 12:57:36] \"POST /get_action HTTP/1.1\" 200 -\n",
      "127.0.0.1 - - [02/Jun/2025 12:57:37] \"POST /get_action HTTP/1.1\" 200 -\n"
     ]
    },
    {
     "name": "stdout",
     "output_type": "stream",
     "text": [
      "📍 현재 pos=(50.5,50.9) yaw=55.4 두번째 좌표로 가는 앵글 =45.0 차이 =-10.4\n",
      "🚀 cmd 2개 이상 [{'moveAD': {'command': 'D', 'weight': 0.3}, 'moveWS': {'command': 'W', 'weight': 0.5}}, {'moveAD': {'command': 'D', 'weight': 0.3}, 'moveWS': {'command': 'W', 'weight': 0.5}}]\n"
     ]
    },
    {
     "name": "stderr",
     "output_type": "stream",
     "text": [
      "127.0.0.1 - - [02/Jun/2025 12:57:38] \"POST /get_action HTTP/1.1\" 200 -\n",
      "127.0.0.1 - - [02/Jun/2025 12:57:38] \"POST /get_action HTTP/1.1\" 200 -\n"
     ]
    },
    {
     "name": "stdout",
     "output_type": "stream",
     "text": [
      "📍 현재 pos=(51.9,52.4) yaw=42.3 두번째 좌표로 가는 앵글 =45.0 차이 =2.7\n",
      "🚀 cmd 2개 이상 [{'moveAD': {'command': 'A', 'weight': 0.3}, 'moveWS': {'command': 'W', 'weight': 0.5}}, {'moveAD': {'command': 'A', 'weight': 0.3}, 'moveWS': {'command': 'W', 'weight': 0.5}}]\n"
     ]
    },
    {
     "name": "stderr",
     "output_type": "stream",
     "text": [
      "127.0.0.1 - - [02/Jun/2025 12:57:39] \"POST /get_action HTTP/1.1\" 200 -\n",
      "127.0.0.1 - - [02/Jun/2025 12:57:39] \"POST /get_action HTTP/1.1\" 200 -\n"
     ]
    },
    {
     "name": "stdout",
     "output_type": "stream",
     "text": [
      "📍 현재 pos=(54.3,54.8) yaw=48.0 두번째 좌표로 가는 앵글 =45.0 차이 =-3.0\n",
      "🚀 cmd 2개 이상 [{'moveAD': {'command': 'D', 'weight': 0.3}, 'moveWS': {'command': 'W', 'weight': 0.5}}, {'moveAD': {'command': 'D', 'weight': 0.3}, 'moveWS': {'command': 'W', 'weight': 0.5}}]\n"
     ]
    },
    {
     "name": "stderr",
     "output_type": "stream",
     "text": [
      "127.0.0.1 - - [02/Jun/2025 12:57:40] \"POST /get_action HTTP/1.1\" 200 -\n",
      "127.0.0.1 - - [02/Jun/2025 12:57:40] \"POST /get_action HTTP/1.1\" 200 -\n"
     ]
    },
    {
     "name": "stdout",
     "output_type": "stream",
     "text": [
      "📍 현재 pos=(57.8,58.4) yaw=43.0 두번째 좌표로 가는 앵글 =45.0 차이 =2.0\n",
      "🚀 cmd 2개 이상 [{'moveAD': {'command': 'A', 'weight': 0.3}, 'moveWS': {'command': 'W', 'weight': 0.5}}, {'moveAD': {'command': 'A', 'weight': 0.3}, 'moveWS': {'command': 'W', 'weight': 0.5}}]\n"
     ]
    },
    {
     "name": "stderr",
     "output_type": "stream",
     "text": [
      "127.0.0.1 - - [02/Jun/2025 12:57:41] \"POST /get_action HTTP/1.1\" 200 -\n",
      "127.0.0.1 - - [02/Jun/2025 12:57:41] \"POST /get_action HTTP/1.1\" 200 -\n"
     ]
    },
    {
     "name": "stdout",
     "output_type": "stream",
     "text": [
      "📍 현재 pos=(62.2,62.8) yaw=48.3 두번째 좌표로 가는 앵글 =45.0 차이 =-3.3\n",
      "🚀 cmd 2개 이상 [{'moveAD': {'command': 'D', 'weight': 0.3}, 'moveWS': {'command': 'W', 'weight': 0.5}}, {'moveAD': {'command': 'D', 'weight': 0.3}, 'moveWS': {'command': 'W', 'weight': 0.5}}]\n"
     ]
    },
    {
     "name": "stderr",
     "output_type": "stream",
     "text": [
      "127.0.0.1 - - [02/Jun/2025 12:57:42] \"POST /get_action HTTP/1.1\" 200 -\n",
      "127.0.0.1 - - [02/Jun/2025 12:57:42] \"POST /get_action HTTP/1.1\" 200 -\n"
     ]
    },
    {
     "name": "stdout",
     "output_type": "stream",
     "text": [
      "📍 현재 pos=(67.5,68.3) yaw=43.1 두번째 좌표로 가는 앵글 =45.0 차이 =1.9\n",
      "🚀 cmd 2개 이상 [{'moveAD': {'command': 'A', 'weight': 0.3}, 'moveWS': {'command': 'W', 'weight': 0.5}}, {'moveAD': {'command': 'A', 'weight': 0.3}, 'moveWS': {'command': 'W', 'weight': 0.5}}]\n"
     ]
    },
    {
     "name": "stderr",
     "output_type": "stream",
     "text": [
      "127.0.0.1 - - [02/Jun/2025 12:57:43] \"POST /get_action HTTP/1.1\" 200 -\n",
      "127.0.0.1 - - [02/Jun/2025 12:57:43] \"POST /get_action HTTP/1.1\" 200 -\n"
     ]
    },
    {
     "name": "stdout",
     "output_type": "stream",
     "text": [
      "📍 현재 pos=(73.8,74.7) yaw=48.3 두번째 좌표로 가는 앵글 =45.0 차이 =-3.3\n",
      "🚀 cmd 2개 이상 [{'moveAD': {'command': 'D', 'weight': 0.3}, 'moveWS': {'command': 'W', 'weight': 0.5}}, {'moveAD': {'command': 'D', 'weight': 0.3}, 'moveWS': {'command': 'W', 'weight': 0.5}}]\n"
     ]
    },
    {
     "name": "stderr",
     "output_type": "stream",
     "text": [
      "127.0.0.1 - - [02/Jun/2025 12:57:44] \"POST /get_action HTTP/1.1\" 200 -\n",
      "127.0.0.1 - - [02/Jun/2025 12:57:44] \"POST /get_action HTTP/1.1\" 200 -\n"
     ]
    },
    {
     "name": "stdout",
     "output_type": "stream",
     "text": [
      "📍 현재 pos=(80.9,82.0) yaw=43.0 두번째 좌표로 가는 앵글 =45.0 차이 =2.0\n",
      "🚀 cmd 2개 이상 [{'moveAD': {'command': 'A', 'weight': 0.3}, 'moveWS': {'command': 'W', 'weight': 0.5}}, {'moveAD': {'command': 'A', 'weight': 0.3}, 'moveWS': {'command': 'W', 'weight': 0.5}}]\n"
     ]
    },
    {
     "name": "stderr",
     "output_type": "stream",
     "text": [
      "127.0.0.1 - - [02/Jun/2025 12:57:45] \"POST /get_action HTTP/1.1\" 200 -\n",
      "127.0.0.1 - - [02/Jun/2025 12:57:46] \"POST /get_action HTTP/1.1\" 200 -\n"
     ]
    },
    {
     "name": "stdout",
     "output_type": "stream",
     "text": [
      "📍 현재 pos=(88.2,89.3) yaw=48.2 두번째 좌표로 가는 앵글 =45.0 차이 =-3.2\n",
      "🚀 cmd 2개 이상 [{'moveAD': {'command': 'D', 'weight': 0.3}, 'moveWS': {'command': 'W', 'weight': 0.5}}, {'moveAD': {'command': 'D', 'weight': 0.3}, 'moveWS': {'command': 'W', 'weight': 0.5}}]\n"
     ]
    },
    {
     "name": "stderr",
     "output_type": "stream",
     "text": [
      "127.0.0.1 - - [02/Jun/2025 12:57:46] \"POST /get_action HTTP/1.1\" 200 -\n",
      "127.0.0.1 - - [02/Jun/2025 12:57:47] \"POST /get_action HTTP/1.1\" 200 -\n"
     ]
    },
    {
     "name": "stdout",
     "output_type": "stream",
     "text": [
      "📍 현재 pos=(95.4,96.8) yaw=43.0 두번째 좌표로 가는 앵글 =45.0 차이 =2.0\n",
      "🚀 cmd 2개 이상 [{'moveAD': {'command': 'A', 'weight': 0.3}, 'moveWS': {'command': 'W', 'weight': 0.5}}, {'moveAD': {'command': 'A', 'weight': 0.3}, 'moveWS': {'command': 'W', 'weight': 0.5}}]\n"
     ]
    },
    {
     "name": "stderr",
     "output_type": "stream",
     "text": [
      "127.0.0.1 - - [02/Jun/2025 12:57:47] \"POST /get_action HTTP/1.1\" 200 -\n",
      "127.0.0.1 - - [02/Jun/2025 12:57:48] \"POST /get_action HTTP/1.1\" 200 -\n"
     ]
    },
    {
     "name": "stdout",
     "output_type": "stream",
     "text": [
      "📍 현재 pos=(102.7,104.1) yaw=48.2 두번째 좌표로 가는 앵글 =45.0 차이 =-3.2\n",
      "🚀 cmd 2개 이상 [{'moveAD': {'command': 'D', 'weight': 0.3}, 'moveWS': {'command': 'W', 'weight': 0.5}}, {'moveAD': {'command': 'D', 'weight': 0.3}, 'moveWS': {'command': 'W', 'weight': 0.5}}]\n"
     ]
    },
    {
     "name": "stderr",
     "output_type": "stream",
     "text": [
      "127.0.0.1 - - [02/Jun/2025 12:57:48] \"POST /get_action HTTP/1.1\" 200 -\n",
      "127.0.0.1 - - [02/Jun/2025 12:57:49] \"POST /get_action HTTP/1.1\" 200 -\n"
     ]
    },
    {
     "name": "stdout",
     "output_type": "stream",
     "text": [
      "📍 현재 pos=(109.9,111.6) yaw=43.0 두번째 좌표로 가는 앵글 =45.0 차이 =2.0\n",
      "🚀 cmd 2개 이상 [{'moveAD': {'command': 'A', 'weight': 0.3}, 'moveWS': {'command': 'W', 'weight': 0.5}}, {'moveAD': {'command': 'A', 'weight': 0.3}, 'moveWS': {'command': 'W', 'weight': 0.5}}]\n"
     ]
    },
    {
     "name": "stderr",
     "output_type": "stream",
     "text": [
      "127.0.0.1 - - [02/Jun/2025 12:57:49] \"POST /get_action HTTP/1.1\" 200 -\n",
      "127.0.0.1 - - [02/Jun/2025 12:57:50] \"POST /get_action HTTP/1.1\" 200 -\n"
     ]
    },
    {
     "name": "stdout",
     "output_type": "stream",
     "text": [
      "📍 현재 pos=(117.2,118.9) yaw=48.1 두번째 좌표로 가는 앵글 =45.0 차이 =-3.1\n",
      "🚀 cmd 2개 이상 [{'moveAD': {'command': 'D', 'weight': 0.3}, 'moveWS': {'command': 'W', 'weight': 0.5}}, {'moveAD': {'command': 'D', 'weight': 0.3}, 'moveWS': {'command': 'W', 'weight': 0.5}}]\n"
     ]
    },
    {
     "name": "stderr",
     "output_type": "stream",
     "text": [
      "127.0.0.1 - - [02/Jun/2025 12:57:50] \"POST /get_action HTTP/1.1\" 200 -\n",
      "127.0.0.1 - - [02/Jun/2025 12:57:51] \"POST /get_action HTTP/1.1\" 200 -\n"
     ]
    },
    {
     "name": "stdout",
     "output_type": "stream",
     "text": [
      "📍 현재 pos=(124.3,126.3) yaw=43.0 두번째 좌표로 가는 앵글 =45.0 차이 =2.0\n",
      "🚀 cmd 2개 이상 [{'moveAD': {'command': 'A', 'weight': 0.3}, 'moveWS': {'command': 'W', 'weight': 0.5}}, {'moveAD': {'command': 'A', 'weight': 0.3}, 'moveWS': {'command': 'W', 'weight': 0.5}}]\n"
     ]
    },
    {
     "name": "stderr",
     "output_type": "stream",
     "text": [
      "127.0.0.1 - - [02/Jun/2025 12:57:51] \"POST /get_action HTTP/1.1\" 200 -\n",
      "127.0.0.1 - - [02/Jun/2025 12:57:52] \"POST /get_action HTTP/1.1\" 200 -\n"
     ]
    },
    {
     "name": "stdout",
     "output_type": "stream",
     "text": [
      "📍 현재 pos=(131.7,133.7) yaw=48.1 두번째 좌표로 가는 앵글 =45.0 차이 =-3.1\n",
      "🚀 cmd 2개 이상 [{'moveAD': {'command': 'D', 'weight': 0.3}, 'moveWS': {'command': 'W', 'weight': 0.5}}, {'moveAD': {'command': 'D', 'weight': 0.3}, 'moveWS': {'command': 'W', 'weight': 0.5}}]\n"
     ]
    },
    {
     "name": "stderr",
     "output_type": "stream",
     "text": [
      "127.0.0.1 - - [02/Jun/2025 12:57:52] \"POST /get_action HTTP/1.1\" 200 -\n",
      "127.0.0.1 - - [02/Jun/2025 12:57:53] \"POST /get_action HTTP/1.1\" 200 -\n"
     ]
    },
    {
     "name": "stdout",
     "output_type": "stream",
     "text": [
      "📍 현재 pos=(138.8,141.1) yaw=43.0 두번째 좌표로 가는 앵글 =45.0 차이 =2.0\n",
      "🚀 cmd 2개 이상 [{'moveAD': {'command': 'A', 'weight': 0.3}, 'moveWS': {'command': 'W', 'weight': 0.5}}, {'moveAD': {'command': 'A', 'weight': 0.3}, 'moveWS': {'command': 'W', 'weight': 0.5}}]\n"
     ]
    },
    {
     "name": "stderr",
     "output_type": "stream",
     "text": [
      "127.0.0.1 - - [02/Jun/2025 12:57:54] \"POST /get_action HTTP/1.1\" 200 -\n",
      "127.0.0.1 - - [02/Jun/2025 12:57:54] \"POST /get_action HTTP/1.1\" 200 -\n"
     ]
    },
    {
     "name": "stdout",
     "output_type": "stream",
     "text": [
      "📍 현재 pos=(146.2,148.4) yaw=48.1 두번째 좌표로 가는 앵글 =45.0 차이 =-3.1\n",
      "🚀 cmd 2개 이상 [{'moveAD': {'command': 'D', 'weight': 0.3}, 'moveWS': {'command': 'W', 'weight': 0.5}}, {'moveAD': {'command': 'D', 'weight': 0.3}, 'moveWS': {'command': 'W', 'weight': 0.5}}]\n"
     ]
    },
    {
     "name": "stderr",
     "output_type": "stream",
     "text": [
      "127.0.0.1 - - [02/Jun/2025 12:57:55] \"POST /get_action HTTP/1.1\" 200 -\n",
      "127.0.0.1 - - [02/Jun/2025 12:57:55] \"POST /get_action HTTP/1.1\" 200 -\n"
     ]
    },
    {
     "name": "stdout",
     "output_type": "stream",
     "text": [
      "멈추고 갈게요!\n",
      "멈추고 갈게요!\n",
      "📍 현재 pos=(153.3,155.9) yaw=43.0 두번째 좌표로 가는 앵글 =135.0 차이 =92.0\n",
      "🚀 cmd 2개 이상 [{'moveAD': {'command': 'A', 'weight': 1.0}, 'moveWS': {'command': 'W', 'weight': 0.5}}, {'moveWS': {'command': 'STOP', 'weight': 1.0}, 'moveAD': {'command': '', 'weight': 0.0}}, {'moveAD': {'command': 'A', 'weight': 1.0}, 'moveWS': {'command': 'W', 'weight': 0.5}}, {'moveWS': {'command': 'STOP', 'weight': 1.0}, 'moveAD': {'command': '', 'weight': 0.0}}]\n"
     ]
    },
    {
     "name": "stderr",
     "output_type": "stream",
     "text": [
      "127.0.0.1 - - [02/Jun/2025 12:57:56] \"POST /get_action HTTP/1.1\" 200 -\n",
      "127.0.0.1 - - [02/Jun/2025 12:57:56] \"POST /get_action HTTP/1.1\" 200 -\n",
      "127.0.0.1 - - [02/Jun/2025 12:57:57] \"POST /get_action HTTP/1.1\" 200 -\n",
      "127.0.0.1 - - [02/Jun/2025 12:57:57] \"POST /get_action HTTP/1.1\" 200 -\n"
     ]
    },
    {
     "name": "stdout",
     "output_type": "stream",
     "text": [
      "멈추고 갈게요!\n",
      "멈추고 갈게요!\n",
      "📍 현재 pos=(157.4,160.9) yaw=90.0 두번째 좌표로 가는 앵글 =135.0 차이 =45.0\n",
      "🚀 cmd 2개 이상 [{'moveAD': {'command': 'A', 'weight': 0.6}, 'moveWS': {'command': 'W', 'weight': 0.5}}, {'moveWS': {'command': 'STOP', 'weight': 1.0}, 'moveAD': {'command': '', 'weight': 0.0}}, {'moveAD': {'command': 'A', 'weight': 0.6}, 'moveWS': {'command': 'W', 'weight': 0.5}}, {'moveWS': {'command': 'STOP', 'weight': 1.0}, 'moveAD': {'command': '', 'weight': 0.0}}]\n"
     ]
    },
    {
     "name": "stderr",
     "output_type": "stream",
     "text": [
      "127.0.0.1 - - [02/Jun/2025 12:57:58] \"POST /get_action HTTP/1.1\" 200 -\n",
      "127.0.0.1 - - [02/Jun/2025 12:57:58] \"POST /get_action HTTP/1.1\" 200 -\n",
      "127.0.0.1 - - [02/Jun/2025 12:57:59] \"POST /get_action HTTP/1.1\" 200 -\n",
      "127.0.0.1 - - [02/Jun/2025 12:57:59] \"POST /get_action HTTP/1.1\" 200 -\n"
     ]
    },
    {
     "name": "stdout",
     "output_type": "stream",
     "text": [
      "📍 현재 pos=(157.3,161.2) yaw=116.6 두번째 좌표로 가는 앵글 =135.0 차이 =18.4\n",
      "🚀 cmd 2개 이상 [{'moveAD': {'command': 'A', 'weight': 0.3}, 'moveWS': {'command': 'W', 'weight': 0.5}}, {'moveAD': {'command': 'A', 'weight': 0.3}, 'moveWS': {'command': 'W', 'weight': 0.5}}]\n"
     ]
    },
    {
     "name": "stderr",
     "output_type": "stream",
     "text": [
      "127.0.0.1 - - [02/Jun/2025 12:58:00] \"POST /get_action HTTP/1.1\" 200 -\n",
      "127.0.0.1 - - [02/Jun/2025 12:58:01] \"POST /get_action HTTP/1.1\" 200 -\n"
     ]
    },
    {
     "name": "stdout",
     "output_type": "stream",
     "text": [
      "📍 현재 pos=(157.1,161.8) yaw=116.6 두번째 좌표로 가는 앵글 =135.0 차이 =18.4\n",
      "🚀 cmd 2개 이상 [{'moveAD': {'command': 'A', 'weight': 0.3}, 'moveWS': {'command': 'W', 'weight': 0.5}}, {'moveAD': {'command': 'A', 'weight': 0.3}, 'moveWS': {'command': 'W', 'weight': 0.5}}]\n"
     ]
    },
    {
     "name": "stderr",
     "output_type": "stream",
     "text": [
      "127.0.0.1 - - [02/Jun/2025 12:58:01] \"POST /get_action HTTP/1.1\" 200 -\n",
      "127.0.0.1 - - [02/Jun/2025 12:58:02] \"POST /get_action HTTP/1.1\" 200 -\n"
     ]
    },
    {
     "name": "stdout",
     "output_type": "stream",
     "text": [
      "📍 현재 pos=(155.8,163.5) yaw=129.3 두번째 좌표로 가는 앵글 =135.0 차이 =5.7\n",
      "🚀 cmd 2개 이상 [{'moveAD': {'command': 'A', 'weight': 0.3}, 'moveWS': {'command': 'W', 'weight': 0.5}}, {'moveAD': {'command': 'A', 'weight': 0.3}, 'moveWS': {'command': 'W', 'weight': 0.5}}]\n"
     ]
    },
    {
     "name": "stderr",
     "output_type": "stream",
     "text": [
      "127.0.0.1 - - [02/Jun/2025 12:58:02] \"POST /get_action HTTP/1.1\" 200 -\n",
      "127.0.0.1 - - [02/Jun/2025 12:58:03] \"POST /get_action HTTP/1.1\" 200 -\n"
     ]
    },
    {
     "name": "stdout",
     "output_type": "stream",
     "text": [
      "📍 현재 pos=(153.2,165.7) yaw=142.1 두번째 좌표로 가는 앵글 =135.0 차이 =-7.1\n",
      "🚀 cmd 2개 이상 [{'moveAD': {'command': 'D', 'weight': 0.3}, 'moveWS': {'command': 'W', 'weight': 0.5}}, {'moveAD': {'command': 'D', 'weight': 0.3}, 'moveWS': {'command': 'W', 'weight': 0.5}}]\n"
     ]
    },
    {
     "name": "stderr",
     "output_type": "stream",
     "text": [
      "127.0.0.1 - - [02/Jun/2025 12:58:03] \"POST /get_action HTTP/1.1\" 200 -\n",
      "127.0.0.1 - - [02/Jun/2025 12:58:04] \"POST /get_action HTTP/1.1\" 200 -\n"
     ]
    },
    {
     "name": "stdout",
     "output_type": "stream",
     "text": [
      "멈추고 갈게요!\n",
      "멈추고 갈게요!\n",
      "📍 현재 pos=(149.6,168.8) yaw=136.9 두번째 좌표로 가는 앵글 =90.0 차이 =-46.9\n",
      "🚀 cmd 2개 이상 [{'moveAD': {'command': 'D', 'weight': 1.0}, 'moveWS': {'command': 'W', 'weight': 0.5}}, {'moveWS': {'command': 'STOP', 'weight': 1.0}, 'moveAD': {'command': '', 'weight': 0.0}}, {'moveAD': {'command': 'D', 'weight': 0.6}, 'moveWS': {'command': 'W', 'weight': 0.5}}, {'moveWS': {'command': 'STOP', 'weight': 1.0}, 'moveAD': {'command': '', 'weight': 0.0}}]\n"
     ]
    },
    {
     "name": "stderr",
     "output_type": "stream",
     "text": [
      "127.0.0.1 - - [02/Jun/2025 12:58:04] \"POST /get_action HTTP/1.1\" 200 -\n",
      "127.0.0.1 - - [02/Jun/2025 12:58:05] \"POST /get_action HTTP/1.1\" 200 -\n",
      "127.0.0.1 - - [02/Jun/2025 12:58:05] \"POST /get_action HTTP/1.1\" 200 -\n",
      "127.0.0.1 - - [02/Jun/2025 12:58:06] \"POST /get_action HTTP/1.1\" 200 -\n"
     ]
    },
    {
     "name": "stdout",
     "output_type": "stream",
     "text": [
      "멈추고 갈게요!\n",
      "멈추고 갈게요!\n",
      "📍 현재 pos=(147.7,171.8) yaw=90.0 두번째 좌표로 가는 앵글 =45.0 차이 =-45.0\n",
      "🚀 cmd 2개 이상 [{'moveAD': {'command': 'D', 'weight': 0.6}, 'moveWS': {'command': 'W', 'weight': 0.5}}, {'moveWS': {'command': 'STOP', 'weight': 1.0}, 'moveAD': {'command': '', 'weight': 0.0}}, {'moveAD': {'command': 'D', 'weight': 0.6}, 'moveWS': {'command': 'W', 'weight': 0.5}}, {'moveWS': {'command': 'STOP', 'weight': 1.0}, 'moveAD': {'command': '', 'weight': 0.0}}]\n"
     ]
    },
    {
     "name": "stderr",
     "output_type": "stream",
     "text": [
      "127.0.0.1 - - [02/Jun/2025 12:58:06] \"POST /get_action HTTP/1.1\" 200 -\n",
      "127.0.0.1 - - [02/Jun/2025 12:58:07] \"POST /get_action HTTP/1.1\" 200 -\n",
      "127.0.0.1 - - [02/Jun/2025 12:58:07] \"POST /get_action HTTP/1.1\" 200 -\n",
      "127.0.0.1 - - [02/Jun/2025 12:58:08] \"POST /get_action HTTP/1.1\" 200 -\n"
     ]
    },
    {
     "name": "stdout",
     "output_type": "stream",
     "text": [
      "📍 현재 pos=(147.8,172.2) yaw=63.4 두번째 좌표로 가는 앵글 =45.0 차이 =-18.4\n",
      "🚀 cmd 2개 이상 [{'moveAD': {'command': 'D', 'weight': 0.3}, 'moveWS': {'command': 'W', 'weight': 0.5}}, {'moveAD': {'command': 'D', 'weight': 0.3}, 'moveWS': {'command': 'W', 'weight': 0.5}}]\n"
     ]
    },
    {
     "name": "stderr",
     "output_type": "stream",
     "text": [
      "127.0.0.1 - - [02/Jun/2025 12:58:09] \"POST /get_action HTTP/1.1\" 200 -\n",
      "127.0.0.1 - - [02/Jun/2025 12:58:09] \"POST /get_action HTTP/1.1\" 200 -\n"
     ]
    },
    {
     "name": "stdout",
     "output_type": "stream",
     "text": [
      "📍 현재 pos=(148.0,172.8) yaw=64.4 두번째 좌표로 가는 앵글 =45.0 차이 =-19.4\n",
      "🚀 cmd 2개 이상 [{'moveAD': {'command': 'D', 'weight': 0.3}, 'moveWS': {'command': 'W', 'weight': 0.5}}, {'moveAD': {'command': 'D', 'weight': 0.3}, 'moveWS': {'command': 'W', 'weight': 0.5}}]\n"
     ]
    },
    {
     "name": "stderr",
     "output_type": "stream",
     "text": [
      "127.0.0.1 - - [02/Jun/2025 12:58:10] \"POST /get_action HTTP/1.1\" 200 -\n",
      "127.0.0.1 - - [02/Jun/2025 12:58:10] \"POST /get_action HTTP/1.1\" 200 -\n"
     ]
    },
    {
     "name": "stdout",
     "output_type": "stream",
     "text": [
      "멈추고 갈게요!\n",
      "📍 현재 pos=(149.2,174.5) yaw=51.1 두번째 좌표로 가는 앵글 =90.0 차이 =38.9\n",
      "🚀 cmd 2개 이상 [{'moveAD': {'command': 'D', 'weight': 0.3}, 'moveWS': {'command': 'W', 'weight': 0.5}}, {'moveAD': {'command': 'A', 'weight': 0.6}, 'moveWS': {'command': 'W', 'weight': 0.5}}, {'moveWS': {'command': 'STOP', 'weight': 1.0}, 'moveAD': {'command': '', 'weight': 0.0}}]\n"
     ]
    },
    {
     "name": "stderr",
     "output_type": "stream",
     "text": [
      "127.0.0.1 - - [02/Jun/2025 12:58:11] \"POST /get_action HTTP/1.1\" 200 -\n",
      "127.0.0.1 - - [02/Jun/2025 12:58:11] \"POST /get_action HTTP/1.1\" 200 -\n",
      "127.0.0.1 - - [02/Jun/2025 12:58:12] \"POST /get_action HTTP/1.1\" 200 -\n"
     ]
    },
    {
     "name": "stdout",
     "output_type": "stream",
     "text": [
      "멈추고 갈게요!\n",
      "멈추고 갈게요!\n",
      "📍 현재 pos=(151.8,177.1) yaw=54.2 두번째 좌표로 가는 앵글 =90.0 차이 =35.8\n",
      "🚀 cmd 2개 이상 [{'moveAD': {'command': 'A', 'weight': 0.75}, 'moveWS': {'command': 'W', 'weight': 0.5}}, {'moveWS': {'command': 'STOP', 'weight': 1.0}, 'moveAD': {'command': '', 'weight': 0.0}}, {'moveAD': {'command': 'A', 'weight': 0.6}, 'moveWS': {'command': 'W', 'weight': 0.5}}, {'moveWS': {'command': 'STOP', 'weight': 1.0}, 'moveAD': {'command': '', 'weight': 0.0}}]\n"
     ]
    },
    {
     "name": "stderr",
     "output_type": "stream",
     "text": [
      "127.0.0.1 - - [02/Jun/2025 12:58:12] \"POST /get_action HTTP/1.1\" 200 -\n",
      "127.0.0.1 - - [02/Jun/2025 12:58:13] \"POST /get_action HTTP/1.1\" 200 -\n",
      "127.0.0.1 - - [02/Jun/2025 12:58:13] \"POST /get_action HTTP/1.1\" 200 -\n",
      "127.0.0.1 - - [02/Jun/2025 12:58:14] \"POST /get_action HTTP/1.1\" 200 -\n"
     ]
    },
    {
     "name": "stdout",
     "output_type": "stream",
     "text": [
      "멈추고 갈게요!\n",
      "📍 현재 pos=(151.9,177.5) yaw=90.0 두번째 좌표로 가는 앵글 =90.0 차이 =0.0\n",
      "🚀 cmd 2개 이상 [{'moveAD': {'command': 'A', 'weight': 0.6}, 'moveWS': {'command': 'W', 'weight': 0.5}}, {'moveWS': {'command': 'STOP', 'weight': 1.0}, 'moveAD': {'command': '', 'weight': 0.0}}, {'moveAD': {'command': 'D', 'weight': 1.0}, 'moveWS': {'command': 'W', 'weight': 0.5}}]\n"
     ]
    },
    {
     "name": "stderr",
     "output_type": "stream",
     "text": [
      "127.0.0.1 - - [02/Jun/2025 12:58:14] \"POST /get_action HTTP/1.1\" 200 -\n",
      "127.0.0.1 - - [02/Jun/2025 12:58:15] \"POST /get_action HTTP/1.1\" 200 -\n",
      "127.0.0.1 - - [02/Jun/2025 12:58:15] \"POST /get_action HTTP/1.1\" 200 -\n"
     ]
    },
    {
     "name": "stdout",
     "output_type": "stream",
     "text": [
      "멈추고 갈게요!\n",
      "📍 현재 pos=(151.9,177.8) yaw=82.9 두번째 좌표로 가는 앵글 =90.0 차이 =7.1\n",
      "🚀 cmd 2개 이상 [{'moveAD': {'command': 'A', 'weight': 0.6}, 'moveWS': {'command': 'W', 'weight': 0.5}}, {'moveWS': {'command': 'STOP', 'weight': 1.0}, 'moveAD': {'command': '', 'weight': 0.0}}, {'moveAD': {'command': 'A', 'weight': 0.3}, 'moveWS': {'command': 'W', 'weight': 0.5}}]\n"
     ]
    },
    {
     "name": "stderr",
     "output_type": "stream",
     "text": [
      "127.0.0.1 - - [02/Jun/2025 12:58:16] \"POST /get_action HTTP/1.1\" 200 -\n",
      "127.0.0.1 - - [02/Jun/2025 12:58:17] \"POST /get_action HTTP/1.1\" 200 -\n",
      "127.0.0.1 - - [02/Jun/2025 12:58:17] \"POST /get_action HTTP/1.1\" 200 -\n"
     ]
    },
    {
     "name": "stdout",
     "output_type": "stream",
     "text": [
      "멈추고 갈게요!\n",
      "📍 현재 pos=(152.0,178.5) yaw=90.0 두번째 좌표로 가는 앵글 =90.0 차이 =0.0\n",
      "🚀 cmd 2개 이상 [{'moveAD': {'command': 'A', 'weight': 0.6}, 'moveWS': {'command': 'W', 'weight': 0.5}}, {'moveWS': {'command': 'STOP', 'weight': 1.0}, 'moveAD': {'command': '', 'weight': 0.0}}, {'moveAD': {'command': 'D', 'weight': 1.0}, 'moveWS': {'command': 'W', 'weight': 0.5}}]\n"
     ]
    },
    {
     "name": "stderr",
     "output_type": "stream",
     "text": [
      "127.0.0.1 - - [02/Jun/2025 12:58:18] \"POST /get_action HTTP/1.1\" 200 -\n",
      "127.0.0.1 - - [02/Jun/2025 12:58:18] \"POST /get_action HTTP/1.1\" 200 -\n",
      "127.0.0.1 - - [02/Jun/2025 12:58:19] \"POST /get_action HTTP/1.1\" 200 -\n"
     ]
    },
    {
     "name": "stdout",
     "output_type": "stream",
     "text": [
      "멈추고 갈게요!\n",
      "📍 현재 pos=(151.9,179.2) yaw=93.6 두번째 좌표로 가는 앵글 =90.0 차이 =-3.6\n",
      "🚀 cmd 2개 이상 [{'moveAD': {'command': 'A', 'weight': 0.6}, 'moveWS': {'command': 'W', 'weight': 0.5}}, {'moveWS': {'command': 'STOP', 'weight': 1.0}, 'moveAD': {'command': '', 'weight': 0.0}}, {'moveAD': {'command': 'D', 'weight': 0.3}, 'moveWS': {'command': 'W', 'weight': 0.5}}]\n"
     ]
    },
    {
     "name": "stderr",
     "output_type": "stream",
     "text": [
      "127.0.0.1 - - [02/Jun/2025 12:58:19] \"POST /get_action HTTP/1.1\" 200 -\n",
      "127.0.0.1 - - [02/Jun/2025 12:58:20] \"POST /get_action HTTP/1.1\" 200 -\n",
      "127.0.0.1 - - [02/Jun/2025 12:58:20] \"POST /get_action HTTP/1.1\" 200 -\n"
     ]
    },
    {
     "name": "stdout",
     "output_type": "stream",
     "text": [
      "멈추고 갈게요!\n",
      "📍 현재 pos=(151.8,179.9) yaw=93.6 두번째 좌표로 가는 앵글 =90.0 차이 =-3.6\n",
      "🚀 cmd 2개 이상 [{'moveAD': {'command': 'A', 'weight': 0.6}, 'moveWS': {'command': 'W', 'weight': 0.5}}, {'moveWS': {'command': 'STOP', 'weight': 1.0}, 'moveAD': {'command': '', 'weight': 0.0}}, {'moveAD': {'command': 'D', 'weight': 0.3}, 'moveWS': {'command': 'W', 'weight': 0.5}}]\n"
     ]
    },
    {
     "name": "stderr",
     "output_type": "stream",
     "text": [
      "127.0.0.1 - - [02/Jun/2025 12:58:21] \"POST /get_action HTTP/1.1\" 200 -\n",
      "127.0.0.1 - - [02/Jun/2025 12:58:21] \"POST /get_action HTTP/1.1\" 200 -\n",
      "127.0.0.1 - - [02/Jun/2025 12:58:22] \"POST /get_action HTTP/1.1\" 200 -\n"
     ]
    },
    {
     "name": "stdout",
     "output_type": "stream",
     "text": [
      "멈추고 갈게요!\n",
      "📍 현재 pos=(151.7,180.6) yaw=100.6 두번째 좌표로 가는 앵글 =90.0 차이 =-10.6\n",
      "🚀 cmd 2개 이상 [{'moveAD': {'command': 'A', 'weight': 0.6}, 'moveWS': {'command': 'W', 'weight': 0.5}}, {'moveWS': {'command': 'STOP', 'weight': 1.0}, 'moveAD': {'command': '', 'weight': 0.0}}, {'moveAD': {'command': 'D', 'weight': 0.3}, 'moveWS': {'command': 'W', 'weight': 0.5}}]\n"
     ]
    },
    {
     "name": "stderr",
     "output_type": "stream",
     "text": [
      "127.0.0.1 - - [02/Jun/2025 12:58:22] \"POST /get_action HTTP/1.1\" 200 -\n",
      "127.0.0.1 - - [02/Jun/2025 12:58:23] \"POST /get_action HTTP/1.1\" 200 -\n",
      "127.0.0.1 - - [02/Jun/2025 12:58:23] \"POST /get_action HTTP/1.1\" 200 -\n"
     ]
    },
    {
     "name": "stdout",
     "output_type": "stream",
     "text": [
      "멈추고 갈게요!\n",
      "📍 현재 pos=(151.6,181.3) yaw=104.9 두번째 좌표로 가는 앵글 =90.0 차이 =-14.9\n",
      "🚀 cmd 2개 이상 [{'moveAD': {'command': 'A', 'weight': 0.6}, 'moveWS': {'command': 'W', 'weight': 0.5}}, {'moveWS': {'command': 'STOP', 'weight': 1.0}, 'moveAD': {'command': '', 'weight': 0.0}}, {'moveAD': {'command': 'D', 'weight': 0.3}, 'moveWS': {'command': 'W', 'weight': 0.5}}]\n"
     ]
    },
    {
     "name": "stderr",
     "output_type": "stream",
     "text": [
      "127.0.0.1 - - [02/Jun/2025 12:58:24] \"POST /get_action HTTP/1.1\" 200 -\n",
      "127.0.0.1 - - [02/Jun/2025 12:58:25] \"POST /get_action HTTP/1.1\" 200 -\n",
      "127.0.0.1 - - [02/Jun/2025 12:58:25] \"POST /get_action HTTP/1.1\" 200 -\n"
     ]
    },
    {
     "name": "stdout",
     "output_type": "stream",
     "text": [
      "📍 현재 pos=(151.3,182.0) yaw=111.8 두번째 좌표로 가는 앵글 =90.0 차이 =-21.8\n",
      "🚀 cmd 2개 이상 [{'moveAD': {'command': 'A', 'weight': 0.3}, 'moveWS': {'command': 'W', 'weight': 0.5}}, {'moveAD': {'command': 'D', 'weight': 0.3}, 'moveWS': {'command': 'W', 'weight': 0.5}}]\n"
     ]
    },
    {
     "name": "stderr",
     "output_type": "stream",
     "text": [
      "127.0.0.1 - - [02/Jun/2025 12:58:26] \"POST /get_action HTTP/1.1\" 200 -\n",
      "127.0.0.1 - - [02/Jun/2025 12:58:26] \"POST /get_action HTTP/1.1\" 200 -\n"
     ]
    },
    {
     "name": "stdout",
     "output_type": "stream",
     "text": [
      "📍 현재 pos=(150.7,183.2) yaw=114.2 두번째 좌표로 가는 앵글 =90.0 차이 =-24.2\n",
      "🚀 cmd 2개 이상 [{'moveAD': {'command': 'D', 'weight': 0.3}, 'moveWS': {'command': 'W', 'weight': 0.5}}, {'moveAD': {'command': 'D', 'weight': 0.3}, 'moveWS': {'command': 'W', 'weight': 0.5}}]\n"
     ]
    },
    {
     "name": "stderr",
     "output_type": "stream",
     "text": [
      "127.0.0.1 - - [02/Jun/2025 12:58:27] \"POST /get_action HTTP/1.1\" 200 -\n",
      "127.0.0.1 - - [02/Jun/2025 12:58:27] \"POST /get_action HTTP/1.1\" 200 -\n"
     ]
    },
    {
     "name": "stdout",
     "output_type": "stream",
     "text": [
      "📍 현재 pos=(150.1,185.9) yaw=101.6 두번째 좌표로 가는 앵글 =90.0 차이 =-11.6\n",
      "🚀 cmd 2개 이상 [{'moveAD': {'command': 'D', 'weight': 0.3}, 'moveWS': {'command': 'W', 'weight': 0.5}}, {'moveAD': {'command': 'D', 'weight': 0.3}, 'moveWS': {'command': 'W', 'weight': 0.5}}]\n"
     ]
    },
    {
     "name": "stderr",
     "output_type": "stream",
     "text": [
      "127.0.0.1 - - [02/Jun/2025 12:58:28] \"POST /get_action HTTP/1.1\" 200 -\n",
      "127.0.0.1 - - [02/Jun/2025 12:58:28] \"POST /get_action HTTP/1.1\" 200 -\n"
     ]
    },
    {
     "name": "stdout",
     "output_type": "stream",
     "text": [
      "멈추고 갈게요!\n",
      "📍 현재 pos=(149.9,190.0) yaw=88.7 두번째 좌표로 가는 앵글 =90.0 차이 =1.3\n",
      "🚀 cmd 2개 이상 [{'moveAD': {'command': 'D', 'weight': 0.6}, 'moveWS': {'command': 'W', 'weight': 0.5}}, {'moveWS': {'command': 'STOP', 'weight': 1.0}, 'moveAD': {'command': '', 'weight': 0.0}}, {'moveAD': {'command': 'A', 'weight': 0.3}, 'moveWS': {'command': 'W', 'weight': 0.5}}]\n"
     ]
    },
    {
     "name": "stderr",
     "output_type": "stream",
     "text": [
      "127.0.0.1 - - [02/Jun/2025 12:58:29] \"POST /get_action HTTP/1.1\" 200 -\n",
      "127.0.0.1 - - [02/Jun/2025 12:58:29] \"POST /get_action HTTP/1.1\" 200 -\n",
      "127.0.0.1 - - [02/Jun/2025 12:58:30] \"POST /get_action HTTP/1.1\" 200 -\n"
     ]
    },
    {
     "name": "stdout",
     "output_type": "stream",
     "text": [
      "📍 현재 pos=(150.6,193.0) yaw=76.0 두번째 좌표로 가는 앵글 =90.0 차이 =14.0\n",
      "🚀 cmd 2개 이상 [{'moveAD': {'command': 'A', 'weight': 0.3}, 'moveWS': {'command': 'W', 'weight': 0.5}}, {'moveAD': {'command': 'A', 'weight': 0.3}, 'moveWS': {'command': 'W', 'weight': 0.5}}]\n"
     ]
    },
    {
     "name": "stderr",
     "output_type": "stream",
     "text": [
      "127.0.0.1 - - [02/Jun/2025 12:58:30] \"POST /get_action HTTP/1.1\" 200 -\n",
      "127.0.0.1 - - [02/Jun/2025 12:58:31] \"POST /get_action HTTP/1.1\" 200 -\n"
     ]
    },
    {
     "name": "stdout",
     "output_type": "stream",
     "text": [
      "📍 현재 pos=(150.7,194.4) yaw=88.0 두번째 좌표로 가는 앵글 =90.0 차이 =2.0\n",
      "🚀 cmd 2개 이상 [{'moveAD': {'command': 'A', 'weight': 0.3}, 'moveWS': {'command': 'W', 'weight': 0.5}}, {'moveAD': {'command': 'A', 'weight': 0.3}, 'moveWS': {'command': 'W', 'weight': 0.5}}]\n"
     ]
    },
    {
     "name": "stderr",
     "output_type": "stream",
     "text": [
      "127.0.0.1 - - [02/Jun/2025 12:58:31] \"POST /get_action HTTP/1.1\" 200 -\n",
      "127.0.0.1 - - [02/Jun/2025 12:58:32] \"POST /get_action HTTP/1.1\" 200 -\n"
     ]
    },
    {
     "name": "stdout",
     "output_type": "stream",
     "text": [
      "📍 현재 pos=(150.3,197.1) yaw=100.4 두번째 좌표로 가는 앵글 =90.0 차이 =-10.4\n",
      "🚀 cmd 2개 이상 [{'moveAD': {'command': 'D', 'weight': 0.3}, 'moveWS': {'command': 'W', 'weight': 0.5}}, {'moveAD': {'command': 'D', 'weight': 0.3}, 'moveWS': {'command': 'W', 'weight': 0.5}}]\n"
     ]
    },
    {
     "name": "stderr",
     "output_type": "stream",
     "text": [
      "127.0.0.1 - - [02/Jun/2025 12:58:33] \"POST /get_action HTTP/1.1\" 200 -\n",
      "127.0.0.1 - - [02/Jun/2025 12:58:33] \"POST /get_action HTTP/1.1\" 200 -\n"
     ]
    },
    {
     "name": "stdout",
     "output_type": "stream",
     "text": [
      "멈추고 갈게요!\n",
      "📍 현재 pos=(149.7,201.2) yaw=95.1 두번째 좌표로 가는 앵글 =90.0 차이 =-5.1\n",
      "🚀 cmd 2개 이상 [{'moveAD': {'command': 'D', 'weight': 0.6}, 'moveWS': {'command': 'W', 'weight': 0.5}}, {'moveWS': {'command': 'STOP', 'weight': 1.0}, 'moveAD': {'command': '', 'weight': 0.0}}, {'moveAD': {'command': 'D', 'weight': 0.3}, 'moveWS': {'command': 'W', 'weight': 0.5}}]\n"
     ]
    },
    {
     "name": "stderr",
     "output_type": "stream",
     "text": [
      "127.0.0.1 - - [02/Jun/2025 12:58:34] \"POST /get_action HTTP/1.1\" 200 -\n",
      "127.0.0.1 - - [02/Jun/2025 12:58:34] \"POST /get_action HTTP/1.1\" 200 -\n",
      "127.0.0.1 - - [02/Jun/2025 12:58:35] \"POST /get_action HTTP/1.1\" 200 -\n"
     ]
    },
    {
     "name": "stdout",
     "output_type": "stream",
     "text": [
      "멈추고 갈게요!\n",
      "📍 현재 pos=(150.0,204.3) yaw=76.0 두번째 좌표로 가는 앵글 =90.0 차이 =14.0\n",
      "🚀 cmd 2개 이상 [{'moveAD': {'command': 'D', 'weight': 0.6}, 'moveWS': {'command': 'W', 'weight': 0.5}}, {'moveWS': {'command': 'STOP', 'weight': 1.0}, 'moveAD': {'command': '', 'weight': 0.0}}, {'moveAD': {'command': 'A', 'weight': 0.3}, 'moveWS': {'command': 'W', 'weight': 0.5}}]\n"
     ]
    },
    {
     "name": "stderr",
     "output_type": "stream",
     "text": [
      "127.0.0.1 - - [02/Jun/2025 12:58:35] \"POST /get_action HTTP/1.1\" 200 -\n",
      "127.0.0.1 - - [02/Jun/2025 12:58:36] \"POST /get_action HTTP/1.1\" 200 -\n",
      "127.0.0.1 - - [02/Jun/2025 12:58:36] \"POST /get_action HTTP/1.1\" 200 -\n"
     ]
    },
    {
     "name": "stdout",
     "output_type": "stream",
     "text": [
      "📍 현재 pos=(150.3,205.0) yaw=63.4 두번째 좌표로 가는 앵글 =90.0 차이 =26.6\n",
      "🚀 cmd 2개 이상 [{'moveAD': {'command': 'A', 'weight': 0.3}, 'moveWS': {'command': 'W', 'weight': 0.5}}, {'moveAD': {'command': 'A', 'weight': 0.3}, 'moveWS': {'command': 'W', 'weight': 0.5}}]\n"
     ]
    },
    {
     "name": "stderr",
     "output_type": "stream",
     "text": [
      "127.0.0.1 - - [02/Jun/2025 12:58:37] \"POST /get_action HTTP/1.1\" 200 -\n",
      "127.0.0.1 - - [02/Jun/2025 12:58:37] \"POST /get_action HTTP/1.1\" 200 -\n"
     ]
    },
    {
     "name": "stdout",
     "output_type": "stream",
     "text": [
      "📍 현재 pos=(150.8,206.3) yaw=74.3 두번째 좌표로 가는 앵글 =90.0 차이 =15.7\n",
      "🚀 cmd 2개 이상 [{'moveAD': {'command': 'A', 'weight': 0.3}, 'moveWS': {'command': 'W', 'weight': 0.5}}, {'moveAD': {'command': 'A', 'weight': 0.3}, 'moveWS': {'command': 'W', 'weight': 0.5}}]\n"
     ]
    },
    {
     "name": "stderr",
     "output_type": "stream",
     "text": [
      "127.0.0.1 - - [02/Jun/2025 12:58:38] \"POST /get_action HTTP/1.1\" 200 -\n",
      "127.0.0.1 - - [02/Jun/2025 12:58:38] \"POST /get_action HTTP/1.1\" 200 -\n"
     ]
    },
    {
     "name": "stdout",
     "output_type": "stream",
     "text": [
      "멈추고 갈게요!\n",
      "📍 현재 pos=(151.0,209.0) yaw=87.0 두번째 좌표로 가는 앵글 =90.0 차이 =3.0\n",
      "🚀 cmd 2개 이상 [{'moveAD': {'command': 'A', 'weight': 0.6}, 'moveWS': {'command': 'W', 'weight': 0.5}}, {'moveWS': {'command': 'STOP', 'weight': 1.0}, 'moveAD': {'command': '', 'weight': 0.0}}, {'moveAD': {'command': 'A', 'weight': 0.3}, 'moveWS': {'command': 'W', 'weight': 0.5}}]\n"
     ]
    },
    {
     "name": "stderr",
     "output_type": "stream",
     "text": [
      "127.0.0.1 - - [02/Jun/2025 12:58:39] \"POST /get_action HTTP/1.1\" 200 -\n",
      "127.0.0.1 - - [02/Jun/2025 12:58:40] \"POST /get_action HTTP/1.1\" 200 -\n",
      "127.0.0.1 - - [02/Jun/2025 12:58:40] \"POST /get_action HTTP/1.1\" 200 -\n"
     ]
    },
    {
     "name": "stdout",
     "output_type": "stream",
     "text": [
      "📍 현재 pos=(150.7,211.2) yaw=107.4 두번째 좌표로 가는 앵글 =90.0 차이 =-17.4\n",
      "🚀 cmd 2개 이상 [{'moveAD': {'command': 'D', 'weight': 0.3}, 'moveWS': {'command': 'W', 'weight': 0.5}}, {'moveAD': {'command': 'D', 'weight': 0.3}, 'moveWS': {'command': 'W', 'weight': 0.5}}]\n"
     ]
    },
    {
     "name": "stderr",
     "output_type": "stream",
     "text": [
      "127.0.0.1 - - [02/Jun/2025 12:58:41] \"POST /get_action HTTP/1.1\" 200 -\n",
      "127.0.0.1 - - [02/Jun/2025 12:58:41] \"POST /get_action HTTP/1.1\" 200 -\n"
     ]
    },
    {
     "name": "stdout",
     "output_type": "stream",
     "text": [
      "📍 현재 pos=(150.4,212.6) yaw=100.8 두번째 좌표로 가는 앵글 =90.0 차이 =-10.8\n",
      "🚀 cmd 2개 이상 [{'moveAD': {'command': 'D', 'weight': 0.3}, 'moveWS': {'command': 'W', 'weight': 0.5}}, {'moveAD': {'command': 'D', 'weight': 0.3}, 'moveWS': {'command': 'W', 'weight': 0.5}}]\n"
     ]
    },
    {
     "name": "stderr",
     "output_type": "stream",
     "text": [
      "127.0.0.1 - - [02/Jun/2025 12:58:42] \"POST /get_action HTTP/1.1\" 200 -\n",
      "127.0.0.1 - - [02/Jun/2025 12:58:42] \"POST /get_action HTTP/1.1\" 200 -\n"
     ]
    },
    {
     "name": "stdout",
     "output_type": "stream",
     "text": [
      "📍 현재 pos=(150.4,215.3) yaw=87.8 두번째 좌표로 가는 앵글 =90.0 차이 =2.2\n",
      "🚀 cmd 2개 이상 [{'moveAD': {'command': 'A', 'weight': 0.3}, 'moveWS': {'command': 'W', 'weight': 0.5}}, {'moveAD': {'command': 'A', 'weight': 0.3}, 'moveWS': {'command': 'W', 'weight': 0.5}}]\n"
     ]
    },
    {
     "name": "stderr",
     "output_type": "stream",
     "text": [
      "127.0.0.1 - - [02/Jun/2025 12:58:43] \"POST /get_action HTTP/1.1\" 200 -\n",
      "127.0.0.1 - - [02/Jun/2025 12:58:43] \"POST /get_action HTTP/1.1\" 200 -\n"
     ]
    },
    {
     "name": "stdout",
     "output_type": "stream",
     "text": [
      "📍 현재 pos=(150.4,219.4) yaw=93.3 두번째 좌표로 가는 앵글 =90.0 차이 =-3.3\n",
      "🚀 cmd 2개 이상 [{'moveAD': {'command': 'D', 'weight': 0.3}, 'moveWS': {'command': 'W', 'weight': 0.5}}, {'moveAD': {'command': 'D', 'weight': 0.3}, 'moveWS': {'command': 'W', 'weight': 0.5}}]\n"
     ]
    },
    {
     "name": "stderr",
     "output_type": "stream",
     "text": [
      "127.0.0.1 - - [02/Jun/2025 12:58:44] \"POST /get_action HTTP/1.1\" 200 -\n",
      "127.0.0.1 - - [02/Jun/2025 12:58:44] \"POST /get_action HTTP/1.1\" 200 -\n"
     ]
    },
    {
     "name": "stdout",
     "output_type": "stream",
     "text": [
      "📍 현재 pos=(150.3,224.9) yaw=87.8 두번째 좌표로 가는 앵글 =90.0 차이 =2.2\n",
      "🚀 cmd 2개 이상 [{'moveAD': {'command': 'A', 'weight': 0.3}, 'moveWS': {'command': 'W', 'weight': 0.5}}, {'moveAD': {'command': 'A', 'weight': 0.3}, 'moveWS': {'command': 'W', 'weight': 0.5}}]\n"
     ]
    },
    {
     "name": "stderr",
     "output_type": "stream",
     "text": [
      "127.0.0.1 - - [02/Jun/2025 12:58:45] \"POST /get_action HTTP/1.1\" 200 -\n",
      "127.0.0.1 - - [02/Jun/2025 12:58:45] \"POST /get_action HTTP/1.1\" 200 -\n"
     ]
    },
    {
     "name": "stdout",
     "output_type": "stream",
     "text": [
      "📍 현재 pos=(150.2,231.8) yaw=93.3 두번째 좌표로 가는 앵글 =90.0 차이 =-3.3\n",
      "🚀 cmd 2개 이상 [{'moveAD': {'command': 'D', 'weight': 0.3}, 'moveWS': {'command': 'S', 'weight': 0.2}}, {'moveAD': {'command': 'D', 'weight': 0.3}, 'moveWS': {'command': 'S', 'weight': 0.2}}]\n"
     ]
    },
    {
     "name": "stderr",
     "output_type": "stream",
     "text": [
      "127.0.0.1 - - [02/Jun/2025 12:58:46] \"POST /get_action HTTP/1.1\" 200 -\n",
      "127.0.0.1 - - [02/Jun/2025 12:58:47] \"POST /get_action HTTP/1.1\" 200 -\n"
     ]
    },
    {
     "name": "stdout",
     "output_type": "stream",
     "text": [
      "📍 현재 pos=(150.1,239.3) yaw=87.6 두번째 좌표로 가는 앵글 =90.0 차이 =2.4\n",
      "🚀 cmd 2개 이상 [{'moveAD': {'command': 'A', 'weight': 0.3}, 'moveWS': {'command': 'S', 'weight': 0.2}}, {'moveAD': {'command': 'A', 'weight': 0.3}, 'moveWS': {'command': 'S', 'weight': 0.2}}]\n"
     ]
    },
    {
     "name": "stderr",
     "output_type": "stream",
     "text": [
      "127.0.0.1 - - [02/Jun/2025 12:58:47] \"POST /get_action HTTP/1.1\" 200 -\n",
      "127.0.0.1 - - [02/Jun/2025 12:58:48] \"POST /get_action HTTP/1.1\" 200 -\n"
     ]
    },
    {
     "name": "stdout",
     "output_type": "stream",
     "text": [
      "📍 현재 pos=(150.2,246.1) yaw=92.8 두번째 좌표로 가는 앵글 =90.0 차이 =-2.8\n",
      "🚀 cmd 2개 이상 [{'moveAD': {'command': 'D', 'weight': 0.3}, 'moveWS': {'command': 'S', 'weight': 0.2}}, {'moveAD': {'command': 'D', 'weight': 0.3}, 'moveWS': {'command': 'S', 'weight': 0.2}}]\n"
     ]
    },
    {
     "name": "stderr",
     "output_type": "stream",
     "text": [
      "127.0.0.1 - - [02/Jun/2025 12:58:48] \"POST /get_action HTTP/1.1\" 200 -\n",
      "127.0.0.1 - - [02/Jun/2025 12:58:49] \"POST /get_action HTTP/1.1\" 200 -\n"
     ]
    },
    {
     "name": "stdout",
     "output_type": "stream",
     "text": [
      "📍 현재 pos=(150.1,252.3) yaw=87.6 두번째 좌표로 가는 앵글 =90.0 차이 =2.4\n",
      "🚀 cmd 2개 이상 [{'moveAD': {'command': 'A', 'weight': 0.3}, 'moveWS': {'command': 'S', 'weight': 0.2}}, {'moveAD': {'command': 'A', 'weight': 0.3}, 'moveWS': {'command': 'S', 'weight': 0.2}}]\n"
     ]
    },
    {
     "name": "stderr",
     "output_type": "stream",
     "text": [
      "127.0.0.1 - - [02/Jun/2025 12:58:49] \"POST /get_action HTTP/1.1\" 200 -\n",
      "127.0.0.1 - - [02/Jun/2025 12:58:50] \"POST /get_action HTTP/1.1\" 200 -\n"
     ]
    },
    {
     "name": "stdout",
     "output_type": "stream",
     "text": [
      "📍 현재 pos=(150.1,258.0) yaw=92.9 두번째 좌표로 가는 앵글 =90.0 차이 =-2.9\n",
      "🚀 cmd 2개 이상 [{'moveAD': {'command': 'D', 'weight': 0.3}, 'moveWS': {'command': 'S', 'weight': 0.2}}, {'moveAD': {'command': 'D', 'weight': 0.3}, 'moveWS': {'command': 'S', 'weight': 0.2}}]\n"
     ]
    },
    {
     "name": "stderr",
     "output_type": "stream",
     "text": [
      "127.0.0.1 - - [02/Jun/2025 12:58:50] \"POST /get_action HTTP/1.1\" 200 -\n",
      "127.0.0.1 - - [02/Jun/2025 12:58:51] \"POST /get_action HTTP/1.1\" 200 -\n"
     ]
    },
    {
     "name": "stdout",
     "output_type": "stream",
     "text": [
      "📍 현재 pos=(150.0,263.1) yaw=87.7 두번째 좌표로 가는 앵글 =90.0 차이 =2.3\n",
      "🚀 cmd 2개 이상 [{'moveAD': {'command': 'A', 'weight': 0.3}, 'moveWS': {'command': 'S', 'weight': 0.2}}, {'moveAD': {'command': 'A', 'weight': 0.3}, 'moveWS': {'command': 'S', 'weight': 0.2}}]\n"
     ]
    },
    {
     "name": "stderr",
     "output_type": "stream",
     "text": [
      "127.0.0.1 - - [02/Jun/2025 12:58:51] \"POST /get_action HTTP/1.1\" 200 -\n",
      "127.0.0.1 - - [02/Jun/2025 12:58:52] \"POST /get_action HTTP/1.1\" 200 -\n"
     ]
    },
    {
     "name": "stdout",
     "output_type": "stream",
     "text": [
      "📍 현재 pos=(150.2,268.1) yaw=86.5 두번째 좌표로 가는 앵글 =90.0 차이 =3.5\n",
      "🚀 cmd 2개 이상 [{'moveAD': {'command': 'A', 'weight': 0.3}, 'moveWS': {'command': 'S', 'weight': 0.2}}, {'moveAD': {'command': 'A', 'weight': 0.3}, 'moveWS': {'command': 'S', 'weight': 0.2}}]\n"
     ]
    },
    {
     "name": "stderr",
     "output_type": "stream",
     "text": [
      "127.0.0.1 - - [02/Jun/2025 12:58:52] \"POST /get_action HTTP/1.1\" 200 -\n"
     ]
    },
    {
     "name": "stdout",
     "output_type": "stream",
     "text": [
      "✨ 목표 도달: 전차 정지 플래그 설정\n"
     ]
    },
    {
     "name": "stderr",
     "output_type": "stream",
     "text": [
      "127.0.0.1 - - [02/Jun/2025 12:58:53] \"POST /get_action HTTP/1.1\" 200 -\n",
      "127.0.0.1 - - [02/Jun/2025 12:58:53] \"POST /get_action HTTP/1.1\" 200 -\n",
      "127.0.0.1 - - [02/Jun/2025 12:58:54] \"POST /get_action HTTP/1.1\" 200 -\n",
      "127.0.0.1 - - [02/Jun/2025 12:58:55] \"POST /get_action HTTP/1.1\" 200 -\n",
      "127.0.0.1 - - [02/Jun/2025 12:58:55] \"POST /get_action HTTP/1.1\" 200 -\n",
      "127.0.0.1 - - [02/Jun/2025 12:58:56] \"GET /start HTTP/1.1\" 200 -\n"
     ]
    },
    {
     "name": "stdout",
     "output_type": "stream",
     "text": [
      "start\n"
     ]
    },
    {
     "name": "stderr",
     "output_type": "stream",
     "text": [
      "127.0.0.1 - - [02/Jun/2025 12:58:57] \"GET /start HTTP/1.1\" 200 -\n"
     ]
    },
    {
     "name": "stdout",
     "output_type": "stream",
     "text": [
      "start\n"
     ]
    },
    {
     "name": "stderr",
     "output_type": "stream",
     "text": [
      "127.0.0.1 - - [02/Jun/2025 12:58:58] \"GET /start HTTP/1.1\" 200 -\n"
     ]
    },
    {
     "name": "stdout",
     "output_type": "stream",
     "text": [
      "start\n"
     ]
    },
    {
     "name": "stderr",
     "output_type": "stream",
     "text": [
      "127.0.0.1 - - [02/Jun/2025 12:58:59] \"GET /start HTTP/1.1\" 200 -\n"
     ]
    },
    {
     "name": "stdout",
     "output_type": "stream",
     "text": [
      "start\n"
     ]
    },
    {
     "name": "stderr",
     "output_type": "stream",
     "text": [
      "127.0.0.1 - - [02/Jun/2025 12:59:00] \"GET /start HTTP/1.1\" 200 -\n"
     ]
    },
    {
     "name": "stdout",
     "output_type": "stream",
     "text": [
      "start\n"
     ]
    },
    {
     "name": "stderr",
     "output_type": "stream",
     "text": [
      "127.0.0.1 - - [02/Jun/2025 12:59:01] \"GET /start HTTP/1.1\" 200 -\n"
     ]
    },
    {
     "name": "stdout",
     "output_type": "stream",
     "text": [
      "start\n"
     ]
    },
    {
     "name": "stderr",
     "output_type": "stream",
     "text": [
      "127.0.0.1 - - [02/Jun/2025 12:59:02] \"GET /start HTTP/1.1\" 200 -\n"
     ]
    },
    {
     "name": "stdout",
     "output_type": "stream",
     "text": [
      "start\n"
     ]
    }
   ],
   "source": [
    "# | 현각도 - 목표 각도| 값이 30 이상이면 멈췄다가감 추가_ 희연연\n",
    "# path 2개 이동후 재계산 추가_ 희연\n",
    "# 장애물 근접시 속도 줄이기 추가_김기홍님\n",
    "from flask import Flask, request, jsonify\n",
    "from queue import PriorityQueue\n",
    "import os\n",
    "import torch\n",
    "from ultralytics import YOLO\n",
    "import math\n",
    "import cv2\n",
    "import numpy as np\n",
    "import csv\n",
    "import pandas as pd\n",
    "import matplotlib.pyplot as plt\n",
    "import json\n",
    "\n",
    "# Flask 앱 초기화 및 YOLO 모델 로드\n",
    "app = Flask(__name__)\n",
    "model = YOLO('yolov8n.pt')\n",
    "\n",
    "# 전역 설정값 및 변수 초기화\n",
    "GRID_SIZE = 300  # 맵 크기\n",
    "maze = [[0 for _ in range(GRID_SIZE)] for _ in range(GRID_SIZE)]  # 장애물 맵\n",
    "\n",
    "# 내 전차 시작 위치\n",
    "start_x = 50\n",
    "start_z = 50\n",
    "start = (start_x, start_z)\n",
    "# 최종 목적지 위치 - 적 전차도 이 위치에 갖다 놓음.\n",
    "destination_x = 150\n",
    "destination_z = 275\n",
    "destination = (destination_x, destination_z)\n",
    "print(f\"🕜️ 초기 destination 설정: {destination}\")\n",
    "\n",
    "INITIAL_YAW = 90.0  # 초기 YAW 값 - 맨 처음 전차의 방향이 0도이기 때문에 0.0 줌. 이를  \n",
    "current_yaw = INITIAL_YAW  # 현재 차체 방향 추정치 -> playerBodyX로 바꾸면 좋겠으나 실패... playerBodyX의 정보를 받아 오는데 딜레이가 걸린다면 지금처럼 current_yaw값 쓰는게 좋다고 함(by GPT)\n",
    "previous_position = None  # 이전 위치 (yaw 계산용)\n",
    "target_reached = False  # 목표 도달 유무 플래그\n",
    "current_angle = 0.0  # 실제 플레이어의 차체 각도 저장용 (degree) -> playerBodyX 받아오는 방법 사용해 볼 것임.\n",
    "\n",
    "# 시각화 관련 부분\n",
    "\n",
    "# 이동 경로 그림 그릴 때 필요함.\n",
    "current_position = None\n",
    "last_position = None\n",
    "position_history = []\n",
    "\n",
    "# A* 알고리즘 관련 클래스 및 함수 정의\n",
    "class Node:\n",
    "    def __init__(self, position, parent=None):\n",
    "        self.position = position\n",
    "        self.parent = parent\n",
    "        self.g = 0\n",
    "        self.h = 0\n",
    "        self.f = 0\n",
    "    def __lt__(self, other):\n",
    "        return self.f < other.f\n",
    "\n",
    "def heuristic(a, b):\n",
    "    return abs(a[0] - b[0]) + abs(a[1] - b[1])\n",
    "\n",
    "def get_neighbors(pos):\n",
    "    neighbors = []\n",
    "    for dx, dz in [(-1,0),(1,0),(0,-1),(0,1),(-1,-1),(-1,1),(1,-1),(1,1)]:\n",
    "        x, z = pos[0] + dx, pos[1] + dz\n",
    "        if 0 <= x < GRID_SIZE and 0 <= z < GRID_SIZE:\n",
    "            # 대각선 이동일 경우 추가 확인\n",
    "            if dx != 0 and dz != 0:\n",
    "                if maze[pos[1]][x] == 1 or maze[z][pos[0]] == 1:\n",
    "                    continue  # 대각선 경로에 인접한 직선 중 하나라도 막혀있으면 skip # 즉 모서리를 못 뚫고 지나가게 수정\n",
    "            if maze[z][x] == 0: \n",
    "                neighbors.append((x, z))\n",
    "    return neighbors\n",
    "\n",
    "def a_star(start, goal):\n",
    "    open_set = PriorityQueue()\n",
    "    open_set.put((0, Node(start)))\n",
    "    closed = set()\n",
    "    while not open_set.empty():\n",
    "        _, current = open_set.get()\n",
    "        if current.position == goal:\n",
    "            path = []\n",
    "            while current:\n",
    "                path.append(current.position)\n",
    "                current = current.parent\n",
    "            return path[::-1]\n",
    "        closed.add(current.position)\n",
    "        for nbr in get_neighbors(current.position):\n",
    "            if nbr in closed: continue\n",
    "            node = Node(nbr, current)\n",
    "            node.g = current.g + 1\n",
    "            node.h = heuristic(nbr, goal)\n",
    "            node.f = node.g + node.h\n",
    "            open_set.put((node.f, node))\n",
    "    return [start]\n",
    "\n",
    "path = a_star(start, destination)  # 현재 A* 결과\n",
    "\n",
    "# 현재 위치와 다음 위치 간 각도 계산 함수\n",
    "def calculate_angle(current, next_pos): # A*알고리즘을 통해서 어디로 갈지 전체 경로를 정했기 때문에 다음 위치로만 가면 됨.\n",
    "    dx = next_pos[0] - current[0]\n",
    "    dz = next_pos[1] - current[1]\n",
    "    return (math.degrees(math.atan2(dz, dx)) + 360) % 360\n",
    "\n",
    "# 전방 장애물 감지 함수_ 기홍님 추가 _0602_ 아침에 깃허브에서 받음\n",
    "# 함수 설명:이동하기 전에, 지금 위치와 현재 바라보는 방향(yaw)을 기준으로 \n",
    "# 앞으로 radius만큼 한 칸씩 쭉 살펴봐서, 장애물(maze에서 1로 표시된 곳)이 있으면 미리 감지. \n",
    "# 그래서 아직 이동하지 않았어도 앞으로 막히는지 미리 확인 가능.\n",
    "def is_obstacle_ahead(pos, yaw, maze, radius=30):\n",
    "    \"\"\"\n",
    "    현재 yaw(도 단위) 방향 기준 전방 radius만큼 검사.\n",
    "    장애물(maze=1)이 있으면 True 리턴.\n",
    "    \"\"\"\n",
    "    x, z = pos   # 현좌표\n",
    "    rad = math.radians(yaw)   # 현각도 라디안으로 변경\n",
    "    dx = math.cos(rad)       \n",
    "    dz = math.sin(rad)\n",
    "\n",
    "    for step in range(1, radius + 1):\n",
    "        nx = int(round(x + dx * step))\n",
    "        nz = int(round(z + dz * step))\n",
    "        if 0 <= nx < GRID_SIZE and 0 <= nz < GRID_SIZE:\n",
    "            if maze[nz][nx] == 1:\n",
    "                print(f\"⚠️ 전방 장애물 감지: ({nx},{nz})\")\n",
    "                return True\n",
    "    return False\n",
    "\n",
    "\n",
    "# 장애물 맵 유효 위치 확인\n",
    "def is_valid_pos(pos, size=GRID_SIZE): # 장애물이 300x300 안에 있는지 확인\n",
    "    x, z = pos\n",
    "    return 0 <= x < size and 0 <= z < size\n",
    "\n",
    "# Flask API 라우팅 시작\n",
    "@app.route('/init', methods=['GET'])\n",
    "def init():\n",
    "    global current_yaw, previous_position, target_reached\n",
    "    current_yaw = INITIAL_YAW\n",
    "    previous_position = None\n",
    "    target_reached = False\n",
    "\n",
    "    config = {\n",
    "        \"startMode\": \"start\",\n",
    "        \"blStartX\": start_x, \"blStartY\": 10, \"blStartZ\": start_z,\n",
    "        \"rdStartX\": destination_x, \"rdStartY\": 10, \"rdStartZ\": destination_z,\n",
    "        \"trackingMode\": False, \"detectMode\": False, \"logMode\": False,\n",
    "        \"enemyTracking\": False, \"saveSnapshot\": False,\n",
    "        \"saveLog\": False, \"saveLidarData\": False, \"lux\": 30000\n",
    "    }\n",
    "    print(\"🛠️ /init config:\", config)\n",
    "    return jsonify(config)\n",
    "\n",
    "# 여기 리스트에 cmd 2개를 넣는다\n",
    "combined_command_cache = []\n",
    "\n",
    "@app.route('/get_action', methods=['POST'])\n",
    "def get_action():\n",
    "    global target_reached, previous_position, current_yaw, current_position, last_position\n",
    "    data = request.get_json(force=True)\n",
    "    pos = data.get('position', {})\n",
    "    pos_x = float(pos.get('x', 0))\n",
    "    pos_z = float(pos.get('z', 0))\n",
    "\n",
    "    if not target_reached and math.hypot(pos_x - destination[0], pos_z - destination[1]) < 5.0:\n",
    "        target_reached = True\n",
    "        print(\"✨ 목표 도달: 전차 정지 플래그 설정\")\n",
    "        \n",
    "    if target_reached:\n",
    "        stop_cmd = {k: {'command': 'STOP', 'weight': 1.0} for k in ['moveWS', 'moveAD']}\n",
    "        return jsonify(stop_cmd)\n",
    "\n",
    "    if previous_position is not None:\n",
    "        dx = pos_x - previous_position[0]\n",
    "        dz = pos_z - previous_position[1]\n",
    "        if math.hypot(dx, dz) > 0.01:\n",
    "            current_yaw = (math.degrees(math.atan2(dz, dx)) + 360) % 360\n",
    "    previous_position = (pos_x, pos_z)\n",
    "\n",
    "    current_grid = (int(pos_x), int(pos_z))\n",
    "    path = a_star(current_grid, destination)\n",
    "\n",
    "    ####################### 여기서부터 해보기 (희연)################################################################\n",
    "    # 2 좌표 이동한 후. astar(현좌표, 최종목적지) 함수 실행해서 path 새로 뽑기 반복\n",
    "\n",
    "    # 예전 코드\n",
    "    # next_grid = path[1] if len(path) > 1 else current_grid\n",
    "\n",
    "    if combined_command_cache:\n",
    "    # 캐시에 남은 명령이 있으면 그걸 먼저 보내고 pop\n",
    "        cmd = combined_command_cache.pop(0)\n",
    "        return jsonify(cmd)\n",
    "\n",
    "    \n",
    "    if len(path) > 2:   # 최종목적지까지 3개 이상의 좌표가 남았으면 \n",
    "        next_grid = path[1:3]  # 두번째 좌표 참조\n",
    "    elif len(path) > 1:          # 최종목적지까지 2개 이하의 좌표가 남았으면 \n",
    "        next_grid = [path[1]]      # 한개씩 참조  \n",
    "    else: \n",
    "        next_grid = current_grid   # 0개면 멈춰라! 도착한거니까!\n",
    "\n",
    "    for i in range(len(next_grid)):  # 두개의 좌표가 맵을 빠져나기지 않는지 확인 # 0, 1\n",
    "\n",
    "        # next_grid[1]의 회전 각도는 current 가 아니라 next_grid[0]에서 게산해야 맞음 \n",
    "        base_pos = current_grid if i == 0 else next_grid[i - 1]  \n",
    "    \n",
    "        if not is_valid_pos(next_grid[i]):  # 가야하는 곳이 맵 외에 있으면 움직이는거 멈춤\n",
    "            stop_cmd = {k: {'command': '', 'weight': 0.0} for k in ['moveWS', 'moveAD']}\n",
    "            stop_cmd['fire'] = False\n",
    "            return jsonify(stop_cmd)\n",
    "\n",
    "        target_angle = calculate_angle(base_pos, next_grid[i])  # 현재 좌표에서 두번째 좌표로\n",
    "        diff = (target_angle - current_yaw + 360) % 360   # 현 각도랑 틀어야할 각도 차이 알아내고\n",
    "        if diff > 180:  # 이거는 정규화 비슷\n",
    "            diff -= 360\n",
    "\n",
    "        # 이건 그냥 유클리드 거리. sqrt는 제곱근! 현위치랑 목적좌표까지의 거리 \n",
    "        distance = math.sqrt((pos_x - destination[0])**2 + (pos_z - destination[1])**2)\n",
    "\n",
    "        # 전방 장애물 감지 _ 기홍님이 새로 추가 0602_ 오늘 아침에 깃허브에서 받음\n",
    "        ahead_obstacle = is_obstacle_ahead(base_pos, current_yaw, maze)\n",
    "\n",
    "        if distance < 50 :   # 앞으로 가는 weight\n",
    "            w_weight = 0.2\n",
    "            acceleration = 'S'\n",
    "        elif ahead_obstacle:\n",
    "            w_weight = 0.2  # 전방에 장애물 있을 경우 감속\n",
    "            acceleration = 'S'\n",
    "        else:\n",
    "            w_weight = 0.5\n",
    "            acceleration = 'W'\n",
    "\n",
    "\n",
    "        # 각도가 많이 꺾이면 멈췄다가 가기_희연 \n",
    "        #여기에 추가로 stop을 넣어야함.\n",
    "        abs_diff = abs(diff)\n",
    "        stop = 30 <= abs_diff # 틀어야하는 각도가 30도 이상이면 stop 은 true! 그 아래면 false!!\n",
    "\n",
    "        if 0 < abs_diff < 30 :  \n",
    "            w_degree = 0.3\n",
    "        elif 30 <= abs_diff < 60 :    \n",
    "            w_degree = 0.6\n",
    "        elif 60 <= abs_diff < 90 : \n",
    "            w_degree = 0.75\n",
    "        else :\n",
    "            w_degree = 1.0\n",
    "    \n",
    "        forward = {'command': acceleration, 'weight': w_weight}\n",
    "        turn = {'command': 'A' if diff > 0 else 'D', 'weight': w_degree}\n",
    "\n",
    "        cmd = {\n",
    "            'moveAD': turn,\n",
    "            'moveWS': forward  # 여기 바꿈꿈\n",
    "        }\n",
    "\n",
    "        combined_command_cache.append(cmd)   # 두 좌표에 대한 명령값 2개가 여기 리스트에 저장됨\n",
    "\n",
    "        if stop:\n",
    "            print(\"멈추고 갈게요!\")\n",
    "            cmd_stop = {\n",
    "                'moveWS': {'command': \"STOP\", 'weight': 1.0},\n",
    "                'moveAD': {'command': \"\", 'weight': 0.0}\n",
    "            }\n",
    "\n",
    "            combined_command_cache.append(cmd_stop)\n",
    "\n",
    "    # 처음 1회 A* 경로 계산_ 기홍님이 새로 추가\n",
    "    if len(position_history) == 0:\n",
    "        path = a_star((int(pos_x), int(pos_z)), destination)  # 현 위치에서 최종 목적지까지 다시 계산\n",
    "        df = pd.DataFrame(path, columns=[\"x\", \"z\"])\n",
    "        df.to_csv(\"a_star_path.csv\", index=False)\n",
    "\n",
    "    \n",
    "    if current_grid:\n",
    "        last_position = current_grid\n",
    "    position_history.append(current_grid)\n",
    "    \n",
    "    df = pd.DataFrame(position_history, columns=[\"x\", \"z\"])\n",
    "    df.to_csv(\"tank_path0.csv\", index=False)\n",
    "\n",
    "\n",
    "    # print문 살짝 수정-희연\n",
    "    print(f\"📍 현재 pos=({pos_x:.1f},{pos_z:.1f}) yaw={current_yaw:.1f} 두번째 좌표로 가는 앵글 ={target_angle:.1f} 차이 ={diff:.1f}\")\n",
    "    print(f\"🚀 cmd 2개 이상 {combined_command_cache}\")\n",
    "    return jsonify(combined_command_cache.pop(0))\n",
    "\n",
    "\n",
    "\n",
    "@app.route('/set_destination', methods=['POST'])\n",
    "def set_destination():\n",
    "    global destination\n",
    "    data = request.get_json()\n",
    "    if not data or 'destination' not in data:\n",
    "        return jsonify({'status': 'ERROR', 'message': 'Missing destination'}), 400\n",
    "    try:\n",
    "        x, y, z = map(float, data['destination'].split(','))\n",
    "        destination = (int(x), int(z))\n",
    "        print(f\"🎯 destination set to: {destination}\")\n",
    "        return jsonify({'status': 'OK', 'destination': {'x': x, 'y': y, 'z': z}})\n",
    "    except Exception as e:\n",
    "        return jsonify({'status': 'ERROR', 'message': str(e)}), 400\n",
    "\n",
    "@app.route('/start', methods=['GET'])\n",
    "def start():\n",
    "    print('start')\n",
    "    return jsonify({'control': ''})\n",
    "\n",
    "@app.route('/collision', methods=['POST'])\n",
    "def collision():\n",
    "    d = request.get_json(force=True)\n",
    "    obj = d.get('objectName')\n",
    "    p = d.get('position', {})\n",
    "    print(f\"Collision {obj} at ({p.get('x')},{p.get('y')},{p.get('z')})\")\n",
    "    return jsonify({'status': 'success', 'message': 'Collision received'})\n",
    "\n",
    "\n",
    "original_obstacles = []  # 원본 장애물 좌표 저장용 (버퍼 없이)\n",
    "\n",
    "@app.route('/update_obstacle', methods=['POST'])\n",
    "def update_obstacle():\n",
    "    global maze, original_obstacles\n",
    "    data = request.get_json(force=True)\n",
    "\n",
    "    obstacles = data.get(\"obstacles\", [])\n",
    "    print(f\"🪨 장애물 업데이트 요청: {len(obstacles)}개\")\n",
    "\n",
    "    for obs in obstacles:\n",
    "        try:\n",
    "            # 원본 좌표 저장 (시각화용)\n",
    "            original_obstacles.append({\n",
    "                \"x_min\": int(obs[\"x_min\"]),\n",
    "                \"x_max\": int(obs[\"x_max\"]),\n",
    "                \"z_min\": int(obs[\"z_min\"]),\n",
    "                \"z_max\": int(obs[\"z_max\"]),\n",
    "            })\n",
    "\n",
    "            # A* 계산용 좌표는 buffer 포함\n",
    "            buffer = 7\n",
    "            x_min = max(0, int(obs[\"x_min\"]) - buffer)\n",
    "            x_max = min(GRID_SIZE - 1, int(obs[\"x_max\"]) + buffer)\n",
    "            z_min = max(0, int(obs[\"z_min\"]) - buffer)\n",
    "            z_max = min(GRID_SIZE - 1, int(obs[\"z_max\"]) + buffer)\n",
    "\n",
    "            for x in range(x_min, x_max + 1):\n",
    "                for z in range(z_min, z_max + 1):\n",
    "                    maze[z][x] = 1\n",
    "\n",
    "        except KeyError as e:\n",
    "            print(f\"❌ 누락된 키: {e}\")\n",
    "\n",
    "    # 장애물 저장 (옵션)\n",
    "    np.save(\"maze.npy\", np.array(maze))\n",
    "    np.savetxt(\"maze.csv\", np.array(maze), fmt=\"%d\", delimiter=\",\")\n",
    "\n",
    "    # ✅ 원본 장애물 저장\n",
    "    try:\n",
    "        json_path = os.path.join(os.path.dirname(__file__), \"original_obstacles.json\")\n",
    "        with open(json_path, \"w\") as f:\n",
    "            json.dump(original_obstacles, f, indent=2)\n",
    "        print(\"✅ original_obstacles.json 저장 완료!\")\n",
    "    except Exception as e:\n",
    "        print(f\"❌ JSON 저장 실패: {e}\")\n",
    "\n",
    "    return jsonify({\"status\": \"OK\", \"count\": len(obstacles)})\n",
    "\n",
    "\n",
    "\n",
    "@app.route('/info', methods=['POST'])\n",
    "def info():\n",
    "    data = request.get_json(force=True)\n",
    "    if not data:\n",
    "        return jsonify({\"error\": \"No JSON received\"}), 400\n",
    "\n",
    "    # 전체 구조 출력 (디버그용)\n",
    "    # print(\"📨 /info data received:\", data)\n",
    "\n",
    "    # playerBodyX에서 각도 추출\n",
    "    global current_angle\n",
    "    current_angle = float(data.get(\"playerBodyX\", current_angle))\n",
    "\n",
    "    return jsonify({\"status\": \"success\"})\n",
    "\n",
    "# 서버 실행\n",
    "if __name__ == '__main__':\n",
    "    app.run(host='0.0.0.0', port=5000)"
   ]
  },
  {
   "cell_type": "markdown",
   "id": "d13a24a3-bbc3-41ea-923b-bb8330e7986d",
   "metadata": {},
   "source": [
    "---\n",
    "멈추고 갈게요!  \n",
    "📍 현재 pos=(149.2,187.3) yaw=90.0 두번째 좌표로 가는 앵글 =90.0 차이 =0.0  \n",
    "🚀 cmd 2개 이상 [{'moveWS': {'command': 'W', 'weight': 0.5}, 'moveAD': {'command': 'D', 'weight': 0.6}}, {'moveWS': {'command': 'STOP', 'weight': 1.0}, 'moveAD': {'command': '', 'weight': 0.0}}, {'moveWS': {'command': 'W', 'weight': 0.5}, 'moveAD': {'command': 'D', 'weight': 1.0}}]  \n",
    "\n",
    "멈추기는 멈추는데 "
   ]
  },
  {
   "cell_type": "code",
   "execution_count": 20,
   "id": "aa896709-8c1d-4a95-9bb7-ab8011a68114",
   "metadata": {},
   "outputs": [
    {
     "data": {
      "image/png": "[encoded data removed]",
      "text/plain": [
       "<Figure size 800x800 with 1 Axes>"
      ]
     },
     "metadata": {},
     "output_type": "display_data"
    }
   ],
   "source": [
    "import numpy as np\n",
    "import pandas as pd\n",
    "import matplotlib.pyplot as plt\n",
    "import requests\n",
    "\n",
    "# 데이터 불러오기\n",
    "df = pd.read_csv(\"tank_path0.csv\")\n",
    "maze = np.load(\"maze.npy\")  # 저장된 장애물 정보\n",
    "x_path = df[\"x\"]\n",
    "z_path = df[\"z\"]\n",
    "\n",
    "# 시작/도착 지점\n",
    "start_x, start_z = 50, 50\n",
    "destination_x, destination_z = 150, 275\n",
    "\n",
    "plt.figure(figsize=(8, 8))\n",
    "\n",
    "# 장애물 시각화\n",
    "obstacle_coords = np.argwhere(maze == 1)\n",
    "if len(obstacle_coords) > 0:\n",
    "    obs_x = obstacle_coords[:, 0]\n",
    "    obs_z = obstacle_coords[:, 1]\n",
    "    plt.scatter(obs_x, obs_z, color='black', s=10, label=\"Obstacle\")\n",
    "\n",
    "# 이동 경로\n",
    "plt.plot(x_path, z_path, marker='o', color='blue', linewidth=2, label=\"Path\")\n",
    "\n",
    "# 시작점/도착점\n",
    "plt.scatter(start_x, start_z, color='green', s=100, label=\"Start\", marker='s')\n",
    "plt.scatter(destination_x, destination_z, color='red', s=100, label=\"Destination\", marker='*')\n",
    "\n",
    "# 마무리\n",
    "plt.title(\"Tank Movement Path with Obstacles\")\n",
    "plt.xlabel(\"X Position\")\n",
    "plt.ylabel(\"Z Position\")\n",
    "plt.grid(True)\n",
    "plt.axis(\"equal\")\n",
    "plt.legend()\n",
    "plt.tight_layout()\n",
    "plt.savefig(\"tank_path_with_obstacles.png\")\n",
    "plt.show()\n",
    "\n",
    "\n",
    "# 이동 경로 그림 그릴 때 필요함.\n",
    "current_position = None\n",
    "last_position = None\n",
    "position_history = []\n",
    "\n",
    "# /get action 안에 넣을 것\n",
    "\n",
    "#     if current_grid:\n",
    "#         last_position = current_grid\n",
    "#     position_history.append(current_grid)\n",
    "    \n",
    "#     df = pd.DataFrame(position_history, columns=[\"x\", \"z\"])\n",
    "#     df.to_csv(\"tank_path0.csv\", index=False)"
   ]
  },
  {
   "cell_type": "code",
   "execution_count": null,
   "id": "71792f09-d661-40f5-a2cc-7242df9f70cc",
   "metadata": {},
   "outputs": [],
   "source": []
  }
 ],
 "metadata": {
  "kernelspec": {
   "display_name": "keras_env",
   "language": "python",
   "name": "keras_env"
  },
  "language_info": {
   "codemirror_mode": {
    "name": "ipython",
    "version": 3
   },
   "file_extension": ".py",
   "mimetype": "text/x-python",
   "name": "python",
   "nbconvert_exporter": "python",
   "pygments_lexer": "ipython3",
   "version": "3.10.16"
  }
 },
 "nbformat": 4,
 "nbformat_minor": 5
}
